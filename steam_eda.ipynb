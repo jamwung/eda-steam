{
 "cells": [
  {
   "cell_type": "code",
   "execution_count": 1,
   "id": "d2b9f278",
   "metadata": {
    "ExecuteTime": {
     "end_time": "2022-09-07T09:52:12.759468Z",
     "start_time": "2022-09-07T09:52:08.626093Z"
    }
   },
   "outputs": [],
   "source": [
    "import pandas as pd \n",
    "import matplotlib.pyplot as plt \n",
    "import matplotlib.ticker as ticker\n",
    "import seaborn as sns\n",
    "import numpy as np\n",
    "\n",
    "import datetime\n",
    "import matplotlib.dates as mdates\n",
    "\n",
    "sns.set_style('whitegrid')\n",
    "\n",
    "plt.rcParams['figure.figsize'] = [15, 10]"
   ]
  },
  {
   "cell_type": "markdown",
   "id": "4a3ddf25",
   "metadata": {},
   "source": [
    "# Key business questions\n",
    "\n",
    "What game licenses should I buy next?\n",
    "1. Which are the paid games with the highest/lowest `total_revenue` and `ratings`.\n",
    "    - What genres are the most popular?\n",
    "2. Does the identity of the developer matter for choosing the next game license I should buy?\n",
    "    - Connect developers to genre. Check popular developers in each genre.\n",
    "    - Look into the track record/portfolio of games of the notable developers.\n",
    "        - filter in rows containing `genre`.\n",
    "    - Value of answering question: it will allow Valve to antipicate upcoming games of certain developers.\n",
    "3. What is the optimal price range of a game (by genre by owner group) that Steam should prioritize?"
   ]
  },
  {
   "cell_type": "markdown",
   "id": "2bba7c46",
   "metadata": {
    "heading_collapsed": true
   },
   "source": [
    "## Question dump"
   ]
  },
  {
   "cell_type": "markdown",
   "id": "336da398",
   "metadata": {
    "hidden": true
   },
   "source": [
    "<s>\n",
    "**As Valve**\n",
    "1. What should a company make for their next game?\n",
    "2. Compare free to play games and paid games in terms of `total_revenue` and `ratings` \n",
    "\n",
    "    Definitions:\n",
    "    \\begin{align}\n",
    "    \\text{total revenue} &= \\text{midpoint of owners} \\times \\text{price}\n",
    "    \\end{align}\n",
    "    \n",
    "    \\begin{align}\n",
    "    \\text{ratings} &= \\frac{\\text{positive ratings}}{\\text{total ratings}} \\times 100\n",
    "    \\end{align}\n",
    "    \n",
    "    Let's use $\\geq 80\\%$ as high score?\n",
    "3. What are the kind of paid games with lowest `total_revenue` and `ratings`?\n",
    "4. What gaming companies do gamers prefer?\n",
    "    - Which companies have a lot of successful games? (look at revenue, ratings, genre, owners)\n",
    "5. <s>Multiplayer servers that they can shut down (to reduce costs).</s>\n",
    "\n",
    "---\n",
    "**As an avid Steam gamer**\n",
    "1. What gaming genres should a gamer try out?\n",
    "2. What gaming companies should a gamer look out for?\n",
    "    - Which companies have a lot of successful games? (look at revenue, ratings, genre, owners)\n",
    "2. What games have a high `total_revenue`, `ratings`, and is owned by at least $10$ million gamers?\n",
    "3. Analyze the `average_playtime` by `year` (create a trend line).\n",
    "\n",
    "---\n",
    "**As a parent of a Steam gamer**\n",
    "1. Are we assured that games for 3 to 16 years old and games with no `restricted_age` are child-friendly?\n",
    "    Definitions:\n",
    "    Child-friendly - Games with no violence, gore, nudity or sexual content\n",
    "\n",
    "    To do:\n",
    "    Look for violent, gore, nudity or sexual content `genres` for games that have no `restricted_age` and\n",
    "    games for 3 to 16 years old.\n",
    "\n",
    "    We can also check in `steamspy_tags` but it has 339 tags.\n",
    "\n",
    "2. What is the average `price` of games for 3 to 16 years old and games with no `required_age` and are also child-friendly?\n",
    "\n",
    "3. What are some educational (`education` in `genres`) games for 3 to 16 years old and games with no age restrictions?</s>\n"
   ]
  },
  {
   "cell_type": "markdown",
   "id": "6347524e",
   "metadata": {},
   "source": [
    "# Understanding the data"
   ]
  },
  {
   "cell_type": "markdown",
   "id": "f9734a9b",
   "metadata": {},
   "source": [
    "## Loading the dataframe"
   ]
  },
  {
   "cell_type": "code",
   "execution_count": 2,
   "id": "33a70a0d",
   "metadata": {
    "ExecuteTime": {
     "end_time": "2022-09-07T09:52:13.302993Z",
     "start_time": "2022-09-07T09:52:12.772222Z"
    },
    "scrolled": false
   },
   "outputs": [
    {
     "data": {
      "text/html": [
       "<div>\n",
       "<style scoped>\n",
       "    .dataframe tbody tr th:only-of-type {\n",
       "        vertical-align: middle;\n",
       "    }\n",
       "\n",
       "    .dataframe tbody tr th {\n",
       "        vertical-align: top;\n",
       "    }\n",
       "\n",
       "    .dataframe thead th {\n",
       "        text-align: right;\n",
       "    }\n",
       "</style>\n",
       "<table border=\"1\" class=\"dataframe\">\n",
       "  <thead>\n",
       "    <tr style=\"text-align: right;\">\n",
       "      <th></th>\n",
       "      <th>appid</th>\n",
       "      <th>name</th>\n",
       "      <th>release_date</th>\n",
       "      <th>developer</th>\n",
       "      <th>publisher</th>\n",
       "      <th>platforms</th>\n",
       "      <th>required_age</th>\n",
       "      <th>categories</th>\n",
       "      <th>genres</th>\n",
       "      <th>steamspy_tags</th>\n",
       "      <th>achievements</th>\n",
       "      <th>positive_ratings</th>\n",
       "      <th>negative_ratings</th>\n",
       "      <th>average_playtime</th>\n",
       "      <th>median_playtime</th>\n",
       "      <th>owners</th>\n",
       "      <th>price</th>\n",
       "    </tr>\n",
       "  </thead>\n",
       "  <tbody>\n",
       "    <tr>\n",
       "      <th>0</th>\n",
       "      <td>50</td>\n",
       "      <td>Half-Life: Opposing Force</td>\n",
       "      <td>1999-11-01</td>\n",
       "      <td>Gearbox Software</td>\n",
       "      <td>Valve</td>\n",
       "      <td>windows;mac;linux</td>\n",
       "      <td>0</td>\n",
       "      <td>Single-player;Multi-player;Valve Anti-Cheat en...</td>\n",
       "      <td>Action</td>\n",
       "      <td>FPS;Action;Sci-fi</td>\n",
       "      <td>0</td>\n",
       "      <td>5250</td>\n",
       "      <td>288</td>\n",
       "      <td>624</td>\n",
       "      <td>415</td>\n",
       "      <td>5000000-10000000</td>\n",
       "      <td>3.99</td>\n",
       "    </tr>\n",
       "    <tr>\n",
       "      <th>1</th>\n",
       "      <td>130</td>\n",
       "      <td>Half-Life: Blue Shift</td>\n",
       "      <td>2001-06-01</td>\n",
       "      <td>Gearbox Software</td>\n",
       "      <td>Valve</td>\n",
       "      <td>windows;mac;linux</td>\n",
       "      <td>0</td>\n",
       "      <td>Single-player</td>\n",
       "      <td>Action</td>\n",
       "      <td>FPS;Action;Sci-fi</td>\n",
       "      <td>0</td>\n",
       "      <td>3822</td>\n",
       "      <td>420</td>\n",
       "      <td>361</td>\n",
       "      <td>205</td>\n",
       "      <td>5000000-10000000</td>\n",
       "      <td>3.99</td>\n",
       "    </tr>\n",
       "    <tr>\n",
       "      <th>2</th>\n",
       "      <td>1002</td>\n",
       "      <td>Rag Doll Kung Fu</td>\n",
       "      <td>2005-10-12</td>\n",
       "      <td>Mark Healey</td>\n",
       "      <td>Mark Healey</td>\n",
       "      <td>windows</td>\n",
       "      <td>0</td>\n",
       "      <td>Single-player;Multi-player</td>\n",
       "      <td>Indie</td>\n",
       "      <td>Indie;Fighting;Multiplayer</td>\n",
       "      <td>0</td>\n",
       "      <td>40</td>\n",
       "      <td>17</td>\n",
       "      <td>0</td>\n",
       "      <td>0</td>\n",
       "      <td>20000-50000</td>\n",
       "      <td>5.99</td>\n",
       "    </tr>\n",
       "    <tr>\n",
       "      <th>3</th>\n",
       "      <td>1200</td>\n",
       "      <td>Red Orchestra: Ostfront 41-45</td>\n",
       "      <td>2006-03-14</td>\n",
       "      <td>Tripwire Interactive</td>\n",
       "      <td>Tripwire Interactive</td>\n",
       "      <td>windows;mac;linux</td>\n",
       "      <td>0</td>\n",
       "      <td>Multi-player;Steam Achievements;Valve Anti-Che...</td>\n",
       "      <td>Action</td>\n",
       "      <td>World War II;Action;FPS</td>\n",
       "      <td>44</td>\n",
       "      <td>1562</td>\n",
       "      <td>223</td>\n",
       "      <td>232</td>\n",
       "      <td>258</td>\n",
       "      <td>500000-1000000</td>\n",
       "      <td>3.99</td>\n",
       "    </tr>\n",
       "    <tr>\n",
       "      <th>4</th>\n",
       "      <td>1250</td>\n",
       "      <td>Killing Floor</td>\n",
       "      <td>2009-05-14</td>\n",
       "      <td>Tripwire Interactive</td>\n",
       "      <td>Tripwire Interactive</td>\n",
       "      <td>windows;mac;linux</td>\n",
       "      <td>0</td>\n",
       "      <td>Single-player;Multi-player;Co-op;Cross-Platfor...</td>\n",
       "      <td>Action</td>\n",
       "      <td>FPS;Zombies;Co-op</td>\n",
       "      <td>285</td>\n",
       "      <td>53710</td>\n",
       "      <td>2649</td>\n",
       "      <td>1328</td>\n",
       "      <td>306</td>\n",
       "      <td>2000000-5000000</td>\n",
       "      <td>14.99</td>\n",
       "    </tr>\n",
       "    <tr>\n",
       "      <th>...</th>\n",
       "      <td>...</td>\n",
       "      <td>...</td>\n",
       "      <td>...</td>\n",
       "      <td>...</td>\n",
       "      <td>...</td>\n",
       "      <td>...</td>\n",
       "      <td>...</td>\n",
       "      <td>...</td>\n",
       "      <td>...</td>\n",
       "      <td>...</td>\n",
       "      <td>...</td>\n",
       "      <td>...</td>\n",
       "      <td>...</td>\n",
       "      <td>...</td>\n",
       "      <td>...</td>\n",
       "      <td>...</td>\n",
       "      <td>...</td>\n",
       "    </tr>\n",
       "    <tr>\n",
       "      <th>26531</th>\n",
       "      <td>1065230</td>\n",
       "      <td>Room of Pandora</td>\n",
       "      <td>2019-04-24</td>\n",
       "      <td>SHEN JIAWEI</td>\n",
       "      <td>SHEN JIAWEI</td>\n",
       "      <td>windows</td>\n",
       "      <td>0</td>\n",
       "      <td>Single-player;Steam Achievements</td>\n",
       "      <td>Adventure;Casual;Indie</td>\n",
       "      <td>Adventure;Indie;Casual</td>\n",
       "      <td>7</td>\n",
       "      <td>3</td>\n",
       "      <td>0</td>\n",
       "      <td>0</td>\n",
       "      <td>0</td>\n",
       "      <td>0-20000</td>\n",
       "      <td>2.09</td>\n",
       "    </tr>\n",
       "    <tr>\n",
       "      <th>26532</th>\n",
       "      <td>1065570</td>\n",
       "      <td>Cyber Gun</td>\n",
       "      <td>2019-04-23</td>\n",
       "      <td>Semyon Maximov</td>\n",
       "      <td>BekkerDev Studio</td>\n",
       "      <td>windows</td>\n",
       "      <td>0</td>\n",
       "      <td>Single-player</td>\n",
       "      <td>Action;Adventure;Indie</td>\n",
       "      <td>Action;Indie;Adventure</td>\n",
       "      <td>0</td>\n",
       "      <td>8</td>\n",
       "      <td>1</td>\n",
       "      <td>0</td>\n",
       "      <td>0</td>\n",
       "      <td>0-20000</td>\n",
       "      <td>1.69</td>\n",
       "    </tr>\n",
       "    <tr>\n",
       "      <th>26533</th>\n",
       "      <td>1065650</td>\n",
       "      <td>Super Star Blast</td>\n",
       "      <td>2019-04-24</td>\n",
       "      <td>EntwicklerX</td>\n",
       "      <td>EntwicklerX</td>\n",
       "      <td>windows</td>\n",
       "      <td>0</td>\n",
       "      <td>Single-player;Multi-player;Co-op;Shared/Split ...</td>\n",
       "      <td>Action;Casual;Indie</td>\n",
       "      <td>Action;Indie;Casual</td>\n",
       "      <td>24</td>\n",
       "      <td>0</td>\n",
       "      <td>1</td>\n",
       "      <td>0</td>\n",
       "      <td>0</td>\n",
       "      <td>0-20000</td>\n",
       "      <td>3.99</td>\n",
       "    </tr>\n",
       "    <tr>\n",
       "      <th>26534</th>\n",
       "      <td>1066700</td>\n",
       "      <td>New Yankee 7: Deer Hunters</td>\n",
       "      <td>2019-04-17</td>\n",
       "      <td>Yustas Game Studio</td>\n",
       "      <td>Alawar Entertainment</td>\n",
       "      <td>windows;mac</td>\n",
       "      <td>0</td>\n",
       "      <td>Single-player;Steam Cloud</td>\n",
       "      <td>Adventure;Casual;Indie</td>\n",
       "      <td>Indie;Casual;Adventure</td>\n",
       "      <td>0</td>\n",
       "      <td>2</td>\n",
       "      <td>0</td>\n",
       "      <td>0</td>\n",
       "      <td>0</td>\n",
       "      <td>0-20000</td>\n",
       "      <td>5.19</td>\n",
       "    </tr>\n",
       "    <tr>\n",
       "      <th>26535</th>\n",
       "      <td>1069460</td>\n",
       "      <td>Rune Lord</td>\n",
       "      <td>2019-04-24</td>\n",
       "      <td>Adept Studios GD</td>\n",
       "      <td>Alawar Entertainment</td>\n",
       "      <td>windows;mac</td>\n",
       "      <td>0</td>\n",
       "      <td>Single-player;Steam Cloud</td>\n",
       "      <td>Adventure;Casual;Indie</td>\n",
       "      <td>Indie;Casual;Adventure</td>\n",
       "      <td>0</td>\n",
       "      <td>4</td>\n",
       "      <td>0</td>\n",
       "      <td>0</td>\n",
       "      <td>0</td>\n",
       "      <td>0-20000</td>\n",
       "      <td>5.19</td>\n",
       "    </tr>\n",
       "  </tbody>\n",
       "</table>\n",
       "<p>26536 rows × 17 columns</p>\n",
       "</div>"
      ],
      "text/plain": [
       "         appid                           name release_date  \\\n",
       "0           50      Half-Life: Opposing Force   1999-11-01   \n",
       "1          130          Half-Life: Blue Shift   2001-06-01   \n",
       "2         1002               Rag Doll Kung Fu   2005-10-12   \n",
       "3         1200  Red Orchestra: Ostfront 41-45   2006-03-14   \n",
       "4         1250                  Killing Floor   2009-05-14   \n",
       "...        ...                            ...          ...   \n",
       "26531  1065230                Room of Pandora   2019-04-24   \n",
       "26532  1065570                      Cyber Gun   2019-04-23   \n",
       "26533  1065650               Super Star Blast   2019-04-24   \n",
       "26534  1066700     New Yankee 7: Deer Hunters   2019-04-17   \n",
       "26535  1069460                      Rune Lord   2019-04-24   \n",
       "\n",
       "                  developer             publisher          platforms  \\\n",
       "0          Gearbox Software                 Valve  windows;mac;linux   \n",
       "1          Gearbox Software                 Valve  windows;mac;linux   \n",
       "2               Mark Healey           Mark Healey            windows   \n",
       "3      Tripwire Interactive  Tripwire Interactive  windows;mac;linux   \n",
       "4      Tripwire Interactive  Tripwire Interactive  windows;mac;linux   \n",
       "...                     ...                   ...                ...   \n",
       "26531           SHEN JIAWEI           SHEN JIAWEI            windows   \n",
       "26532        Semyon Maximov      BekkerDev Studio            windows   \n",
       "26533           EntwicklerX           EntwicklerX            windows   \n",
       "26534    Yustas Game Studio  Alawar Entertainment        windows;mac   \n",
       "26535      Adept Studios GD  Alawar Entertainment        windows;mac   \n",
       "\n",
       "       required_age                                         categories  \\\n",
       "0                 0  Single-player;Multi-player;Valve Anti-Cheat en...   \n",
       "1                 0                                      Single-player   \n",
       "2                 0                         Single-player;Multi-player   \n",
       "3                 0  Multi-player;Steam Achievements;Valve Anti-Che...   \n",
       "4                 0  Single-player;Multi-player;Co-op;Cross-Platfor...   \n",
       "...             ...                                                ...   \n",
       "26531             0                   Single-player;Steam Achievements   \n",
       "26532             0                                      Single-player   \n",
       "26533             0  Single-player;Multi-player;Co-op;Shared/Split ...   \n",
       "26534             0                          Single-player;Steam Cloud   \n",
       "26535             0                          Single-player;Steam Cloud   \n",
       "\n",
       "                       genres               steamspy_tags  achievements  \\\n",
       "0                      Action           FPS;Action;Sci-fi             0   \n",
       "1                      Action           FPS;Action;Sci-fi             0   \n",
       "2                       Indie  Indie;Fighting;Multiplayer             0   \n",
       "3                      Action     World War II;Action;FPS            44   \n",
       "4                      Action           FPS;Zombies;Co-op           285   \n",
       "...                       ...                         ...           ...   \n",
       "26531  Adventure;Casual;Indie      Adventure;Indie;Casual             7   \n",
       "26532  Action;Adventure;Indie      Action;Indie;Adventure             0   \n",
       "26533     Action;Casual;Indie         Action;Indie;Casual            24   \n",
       "26534  Adventure;Casual;Indie      Indie;Casual;Adventure             0   \n",
       "26535  Adventure;Casual;Indie      Indie;Casual;Adventure             0   \n",
       "\n",
       "       positive_ratings  negative_ratings  average_playtime  median_playtime  \\\n",
       "0                  5250               288               624              415   \n",
       "1                  3822               420               361              205   \n",
       "2                    40                17                 0                0   \n",
       "3                  1562               223               232              258   \n",
       "4                 53710              2649              1328              306   \n",
       "...                 ...               ...               ...              ...   \n",
       "26531                 3                 0                 0                0   \n",
       "26532                 8                 1                 0                0   \n",
       "26533                 0                 1                 0                0   \n",
       "26534                 2                 0                 0                0   \n",
       "26535                 4                 0                 0                0   \n",
       "\n",
       "                 owners  price  \n",
       "0      5000000-10000000   3.99  \n",
       "1      5000000-10000000   3.99  \n",
       "2           20000-50000   5.99  \n",
       "3        500000-1000000   3.99  \n",
       "4       2000000-5000000  14.99  \n",
       "...                 ...    ...  \n",
       "26531           0-20000   2.09  \n",
       "26532           0-20000   1.69  \n",
       "26533           0-20000   3.99  \n",
       "26534           0-20000   5.19  \n",
       "26535           0-20000   5.19  \n",
       "\n",
       "[26536 rows x 17 columns]"
      ]
     },
     "execution_count": 2,
     "metadata": {},
     "output_type": "execute_result"
    }
   ],
   "source": [
    "steam_df = pd.read_csv('steam.csv')\n",
    "steam_df = steam_df[(~steam_df['developer'].str.contains('Valve')) | steam_df['developer'].str.contains('Valverde')]\n",
    "steam_df = steam_df[steam_df['english'] == True]\n",
    "steam_df = steam_df.drop(columns='english').reset_index(drop=True)\n",
    "steam_df"
   ]
  },
  {
   "cell_type": "markdown",
   "id": "1f206ca0",
   "metadata": {},
   "source": [
    "## Checking for missing data"
   ]
  },
  {
   "cell_type": "code",
   "execution_count": 3,
   "id": "a283b125",
   "metadata": {
    "ExecuteTime": {
     "end_time": "2022-09-07T09:52:13.365230Z",
     "start_time": "2022-09-07T09:52:13.309813Z"
    }
   },
   "outputs": [
    {
     "data": {
      "text/plain": [
       "appid               0\n",
       "name                0\n",
       "release_date        0\n",
       "developer           0\n",
       "publisher           0\n",
       "platforms           0\n",
       "required_age        0\n",
       "categories          0\n",
       "genres              0\n",
       "steamspy_tags       0\n",
       "achievements        0\n",
       "positive_ratings    0\n",
       "negative_ratings    0\n",
       "average_playtime    0\n",
       "median_playtime     0\n",
       "owners              0\n",
       "price               0\n",
       "dtype: int64"
      ]
     },
     "execution_count": 3,
     "metadata": {},
     "output_type": "execute_result"
    }
   ],
   "source": [
    "steam_df.isna().sum()"
   ]
  },
  {
   "cell_type": "code",
   "execution_count": 4,
   "id": "6cdee8c0",
   "metadata": {
    "ExecuteTime": {
     "end_time": "2022-09-07T09:52:13.412469Z",
     "start_time": "2022-09-07T09:52:13.376199Z"
    }
   },
   "outputs": [
    {
     "data": {
      "text/plain": [
       "appid                 int64\n",
       "name                 object\n",
       "release_date         object\n",
       "developer            object\n",
       "publisher            object\n",
       "platforms            object\n",
       "required_age          int64\n",
       "categories           object\n",
       "genres               object\n",
       "steamspy_tags        object\n",
       "achievements          int64\n",
       "positive_ratings      int64\n",
       "negative_ratings      int64\n",
       "average_playtime      int64\n",
       "median_playtime       int64\n",
       "owners               object\n",
       "price               float64\n",
       "dtype: object"
      ]
     },
     "execution_count": 4,
     "metadata": {},
     "output_type": "execute_result"
    }
   ],
   "source": [
    "steam_df.dtypes"
   ]
  },
  {
   "cell_type": "markdown",
   "id": "170dc619",
   "metadata": {},
   "source": [
    "### Check for duplicated game `name`s"
   ]
  },
  {
   "cell_type": "code",
   "execution_count": 5,
   "id": "29c5aca4",
   "metadata": {
    "ExecuteTime": {
     "end_time": "2022-09-07T09:52:13.534076Z",
     "start_time": "2022-09-07T09:52:13.421049Z"
    }
   },
   "outputs": [
    {
     "data": {
      "text/html": [
       "<div>\n",
       "<style scoped>\n",
       "    .dataframe tbody tr th:only-of-type {\n",
       "        vertical-align: middle;\n",
       "    }\n",
       "\n",
       "    .dataframe tbody tr th {\n",
       "        vertical-align: top;\n",
       "    }\n",
       "\n",
       "    .dataframe thead th {\n",
       "        text-align: right;\n",
       "    }\n",
       "</style>\n",
       "<table border=\"1\" class=\"dataframe\">\n",
       "  <thead>\n",
       "    <tr style=\"text-align: right;\">\n",
       "      <th></th>\n",
       "      <th>appid</th>\n",
       "      <th>name</th>\n",
       "      <th>release_date</th>\n",
       "      <th>developer</th>\n",
       "      <th>publisher</th>\n",
       "      <th>platforms</th>\n",
       "      <th>required_age</th>\n",
       "      <th>categories</th>\n",
       "      <th>genres</th>\n",
       "      <th>steamspy_tags</th>\n",
       "      <th>achievements</th>\n",
       "      <th>positive_ratings</th>\n",
       "      <th>negative_ratings</th>\n",
       "      <th>average_playtime</th>\n",
       "      <th>median_playtime</th>\n",
       "      <th>owners</th>\n",
       "      <th>price</th>\n",
       "    </tr>\n",
       "  </thead>\n",
       "  <tbody>\n",
       "    <tr>\n",
       "      <th>4635</th>\n",
       "      <td>345130</td>\n",
       "      <td>Dark Matter</td>\n",
       "      <td>2015-02-27</td>\n",
       "      <td>Meridian4</td>\n",
       "      <td>Meridian4</td>\n",
       "      <td>windows</td>\n",
       "      <td>0</td>\n",
       "      <td>Single-player;Partial Controller Support</td>\n",
       "      <td>Action;Casual;Indie</td>\n",
       "      <td>Action;Casual;Indie</td>\n",
       "      <td>0</td>\n",
       "      <td>75</td>\n",
       "      <td>50</td>\n",
       "      <td>0</td>\n",
       "      <td>0</td>\n",
       "      <td>100000-200000</td>\n",
       "      <td>3.99</td>\n",
       "    </tr>\n",
       "    <tr>\n",
       "      <th>7862</th>\n",
       "      <td>436260</td>\n",
       "      <td>Ultimate Arena</td>\n",
       "      <td>2016-09-05</td>\n",
       "      <td>Kenneth Caselli;Gianmarco Rocco</td>\n",
       "      <td>AceGamer Network</td>\n",
       "      <td>windows;linux</td>\n",
       "      <td>0</td>\n",
       "      <td>Multi-player;Online Multi-Player;Steam Achieve...</td>\n",
       "      <td>Action;Indie</td>\n",
       "      <td>Action;Indie;FPS</td>\n",
       "      <td>1</td>\n",
       "      <td>123</td>\n",
       "      <td>100</td>\n",
       "      <td>0</td>\n",
       "      <td>0</td>\n",
       "      <td>0-20000</td>\n",
       "      <td>13.99</td>\n",
       "    </tr>\n",
       "    <tr>\n",
       "      <th>8176</th>\n",
       "      <td>446480</td>\n",
       "      <td>New York Bus Simulator</td>\n",
       "      <td>2016-03-04</td>\n",
       "      <td>Little Freedom Factory</td>\n",
       "      <td>United Independent Entertainment GmbH</td>\n",
       "      <td>windows</td>\n",
       "      <td>0</td>\n",
       "      <td>Single-player</td>\n",
       "      <td>Simulation</td>\n",
       "      <td>Simulation</td>\n",
       "      <td>0</td>\n",
       "      <td>7</td>\n",
       "      <td>42</td>\n",
       "      <td>0</td>\n",
       "      <td>0</td>\n",
       "      <td>0-20000</td>\n",
       "      <td>3.99</td>\n",
       "    </tr>\n",
       "    <tr>\n",
       "      <th>9416</th>\n",
       "      <td>488080</td>\n",
       "      <td>Taxi</td>\n",
       "      <td>2016-10-07</td>\n",
       "      <td>petraguardsoftware.com</td>\n",
       "      <td>petraguardsoftware.com</td>\n",
       "      <td>windows</td>\n",
       "      <td>0</td>\n",
       "      <td>Single-player;Steam Achievements;Steam Cloud</td>\n",
       "      <td>Casual</td>\n",
       "      <td>Casual</td>\n",
       "      <td>11</td>\n",
       "      <td>1</td>\n",
       "      <td>1</td>\n",
       "      <td>0</td>\n",
       "      <td>0</td>\n",
       "      <td>0-20000</td>\n",
       "      <td>1.59</td>\n",
       "    </tr>\n",
       "    <tr>\n",
       "      <th>10279</th>\n",
       "      <td>510850</td>\n",
       "      <td>Mars 2030</td>\n",
       "      <td>2017-07-31</td>\n",
       "      <td>FMG Labs</td>\n",
       "      <td>Fusion Media Group</td>\n",
       "      <td>windows</td>\n",
       "      <td>0</td>\n",
       "      <td>Single-player;Steam Achievements;Full controll...</td>\n",
       "      <td>Simulation</td>\n",
       "      <td>Simulation;Mars;Space</td>\n",
       "      <td>10</td>\n",
       "      <td>40</td>\n",
       "      <td>22</td>\n",
       "      <td>0</td>\n",
       "      <td>0</td>\n",
       "      <td>0-20000</td>\n",
       "      <td>10.99</td>\n",
       "    </tr>\n",
       "    <tr>\n",
       "      <th>11373</th>\n",
       "      <td>542220</td>\n",
       "      <td>Rumpus</td>\n",
       "      <td>2017-04-12</td>\n",
       "      <td>Polyraptor Games</td>\n",
       "      <td>Polyraptor Games</td>\n",
       "      <td>windows;mac;linux</td>\n",
       "      <td>0</td>\n",
       "      <td>Single-player;Local Multi-Player;Local Co-op;S...</td>\n",
       "      <td>Action;Casual;Indie</td>\n",
       "      <td>Action;Indie;Casual</td>\n",
       "      <td>19</td>\n",
       "      <td>23</td>\n",
       "      <td>0</td>\n",
       "      <td>0</td>\n",
       "      <td>0</td>\n",
       "      <td>0-20000</td>\n",
       "      <td>9.99</td>\n",
       "    </tr>\n",
       "    <tr>\n",
       "      <th>14183</th>\n",
       "      <td>622810</td>\n",
       "      <td>Invasion</td>\n",
       "      <td>2018-06-15</td>\n",
       "      <td>brutalsoft</td>\n",
       "      <td>brutalsoft</td>\n",
       "      <td>windows</td>\n",
       "      <td>0</td>\n",
       "      <td>Single-player;Steam Achievements;Steam Cloud</td>\n",
       "      <td>Action;Indie</td>\n",
       "      <td>Action;Indie;Arcade</td>\n",
       "      <td>19</td>\n",
       "      <td>24</td>\n",
       "      <td>1</td>\n",
       "      <td>0</td>\n",
       "      <td>0</td>\n",
       "      <td>0-20000</td>\n",
       "      <td>3.99</td>\n",
       "    </tr>\n",
       "    <tr>\n",
       "      <th>15407</th>\n",
       "      <td>664780</td>\n",
       "      <td>Alter Ego</td>\n",
       "      <td>2017-08-08</td>\n",
       "      <td>Choose Multiple LLC</td>\n",
       "      <td>Choose Multiple LLC</td>\n",
       "      <td>windows;mac;linux</td>\n",
       "      <td>0</td>\n",
       "      <td>Single-player;Captions available;Steam Cloud</td>\n",
       "      <td>Adventure;Casual;Indie;RPG;Simulation</td>\n",
       "      <td>RPG;Casual;Simulation</td>\n",
       "      <td>0</td>\n",
       "      <td>17</td>\n",
       "      <td>8</td>\n",
       "      <td>0</td>\n",
       "      <td>0</td>\n",
       "      <td>0-20000</td>\n",
       "      <td>5.59</td>\n",
       "    </tr>\n",
       "    <tr>\n",
       "      <th>15480</th>\n",
       "      <td>666660</td>\n",
       "      <td>Castles</td>\n",
       "      <td>2017-07-14</td>\n",
       "      <td>Quicksilver Software</td>\n",
       "      <td>interplay</td>\n",
       "      <td>windows;mac</td>\n",
       "      <td>0</td>\n",
       "      <td>Single-player</td>\n",
       "      <td>Adventure;Strategy</td>\n",
       "      <td>Strategy;Adventure</td>\n",
       "      <td>0</td>\n",
       "      <td>2</td>\n",
       "      <td>3</td>\n",
       "      <td>0</td>\n",
       "      <td>0</td>\n",
       "      <td>0-20000</td>\n",
       "      <td>6.99</td>\n",
       "    </tr>\n",
       "    <tr>\n",
       "      <th>15485</th>\n",
       "      <td>666810</td>\n",
       "      <td>Luna</td>\n",
       "      <td>2017-08-15</td>\n",
       "      <td>Lushboy Studios</td>\n",
       "      <td>Lushboy Studios</td>\n",
       "      <td>windows;mac</td>\n",
       "      <td>0</td>\n",
       "      <td>Single-player;Partial Controller Support</td>\n",
       "      <td>Action;Indie</td>\n",
       "      <td>Action;Indie;Puzzle-Platformer</td>\n",
       "      <td>19</td>\n",
       "      <td>10</td>\n",
       "      <td>0</td>\n",
       "      <td>0</td>\n",
       "      <td>0</td>\n",
       "      <td>0-20000</td>\n",
       "      <td>0.79</td>\n",
       "    </tr>\n",
       "    <tr>\n",
       "      <th>16090</th>\n",
       "      <td>682340</td>\n",
       "      <td>Slice&amp;Dice</td>\n",
       "      <td>2017-08-04</td>\n",
       "      <td>VRotein</td>\n",
       "      <td>VRotein</td>\n",
       "      <td>windows</td>\n",
       "      <td>0</td>\n",
       "      <td>Single-player;Steam Achievements</td>\n",
       "      <td>Casual;Indie;Simulation</td>\n",
       "      <td>Casual;Indie;Simulation</td>\n",
       "      <td>17</td>\n",
       "      <td>1</td>\n",
       "      <td>0</td>\n",
       "      <td>0</td>\n",
       "      <td>0</td>\n",
       "      <td>0-20000</td>\n",
       "      <td>3.99</td>\n",
       "    </tr>\n",
       "    <tr>\n",
       "      <th>16225</th>\n",
       "      <td>686190</td>\n",
       "      <td>Killing Time</td>\n",
       "      <td>2017-09-20</td>\n",
       "      <td>ONEONE1</td>\n",
       "      <td>Paradise Project</td>\n",
       "      <td>windows</td>\n",
       "      <td>0</td>\n",
       "      <td>Single-player;Steam Trading Cards;Steam Cloud</td>\n",
       "      <td>Indie;RPG</td>\n",
       "      <td>Nudity;RPG;Sexual Content</td>\n",
       "      <td>0</td>\n",
       "      <td>512</td>\n",
       "      <td>179</td>\n",
       "      <td>237</td>\n",
       "      <td>237</td>\n",
       "      <td>100000-200000</td>\n",
       "      <td>1.59</td>\n",
       "    </tr>\n",
       "    <tr>\n",
       "      <th>16583</th>\n",
       "      <td>696580</td>\n",
       "      <td>The Tower</td>\n",
       "      <td>2018-02-16</td>\n",
       "      <td>Headroom.one</td>\n",
       "      <td>Headroom.one</td>\n",
       "      <td>windows</td>\n",
       "      <td>0</td>\n",
       "      <td>Single-player;Stats</td>\n",
       "      <td>Adventure;Indie</td>\n",
       "      <td>Adventure;Indie;VR</td>\n",
       "      <td>0</td>\n",
       "      <td>7</td>\n",
       "      <td>5</td>\n",
       "      <td>0</td>\n",
       "      <td>0</td>\n",
       "      <td>0-20000</td>\n",
       "      <td>5.19</td>\n",
       "    </tr>\n",
       "    <tr>\n",
       "      <th>17409</th>\n",
       "      <td>720060</td>\n",
       "      <td>Colony</td>\n",
       "      <td>2017-12-15</td>\n",
       "      <td>eugeniy_kh</td>\n",
       "      <td>eugeniy_kh</td>\n",
       "      <td>windows;mac;linux</td>\n",
       "      <td>0</td>\n",
       "      <td>Single-player</td>\n",
       "      <td>Indie;Simulation;Strategy</td>\n",
       "      <td>Simulation;Strategy;Indie</td>\n",
       "      <td>0</td>\n",
       "      <td>1</td>\n",
       "      <td>1</td>\n",
       "      <td>0</td>\n",
       "      <td>0</td>\n",
       "      <td>0-20000</td>\n",
       "      <td>1.69</td>\n",
       "    </tr>\n",
       "    <tr>\n",
       "      <th>17594</th>\n",
       "      <td>726120</td>\n",
       "      <td>Beyond the Wall</td>\n",
       "      <td>2017-10-24</td>\n",
       "      <td>For Kids</td>\n",
       "      <td>For Kids</td>\n",
       "      <td>windows;mac;linux</td>\n",
       "      <td>0</td>\n",
       "      <td>Single-player;Steam Achievements;Steam Leaderb...</td>\n",
       "      <td>Adventure;Casual;Indie;RPG</td>\n",
       "      <td>Indie;Adventure;Casual</td>\n",
       "      <td>20</td>\n",
       "      <td>28</td>\n",
       "      <td>10</td>\n",
       "      <td>0</td>\n",
       "      <td>0</td>\n",
       "      <td>0-20000</td>\n",
       "      <td>1.69</td>\n",
       "    </tr>\n",
       "    <tr>\n",
       "      <th>18305</th>\n",
       "      <td>748540</td>\n",
       "      <td>Solitaire</td>\n",
       "      <td>2017-11-21</td>\n",
       "      <td>baKno Games</td>\n",
       "      <td>baKno Games</td>\n",
       "      <td>windows;mac;linux</td>\n",
       "      <td>0</td>\n",
       "      <td>Single-player</td>\n",
       "      <td>Casual;Indie;Simulation</td>\n",
       "      <td>Indie;Casual;Simulation</td>\n",
       "      <td>0</td>\n",
       "      <td>4</td>\n",
       "      <td>5</td>\n",
       "      <td>0</td>\n",
       "      <td>0</td>\n",
       "      <td>0-20000</td>\n",
       "      <td>3.99</td>\n",
       "    </tr>\n",
       "    <tr>\n",
       "      <th>18655</th>\n",
       "      <td>758210</td>\n",
       "      <td>Escape Room</td>\n",
       "      <td>2017-12-11</td>\n",
       "      <td>OneTechAsia</td>\n",
       "      <td>OneTechAsia</td>\n",
       "      <td>windows</td>\n",
       "      <td>0</td>\n",
       "      <td>Single-player</td>\n",
       "      <td>Adventure;Simulation;Early Access</td>\n",
       "      <td>Early Access;Adventure;Simulation</td>\n",
       "      <td>0</td>\n",
       "      <td>5</td>\n",
       "      <td>17</td>\n",
       "      <td>0</td>\n",
       "      <td>0</td>\n",
       "      <td>0-20000</td>\n",
       "      <td>0.00</td>\n",
       "    </tr>\n",
       "    <tr>\n",
       "      <th>18688</th>\n",
       "      <td>759010</td>\n",
       "      <td>Escape</td>\n",
       "      <td>2018-01-28</td>\n",
       "      <td>Ragdoll Inc</td>\n",
       "      <td>Ragdoll Inc</td>\n",
       "      <td>windows;mac</td>\n",
       "      <td>0</td>\n",
       "      <td>Single-player;Steam Achievements</td>\n",
       "      <td>Action;Adventure;Indie</td>\n",
       "      <td>Action;Adventure;Indie</td>\n",
       "      <td>8</td>\n",
       "      <td>11</td>\n",
       "      <td>15</td>\n",
       "      <td>0</td>\n",
       "      <td>0</td>\n",
       "      <td>0-20000</td>\n",
       "      <td>2.09</td>\n",
       "    </tr>\n",
       "    <tr>\n",
       "      <th>19261</th>\n",
       "      <td>776080</td>\n",
       "      <td>Dodge</td>\n",
       "      <td>2018-01-09</td>\n",
       "      <td>GabryGa</td>\n",
       "      <td>GabryGa</td>\n",
       "      <td>windows</td>\n",
       "      <td>0</td>\n",
       "      <td>Single-player</td>\n",
       "      <td>Casual;Indie</td>\n",
       "      <td>Indie;Casual</td>\n",
       "      <td>0</td>\n",
       "      <td>19</td>\n",
       "      <td>9</td>\n",
       "      <td>0</td>\n",
       "      <td>0</td>\n",
       "      <td>0-20000</td>\n",
       "      <td>0.79</td>\n",
       "    </tr>\n",
       "    <tr>\n",
       "      <th>19455</th>\n",
       "      <td>781240</td>\n",
       "      <td>Mystical</td>\n",
       "      <td>2018-02-08</td>\n",
       "      <td>Infogrames</td>\n",
       "      <td>Piko Interactive</td>\n",
       "      <td>windows</td>\n",
       "      <td>0</td>\n",
       "      <td>Single-player;Local Multi-Player;Co-op</td>\n",
       "      <td>Action</td>\n",
       "      <td>Action</td>\n",
       "      <td>0</td>\n",
       "      <td>1</td>\n",
       "      <td>6</td>\n",
       "      <td>0</td>\n",
       "      <td>0</td>\n",
       "      <td>0-20000</td>\n",
       "      <td>3.99</td>\n",
       "    </tr>\n",
       "    <tr>\n",
       "      <th>20571</th>\n",
       "      <td>814570</td>\n",
       "      <td>The Great Escape</td>\n",
       "      <td>2018-04-13</td>\n",
       "      <td>Ocean Software</td>\n",
       "      <td>Classics Digital;Piko Interactive</td>\n",
       "      <td>windows</td>\n",
       "      <td>0</td>\n",
       "      <td>Single-player</td>\n",
       "      <td>Action;Adventure;Simulation;Strategy</td>\n",
       "      <td>Action;Strategy;Adventure</td>\n",
       "      <td>0</td>\n",
       "      <td>3</td>\n",
       "      <td>9</td>\n",
       "      <td>0</td>\n",
       "      <td>0</td>\n",
       "      <td>0-20000</td>\n",
       "      <td>2.89</td>\n",
       "    </tr>\n",
       "    <tr>\n",
       "      <th>21000</th>\n",
       "      <td>827920</td>\n",
       "      <td>Bounce</td>\n",
       "      <td>2018-04-02</td>\n",
       "      <td>Mikhail Melnikov</td>\n",
       "      <td>Mikhail Melnikov</td>\n",
       "      <td>windows;mac;linux</td>\n",
       "      <td>0</td>\n",
       "      <td>Single-player;Steam Achievements;Steam Cloud;S...</td>\n",
       "      <td>Casual;Indie</td>\n",
       "      <td>Indie;Casual</td>\n",
       "      <td>100</td>\n",
       "      <td>17</td>\n",
       "      <td>5</td>\n",
       "      <td>0</td>\n",
       "      <td>0</td>\n",
       "      <td>0-20000</td>\n",
       "      <td>0.79</td>\n",
       "    </tr>\n",
       "    <tr>\n",
       "      <th>21483</th>\n",
       "      <td>843780</td>\n",
       "      <td>City Builder</td>\n",
       "      <td>2018-05-27</td>\n",
       "      <td>Cow Corp.</td>\n",
       "      <td>Cow Corp.</td>\n",
       "      <td>windows</td>\n",
       "      <td>0</td>\n",
       "      <td>Single-player;Steam Achievements</td>\n",
       "      <td>Casual;Indie;Simulation</td>\n",
       "      <td>Indie;Casual;Simulation</td>\n",
       "      <td>40</td>\n",
       "      <td>6</td>\n",
       "      <td>4</td>\n",
       "      <td>0</td>\n",
       "      <td>0</td>\n",
       "      <td>0-20000</td>\n",
       "      <td>1.69</td>\n",
       "    </tr>\n",
       "    <tr>\n",
       "      <th>21495</th>\n",
       "      <td>844040</td>\n",
       "      <td>RUSH</td>\n",
       "      <td>2018-07-13</td>\n",
       "      <td>The Binary Mill</td>\n",
       "      <td>The Binary Mill</td>\n",
       "      <td>windows</td>\n",
       "      <td>0</td>\n",
       "      <td>Single-player;Multi-player;Online Multi-Player...</td>\n",
       "      <td>Action;Racing;Simulation;Sports</td>\n",
       "      <td>Action;Simulation;Racing</td>\n",
       "      <td>16</td>\n",
       "      <td>64</td>\n",
       "      <td>9</td>\n",
       "      <td>0</td>\n",
       "      <td>0</td>\n",
       "      <td>20000-50000</td>\n",
       "      <td>15.49</td>\n",
       "    </tr>\n",
       "    <tr>\n",
       "      <th>21697</th>\n",
       "      <td>850250</td>\n",
       "      <td>Dark Matter</td>\n",
       "      <td>2018-05-04</td>\n",
       "      <td>Barty Games</td>\n",
       "      <td>Barty Games</td>\n",
       "      <td>windows</td>\n",
       "      <td>0</td>\n",
       "      <td>Single-player;Steam Achievements</td>\n",
       "      <td>Action;Indie</td>\n",
       "      <td>Action;Indie</td>\n",
       "      <td>3</td>\n",
       "      <td>3</td>\n",
       "      <td>3</td>\n",
       "      <td>0</td>\n",
       "      <td>0</td>\n",
       "      <td>0-20000</td>\n",
       "      <td>0.79</td>\n",
       "    </tr>\n",
       "    <tr>\n",
       "      <th>21919</th>\n",
       "      <td>857130</td>\n",
       "      <td>Evolution</td>\n",
       "      <td>2018-06-03</td>\n",
       "      <td>D1ONE</td>\n",
       "      <td>D1ONE</td>\n",
       "      <td>windows</td>\n",
       "      <td>0</td>\n",
       "      <td>Single-player</td>\n",
       "      <td>Casual</td>\n",
       "      <td>Casual</td>\n",
       "      <td>0</td>\n",
       "      <td>15</td>\n",
       "      <td>8</td>\n",
       "      <td>0</td>\n",
       "      <td>0</td>\n",
       "      <td>0-20000</td>\n",
       "      <td>2.89</td>\n",
       "    </tr>\n",
       "    <tr>\n",
       "      <th>22428</th>\n",
       "      <td>871870</td>\n",
       "      <td>Alone</td>\n",
       "      <td>2018-06-21</td>\n",
       "      <td>Avasion</td>\n",
       "      <td>Avasion</td>\n",
       "      <td>windows</td>\n",
       "      <td>0</td>\n",
       "      <td>Single-player;Steam Achievements;Partial Contr...</td>\n",
       "      <td>Adventure;Casual;Indie</td>\n",
       "      <td>Adventure;Indie;Casual</td>\n",
       "      <td>7</td>\n",
       "      <td>17</td>\n",
       "      <td>5</td>\n",
       "      <td>0</td>\n",
       "      <td>0</td>\n",
       "      <td>0-20000</td>\n",
       "      <td>0.79</td>\n",
       "    </tr>\n",
       "    <tr>\n",
       "      <th>22548</th>\n",
       "      <td>875740</td>\n",
       "      <td>Scorch</td>\n",
       "      <td>2018-08-15</td>\n",
       "      <td>Ellie's Lunchbox</td>\n",
       "      <td>Ellie's Lunchbox</td>\n",
       "      <td>windows</td>\n",
       "      <td>0</td>\n",
       "      <td>Single-player</td>\n",
       "      <td>Casual;Free to Play;Indie</td>\n",
       "      <td>Free to Play;Indie;Casual</td>\n",
       "      <td>0</td>\n",
       "      <td>182</td>\n",
       "      <td>37</td>\n",
       "      <td>0</td>\n",
       "      <td>0</td>\n",
       "      <td>50000-100000</td>\n",
       "      <td>0.00</td>\n",
       "    </tr>\n",
       "    <tr>\n",
       "      <th>23282</th>\n",
       "      <td>898980</td>\n",
       "      <td>The Mine</td>\n",
       "      <td>2018-08-08</td>\n",
       "      <td>Ian;Megan;Maxen</td>\n",
       "      <td>M.I.M</td>\n",
       "      <td>windows</td>\n",
       "      <td>0</td>\n",
       "      <td>Single-player</td>\n",
       "      <td>Free to Play;Indie</td>\n",
       "      <td>Free to Play;Indie;Horror</td>\n",
       "      <td>1</td>\n",
       "      <td>58</td>\n",
       "      <td>30</td>\n",
       "      <td>0</td>\n",
       "      <td>0</td>\n",
       "      <td>0-20000</td>\n",
       "      <td>0.00</td>\n",
       "    </tr>\n",
       "    <tr>\n",
       "      <th>23341</th>\n",
       "      <td>904160</td>\n",
       "      <td>Ashes</td>\n",
       "      <td>2018-10-26</td>\n",
       "      <td>WindLimit</td>\n",
       "      <td>WindLimit</td>\n",
       "      <td>windows</td>\n",
       "      <td>0</td>\n",
       "      <td>Single-player;Steam Achievements</td>\n",
       "      <td>Action;Adventure;Casual;Indie</td>\n",
       "      <td>Action;Adventure;Indie</td>\n",
       "      <td>30</td>\n",
       "      <td>12</td>\n",
       "      <td>3</td>\n",
       "      <td>0</td>\n",
       "      <td>0</td>\n",
       "      <td>0-20000</td>\n",
       "      <td>2.89</td>\n",
       "    </tr>\n",
       "    <tr>\n",
       "      <th>23365</th>\n",
       "      <td>904950</td>\n",
       "      <td>Exodus</td>\n",
       "      <td>2018-08-20</td>\n",
       "      <td>LucasGame;KVRA</td>\n",
       "      <td>LucasGame</td>\n",
       "      <td>windows</td>\n",
       "      <td>0</td>\n",
       "      <td>Single-player;Partial Controller Support</td>\n",
       "      <td>Action;Adventure;Casual;Indie;Early Access</td>\n",
       "      <td>Early Access;Action;Indie</td>\n",
       "      <td>0</td>\n",
       "      <td>2</td>\n",
       "      <td>4</td>\n",
       "      <td>0</td>\n",
       "      <td>0</td>\n",
       "      <td>0-20000</td>\n",
       "      <td>3.99</td>\n",
       "    </tr>\n",
       "    <tr>\n",
       "      <th>23461</th>\n",
       "      <td>908180</td>\n",
       "      <td>Space Maze</td>\n",
       "      <td>2018-08-19</td>\n",
       "      <td>Redox Entertainment Inc</td>\n",
       "      <td>Redox Entertainment Inc</td>\n",
       "      <td>windows</td>\n",
       "      <td>0</td>\n",
       "      <td>Single-player;Partial Controller Support;Steam...</td>\n",
       "      <td>Action;Casual;Indie;Racing;Simulation</td>\n",
       "      <td>Action;Indie;Casual</td>\n",
       "      <td>0</td>\n",
       "      <td>13</td>\n",
       "      <td>1</td>\n",
       "      <td>0</td>\n",
       "      <td>0</td>\n",
       "      <td>0-20000</td>\n",
       "      <td>5.79</td>\n",
       "    </tr>\n",
       "    <tr>\n",
       "      <th>23474</th>\n",
       "      <td>908920</td>\n",
       "      <td>Nightmare Simulator</td>\n",
       "      <td>2018-09-02</td>\n",
       "      <td>INDIEPLAY</td>\n",
       "      <td>INDIEPLAY</td>\n",
       "      <td>windows</td>\n",
       "      <td>0</td>\n",
       "      <td>Single-player;Partial Controller Support</td>\n",
       "      <td>Action;Adventure;Indie;RPG</td>\n",
       "      <td>Action;Adventure;Indie</td>\n",
       "      <td>0</td>\n",
       "      <td>1</td>\n",
       "      <td>3</td>\n",
       "      <td>0</td>\n",
       "      <td>0</td>\n",
       "      <td>0-20000</td>\n",
       "      <td>2.09</td>\n",
       "    </tr>\n",
       "    <tr>\n",
       "      <th>23665</th>\n",
       "      <td>915440</td>\n",
       "      <td>Fireflies</td>\n",
       "      <td>2018-08-28</td>\n",
       "      <td>Sourabh P Hamigi</td>\n",
       "      <td>Sourabh P Hamigi</td>\n",
       "      <td>windows</td>\n",
       "      <td>0</td>\n",
       "      <td>Single-player;Partial Controller Support</td>\n",
       "      <td>Action;Adventure;Casual;Indie</td>\n",
       "      <td>Action;Adventure;Indie</td>\n",
       "      <td>0</td>\n",
       "      <td>9</td>\n",
       "      <td>4</td>\n",
       "      <td>0</td>\n",
       "      <td>0</td>\n",
       "      <td>0-20000</td>\n",
       "      <td>1.69</td>\n",
       "    </tr>\n",
       "    <tr>\n",
       "      <th>24565</th>\n",
       "      <td>951690</td>\n",
       "      <td>Surge</td>\n",
       "      <td>2018-12-04</td>\n",
       "      <td>Campus ADN 2017-2018</td>\n",
       "      <td>Campus ADN</td>\n",
       "      <td>windows</td>\n",
       "      <td>0</td>\n",
       "      <td>Single-player;Full controller support</td>\n",
       "      <td>Action;Adventure;Indie</td>\n",
       "      <td>Action;Indie;Adventure</td>\n",
       "      <td>0</td>\n",
       "      <td>3</td>\n",
       "      <td>1</td>\n",
       "      <td>0</td>\n",
       "      <td>0</td>\n",
       "      <td>0-20000</td>\n",
       "      <td>0.00</td>\n",
       "    </tr>\n",
       "    <tr>\n",
       "      <th>25223</th>\n",
       "      <td>980750</td>\n",
       "      <td>Santa's Workshop</td>\n",
       "      <td>2018-11-29</td>\n",
       "      <td>TYB Publishing</td>\n",
       "      <td>TYB Publishing</td>\n",
       "      <td>windows</td>\n",
       "      <td>0</td>\n",
       "      <td>Single-player;Steam Leaderboards</td>\n",
       "      <td>Casual;Simulation</td>\n",
       "      <td>Casual;Simulation</td>\n",
       "      <td>0</td>\n",
       "      <td>2</td>\n",
       "      <td>0</td>\n",
       "      <td>0</td>\n",
       "      <td>0</td>\n",
       "      <td>0-20000</td>\n",
       "      <td>1.69</td>\n",
       "    </tr>\n",
       "    <tr>\n",
       "      <th>25298</th>\n",
       "      <td>984070</td>\n",
       "      <td>Chaos Theory</td>\n",
       "      <td>2019-02-01</td>\n",
       "      <td>Chaos Theory Studios</td>\n",
       "      <td>Chaos Theory Studios</td>\n",
       "      <td>windows</td>\n",
       "      <td>0</td>\n",
       "      <td>Single-player</td>\n",
       "      <td>Adventure;Indie;RPG;Simulation;Strategy;Early ...</td>\n",
       "      <td>Early Access;Adventure;Indie</td>\n",
       "      <td>0</td>\n",
       "      <td>7</td>\n",
       "      <td>5</td>\n",
       "      <td>0</td>\n",
       "      <td>0</td>\n",
       "      <td>0-20000</td>\n",
       "      <td>10.99</td>\n",
       "    </tr>\n",
       "    <tr>\n",
       "      <th>25344</th>\n",
       "      <td>986080</td>\n",
       "      <td>Zombie Apocalypse</td>\n",
       "      <td>2019-03-09</td>\n",
       "      <td>Kapitan</td>\n",
       "      <td>Kapitan</td>\n",
       "      <td>windows</td>\n",
       "      <td>0</td>\n",
       "      <td>Single-player</td>\n",
       "      <td>Action;Adventure;Casual;Indie;Early Access</td>\n",
       "      <td>Early Access;Action;Casual</td>\n",
       "      <td>0</td>\n",
       "      <td>21</td>\n",
       "      <td>7</td>\n",
       "      <td>0</td>\n",
       "      <td>0</td>\n",
       "      <td>0-20000</td>\n",
       "      <td>1.69</td>\n",
       "    </tr>\n",
       "    <tr>\n",
       "      <th>25564</th>\n",
       "      <td>998820</td>\n",
       "      <td>Cortex</td>\n",
       "      <td>2018-12-28</td>\n",
       "      <td>Milan Toth</td>\n",
       "      <td>Milan Toth</td>\n",
       "      <td>windows;mac;linux</td>\n",
       "      <td>0</td>\n",
       "      <td>Single-player;In-App Purchases</td>\n",
       "      <td>Action</td>\n",
       "      <td>Action</td>\n",
       "      <td>0</td>\n",
       "      <td>5</td>\n",
       "      <td>0</td>\n",
       "      <td>0</td>\n",
       "      <td>0</td>\n",
       "      <td>0-20000</td>\n",
       "      <td>0.00</td>\n",
       "    </tr>\n",
       "    <tr>\n",
       "      <th>25793</th>\n",
       "      <td>1010860</td>\n",
       "      <td>Hide and Seek</td>\n",
       "      <td>2019-02-01</td>\n",
       "      <td>Funny Games</td>\n",
       "      <td>Funny Games</td>\n",
       "      <td>windows</td>\n",
       "      <td>0</td>\n",
       "      <td>Single-player;Multi-player;Online Multi-Player...</td>\n",
       "      <td>Action;Massively Multiplayer;RPG;Early Access</td>\n",
       "      <td>Early Access;Action;Massively Multiplayer</td>\n",
       "      <td>0</td>\n",
       "      <td>55</td>\n",
       "      <td>38</td>\n",
       "      <td>0</td>\n",
       "      <td>0</td>\n",
       "      <td>0-20000</td>\n",
       "      <td>2.09</td>\n",
       "    </tr>\n",
       "    <tr>\n",
       "      <th>26077</th>\n",
       "      <td>1026330</td>\n",
       "      <td>2048</td>\n",
       "      <td>2019-02-21</td>\n",
       "      <td>Dexion Games</td>\n",
       "      <td>Dexion Games</td>\n",
       "      <td>windows</td>\n",
       "      <td>0</td>\n",
       "      <td>Single-player</td>\n",
       "      <td>Casual;Indie;Simulation</td>\n",
       "      <td>Indie;Casual;Simulation</td>\n",
       "      <td>0</td>\n",
       "      <td>0</td>\n",
       "      <td>1</td>\n",
       "      <td>0</td>\n",
       "      <td>0</td>\n",
       "      <td>0-20000</td>\n",
       "      <td>0.79</td>\n",
       "    </tr>\n",
       "  </tbody>\n",
       "</table>\n",
       "</div>"
      ],
      "text/plain": [
       "         appid                    name release_date  \\\n",
       "4635    345130             Dark Matter   2015-02-27   \n",
       "7862    436260          Ultimate Arena   2016-09-05   \n",
       "8176    446480  New York Bus Simulator   2016-03-04   \n",
       "9416    488080                    Taxi   2016-10-07   \n",
       "10279   510850               Mars 2030   2017-07-31   \n",
       "11373   542220                  Rumpus   2017-04-12   \n",
       "14183   622810                Invasion   2018-06-15   \n",
       "15407   664780               Alter Ego   2017-08-08   \n",
       "15480   666660                 Castles   2017-07-14   \n",
       "15485   666810                    Luna   2017-08-15   \n",
       "16090   682340              Slice&Dice   2017-08-04   \n",
       "16225   686190            Killing Time   2017-09-20   \n",
       "16583   696580               The Tower   2018-02-16   \n",
       "17409   720060                  Colony   2017-12-15   \n",
       "17594   726120         Beyond the Wall   2017-10-24   \n",
       "18305   748540               Solitaire   2017-11-21   \n",
       "18655   758210             Escape Room   2017-12-11   \n",
       "18688   759010                  Escape   2018-01-28   \n",
       "19261   776080                   Dodge   2018-01-09   \n",
       "19455   781240                Mystical   2018-02-08   \n",
       "20571   814570        The Great Escape   2018-04-13   \n",
       "21000   827920                  Bounce   2018-04-02   \n",
       "21483   843780            City Builder   2018-05-27   \n",
       "21495   844040                    RUSH   2018-07-13   \n",
       "21697   850250             Dark Matter   2018-05-04   \n",
       "21919   857130               Evolution   2018-06-03   \n",
       "22428   871870                   Alone   2018-06-21   \n",
       "22548   875740                  Scorch   2018-08-15   \n",
       "23282   898980                The Mine   2018-08-08   \n",
       "23341   904160                   Ashes   2018-10-26   \n",
       "23365   904950                  Exodus   2018-08-20   \n",
       "23461   908180              Space Maze   2018-08-19   \n",
       "23474   908920     Nightmare Simulator   2018-09-02   \n",
       "23665   915440               Fireflies   2018-08-28   \n",
       "24565   951690                   Surge   2018-12-04   \n",
       "25223   980750        Santa's Workshop   2018-11-29   \n",
       "25298   984070            Chaos Theory   2019-02-01   \n",
       "25344   986080       Zombie Apocalypse   2019-03-09   \n",
       "25564   998820                  Cortex   2018-12-28   \n",
       "25793  1010860           Hide and Seek   2019-02-01   \n",
       "26077  1026330                    2048   2019-02-21   \n",
       "\n",
       "                             developer                              publisher  \\\n",
       "4635                         Meridian4                              Meridian4   \n",
       "7862   Kenneth Caselli;Gianmarco Rocco                       AceGamer Network   \n",
       "8176            Little Freedom Factory  United Independent Entertainment GmbH   \n",
       "9416            petraguardsoftware.com                 petraguardsoftware.com   \n",
       "10279                         FMG Labs                     Fusion Media Group   \n",
       "11373                 Polyraptor Games                       Polyraptor Games   \n",
       "14183                       brutalsoft                             brutalsoft   \n",
       "15407              Choose Multiple LLC                    Choose Multiple LLC   \n",
       "15480             Quicksilver Software                              interplay   \n",
       "15485                  Lushboy Studios                        Lushboy Studios   \n",
       "16090                          VRotein                                VRotein   \n",
       "16225                          ONEONE1                       Paradise Project   \n",
       "16583                     Headroom.one                           Headroom.one   \n",
       "17409                       eugeniy_kh                             eugeniy_kh   \n",
       "17594                         For Kids                               For Kids   \n",
       "18305                      baKno Games                            baKno Games   \n",
       "18655                      OneTechAsia                            OneTechAsia   \n",
       "18688                      Ragdoll Inc                            Ragdoll Inc   \n",
       "19261                          GabryGa                                GabryGa   \n",
       "19455                       Infogrames                       Piko Interactive   \n",
       "20571                   Ocean Software      Classics Digital;Piko Interactive   \n",
       "21000                 Mikhail Melnikov                       Mikhail Melnikov   \n",
       "21483                        Cow Corp.                              Cow Corp.   \n",
       "21495                  The Binary Mill                        The Binary Mill   \n",
       "21697                      Barty Games                            Barty Games   \n",
       "21919                            D1ONE                                  D1ONE   \n",
       "22428                          Avasion                                Avasion   \n",
       "22548                 Ellie's Lunchbox                       Ellie's Lunchbox   \n",
       "23282                  Ian;Megan;Maxen                                  M.I.M   \n",
       "23341                        WindLimit                              WindLimit   \n",
       "23365                   LucasGame;KVRA                              LucasGame   \n",
       "23461          Redox Entertainment Inc                Redox Entertainment Inc   \n",
       "23474                        INDIEPLAY                              INDIEPLAY   \n",
       "23665                 Sourabh P Hamigi                       Sourabh P Hamigi   \n",
       "24565             Campus ADN 2017-2018                             Campus ADN   \n",
       "25223                   TYB Publishing                         TYB Publishing   \n",
       "25298             Chaos Theory Studios                   Chaos Theory Studios   \n",
       "25344                          Kapitan                                Kapitan   \n",
       "25564                       Milan Toth                             Milan Toth   \n",
       "25793                      Funny Games                            Funny Games   \n",
       "26077                     Dexion Games                           Dexion Games   \n",
       "\n",
       "               platforms  required_age  \\\n",
       "4635             windows             0   \n",
       "7862       windows;linux             0   \n",
       "8176             windows             0   \n",
       "9416             windows             0   \n",
       "10279            windows             0   \n",
       "11373  windows;mac;linux             0   \n",
       "14183            windows             0   \n",
       "15407  windows;mac;linux             0   \n",
       "15480        windows;mac             0   \n",
       "15485        windows;mac             0   \n",
       "16090            windows             0   \n",
       "16225            windows             0   \n",
       "16583            windows             0   \n",
       "17409  windows;mac;linux             0   \n",
       "17594  windows;mac;linux             0   \n",
       "18305  windows;mac;linux             0   \n",
       "18655            windows             0   \n",
       "18688        windows;mac             0   \n",
       "19261            windows             0   \n",
       "19455            windows             0   \n",
       "20571            windows             0   \n",
       "21000  windows;mac;linux             0   \n",
       "21483            windows             0   \n",
       "21495            windows             0   \n",
       "21697            windows             0   \n",
       "21919            windows             0   \n",
       "22428            windows             0   \n",
       "22548            windows             0   \n",
       "23282            windows             0   \n",
       "23341            windows             0   \n",
       "23365            windows             0   \n",
       "23461            windows             0   \n",
       "23474            windows             0   \n",
       "23665            windows             0   \n",
       "24565            windows             0   \n",
       "25223            windows             0   \n",
       "25298            windows             0   \n",
       "25344            windows             0   \n",
       "25564  windows;mac;linux             0   \n",
       "25793            windows             0   \n",
       "26077            windows             0   \n",
       "\n",
       "                                              categories  \\\n",
       "4635            Single-player;Partial Controller Support   \n",
       "7862   Multi-player;Online Multi-Player;Steam Achieve...   \n",
       "8176                                       Single-player   \n",
       "9416        Single-player;Steam Achievements;Steam Cloud   \n",
       "10279  Single-player;Steam Achievements;Full controll...   \n",
       "11373  Single-player;Local Multi-Player;Local Co-op;S...   \n",
       "14183       Single-player;Steam Achievements;Steam Cloud   \n",
       "15407       Single-player;Captions available;Steam Cloud   \n",
       "15480                                      Single-player   \n",
       "15485           Single-player;Partial Controller Support   \n",
       "16090                   Single-player;Steam Achievements   \n",
       "16225      Single-player;Steam Trading Cards;Steam Cloud   \n",
       "16583                                Single-player;Stats   \n",
       "17409                                      Single-player   \n",
       "17594  Single-player;Steam Achievements;Steam Leaderb...   \n",
       "18305                                      Single-player   \n",
       "18655                                      Single-player   \n",
       "18688                   Single-player;Steam Achievements   \n",
       "19261                                      Single-player   \n",
       "19455             Single-player;Local Multi-Player;Co-op   \n",
       "20571                                      Single-player   \n",
       "21000  Single-player;Steam Achievements;Steam Cloud;S...   \n",
       "21483                   Single-player;Steam Achievements   \n",
       "21495  Single-player;Multi-player;Online Multi-Player...   \n",
       "21697                   Single-player;Steam Achievements   \n",
       "21919                                      Single-player   \n",
       "22428  Single-player;Steam Achievements;Partial Contr...   \n",
       "22548                                      Single-player   \n",
       "23282                                      Single-player   \n",
       "23341                   Single-player;Steam Achievements   \n",
       "23365           Single-player;Partial Controller Support   \n",
       "23461  Single-player;Partial Controller Support;Steam...   \n",
       "23474           Single-player;Partial Controller Support   \n",
       "23665           Single-player;Partial Controller Support   \n",
       "24565              Single-player;Full controller support   \n",
       "25223                   Single-player;Steam Leaderboards   \n",
       "25298                                      Single-player   \n",
       "25344                                      Single-player   \n",
       "25564                     Single-player;In-App Purchases   \n",
       "25793  Single-player;Multi-player;Online Multi-Player...   \n",
       "26077                                      Single-player   \n",
       "\n",
       "                                                  genres  \\\n",
       "4635                                 Action;Casual;Indie   \n",
       "7862                                        Action;Indie   \n",
       "8176                                          Simulation   \n",
       "9416                                              Casual   \n",
       "10279                                         Simulation   \n",
       "11373                                Action;Casual;Indie   \n",
       "14183                                       Action;Indie   \n",
       "15407              Adventure;Casual;Indie;RPG;Simulation   \n",
       "15480                                 Adventure;Strategy   \n",
       "15485                                       Action;Indie   \n",
       "16090                            Casual;Indie;Simulation   \n",
       "16225                                          Indie;RPG   \n",
       "16583                                    Adventure;Indie   \n",
       "17409                          Indie;Simulation;Strategy   \n",
       "17594                         Adventure;Casual;Indie;RPG   \n",
       "18305                            Casual;Indie;Simulation   \n",
       "18655                  Adventure;Simulation;Early Access   \n",
       "18688                             Action;Adventure;Indie   \n",
       "19261                                       Casual;Indie   \n",
       "19455                                             Action   \n",
       "20571               Action;Adventure;Simulation;Strategy   \n",
       "21000                                       Casual;Indie   \n",
       "21483                            Casual;Indie;Simulation   \n",
       "21495                    Action;Racing;Simulation;Sports   \n",
       "21697                                       Action;Indie   \n",
       "21919                                             Casual   \n",
       "22428                             Adventure;Casual;Indie   \n",
       "22548                          Casual;Free to Play;Indie   \n",
       "23282                                 Free to Play;Indie   \n",
       "23341                      Action;Adventure;Casual;Indie   \n",
       "23365         Action;Adventure;Casual;Indie;Early Access   \n",
       "23461              Action;Casual;Indie;Racing;Simulation   \n",
       "23474                         Action;Adventure;Indie;RPG   \n",
       "23665                      Action;Adventure;Casual;Indie   \n",
       "24565                             Action;Adventure;Indie   \n",
       "25223                                  Casual;Simulation   \n",
       "25298  Adventure;Indie;RPG;Simulation;Strategy;Early ...   \n",
       "25344         Action;Adventure;Casual;Indie;Early Access   \n",
       "25564                                             Action   \n",
       "25793      Action;Massively Multiplayer;RPG;Early Access   \n",
       "26077                            Casual;Indie;Simulation   \n",
       "\n",
       "                                   steamspy_tags  achievements  \\\n",
       "4635                         Action;Casual;Indie             0   \n",
       "7862                            Action;Indie;FPS             1   \n",
       "8176                                  Simulation             0   \n",
       "9416                                      Casual            11   \n",
       "10279                      Simulation;Mars;Space            10   \n",
       "11373                        Action;Indie;Casual            19   \n",
       "14183                        Action;Indie;Arcade            19   \n",
       "15407                      RPG;Casual;Simulation             0   \n",
       "15480                         Strategy;Adventure             0   \n",
       "15485             Action;Indie;Puzzle-Platformer            19   \n",
       "16090                    Casual;Indie;Simulation            17   \n",
       "16225                  Nudity;RPG;Sexual Content             0   \n",
       "16583                         Adventure;Indie;VR             0   \n",
       "17409                  Simulation;Strategy;Indie             0   \n",
       "17594                     Indie;Adventure;Casual            20   \n",
       "18305                    Indie;Casual;Simulation             0   \n",
       "18655          Early Access;Adventure;Simulation             0   \n",
       "18688                     Action;Adventure;Indie             8   \n",
       "19261                               Indie;Casual             0   \n",
       "19455                                     Action             0   \n",
       "20571                  Action;Strategy;Adventure             0   \n",
       "21000                               Indie;Casual           100   \n",
       "21483                    Indie;Casual;Simulation            40   \n",
       "21495                   Action;Simulation;Racing            16   \n",
       "21697                               Action;Indie             3   \n",
       "21919                                     Casual             0   \n",
       "22428                     Adventure;Indie;Casual             7   \n",
       "22548                  Free to Play;Indie;Casual             0   \n",
       "23282                  Free to Play;Indie;Horror             1   \n",
       "23341                     Action;Adventure;Indie            30   \n",
       "23365                  Early Access;Action;Indie             0   \n",
       "23461                        Action;Indie;Casual             0   \n",
       "23474                     Action;Adventure;Indie             0   \n",
       "23665                     Action;Adventure;Indie             0   \n",
       "24565                     Action;Indie;Adventure             0   \n",
       "25223                          Casual;Simulation             0   \n",
       "25298               Early Access;Adventure;Indie             0   \n",
       "25344                 Early Access;Action;Casual             0   \n",
       "25564                                     Action             0   \n",
       "25793  Early Access;Action;Massively Multiplayer             0   \n",
       "26077                    Indie;Casual;Simulation             0   \n",
       "\n",
       "       positive_ratings  negative_ratings  average_playtime  median_playtime  \\\n",
       "4635                 75                50                 0                0   \n",
       "7862                123               100                 0                0   \n",
       "8176                  7                42                 0                0   \n",
       "9416                  1                 1                 0                0   \n",
       "10279                40                22                 0                0   \n",
       "11373                23                 0                 0                0   \n",
       "14183                24                 1                 0                0   \n",
       "15407                17                 8                 0                0   \n",
       "15480                 2                 3                 0                0   \n",
       "15485                10                 0                 0                0   \n",
       "16090                 1                 0                 0                0   \n",
       "16225               512               179               237              237   \n",
       "16583                 7                 5                 0                0   \n",
       "17409                 1                 1                 0                0   \n",
       "17594                28                10                 0                0   \n",
       "18305                 4                 5                 0                0   \n",
       "18655                 5                17                 0                0   \n",
       "18688                11                15                 0                0   \n",
       "19261                19                 9                 0                0   \n",
       "19455                 1                 6                 0                0   \n",
       "20571                 3                 9                 0                0   \n",
       "21000                17                 5                 0                0   \n",
       "21483                 6                 4                 0                0   \n",
       "21495                64                 9                 0                0   \n",
       "21697                 3                 3                 0                0   \n",
       "21919                15                 8                 0                0   \n",
       "22428                17                 5                 0                0   \n",
       "22548               182                37                 0                0   \n",
       "23282                58                30                 0                0   \n",
       "23341                12                 3                 0                0   \n",
       "23365                 2                 4                 0                0   \n",
       "23461                13                 1                 0                0   \n",
       "23474                 1                 3                 0                0   \n",
       "23665                 9                 4                 0                0   \n",
       "24565                 3                 1                 0                0   \n",
       "25223                 2                 0                 0                0   \n",
       "25298                 7                 5                 0                0   \n",
       "25344                21                 7                 0                0   \n",
       "25564                 5                 0                 0                0   \n",
       "25793                55                38                 0                0   \n",
       "26077                 0                 1                 0                0   \n",
       "\n",
       "              owners  price  \n",
       "4635   100000-200000   3.99  \n",
       "7862         0-20000  13.99  \n",
       "8176         0-20000   3.99  \n",
       "9416         0-20000   1.59  \n",
       "10279        0-20000  10.99  \n",
       "11373        0-20000   9.99  \n",
       "14183        0-20000   3.99  \n",
       "15407        0-20000   5.59  \n",
       "15480        0-20000   6.99  \n",
       "15485        0-20000   0.79  \n",
       "16090        0-20000   3.99  \n",
       "16225  100000-200000   1.59  \n",
       "16583        0-20000   5.19  \n",
       "17409        0-20000   1.69  \n",
       "17594        0-20000   1.69  \n",
       "18305        0-20000   3.99  \n",
       "18655        0-20000   0.00  \n",
       "18688        0-20000   2.09  \n",
       "19261        0-20000   0.79  \n",
       "19455        0-20000   3.99  \n",
       "20571        0-20000   2.89  \n",
       "21000        0-20000   0.79  \n",
       "21483        0-20000   1.69  \n",
       "21495    20000-50000  15.49  \n",
       "21697        0-20000   0.79  \n",
       "21919        0-20000   2.89  \n",
       "22428        0-20000   0.79  \n",
       "22548   50000-100000   0.00  \n",
       "23282        0-20000   0.00  \n",
       "23341        0-20000   2.89  \n",
       "23365        0-20000   3.99  \n",
       "23461        0-20000   5.79  \n",
       "23474        0-20000   2.09  \n",
       "23665        0-20000   1.69  \n",
       "24565        0-20000   0.00  \n",
       "25223        0-20000   1.69  \n",
       "25298        0-20000  10.99  \n",
       "25344        0-20000   1.69  \n",
       "25564        0-20000   0.00  \n",
       "25793        0-20000   2.09  \n",
       "26077        0-20000   0.79  "
      ]
     },
     "execution_count": 5,
     "metadata": {},
     "output_type": "execute_result"
    }
   ],
   "source": [
    "steam_df[steam_df['name'].duplicated()]"
   ]
  },
  {
   "cell_type": "markdown",
   "id": "228f1566",
   "metadata": {},
   "source": [
    "## Cleaning data"
   ]
  },
  {
   "cell_type": "markdown",
   "id": "5d2fd6a4",
   "metadata": {},
   "source": [
    "### Games whose `name`, `developer`, or `publisher` contain non-ASCII characters."
   ]
  },
  {
   "cell_type": "code",
   "execution_count": 6,
   "id": "1115a6b6",
   "metadata": {
    "ExecuteTime": {
     "end_time": "2022-09-07T09:52:13.625733Z",
     "start_time": "2022-09-07T09:52:13.545032Z"
    }
   },
   "outputs": [
    {
     "data": {
      "text/plain": [
       "37          Gumboy - Crazy Adventures™\n",
       "40                                GUN™\n",
       "41                       Call of Duty®\n",
       "42                     Call of Duty® 2\n",
       "56                          FlatOut 2™\n",
       "                     ...              \n",
       "26479            10-4 Indirect Contact\n",
       "26499     Twinkle Star - 未来はすぐそこで待っている\n",
       "26504     胜利即正义! / Victory is justice！\n",
       "26507    The Underground Watcher/地下监察员\n",
       "26522                   Blacksmith Run\n",
       "Name: name, Length: 1628, dtype: object"
      ]
     },
     "execution_count": 6,
     "metadata": {},
     "output_type": "execute_result"
    }
   ],
   "source": [
    "steam_df[~(steam_df['name'].map(str.isascii) & \n",
    "          steam_df['developer'].map(str.isascii) & \n",
    "          steam_df['publisher'].map(str.isascii))]['name']"
   ]
  },
  {
   "cell_type": "markdown",
   "id": "41fe56d9",
   "metadata": {},
   "source": [
    "### Converting `release_date` to `datetime`"
   ]
  },
  {
   "cell_type": "code",
   "execution_count": 7,
   "id": "761257dd",
   "metadata": {
    "ExecuteTime": {
     "end_time": "2022-09-07T09:52:13.688317Z",
     "start_time": "2022-09-07T09:52:13.632207Z"
    }
   },
   "outputs": [
    {
     "data": {
      "text/plain": [
       "dtype('<M8[ns]')"
      ]
     },
     "execution_count": 7,
     "metadata": {},
     "output_type": "execute_result"
    }
   ],
   "source": [
    "steam_df['release_date'] = pd.to_datetime(steam_df['release_date'])\n",
    "steam_df['release_date'].dtype"
   ]
  },
  {
   "cell_type": "markdown",
   "id": "17008529",
   "metadata": {},
   "source": [
    "### Checking the binning of `owners`"
   ]
  },
  {
   "cell_type": "code",
   "execution_count": 8,
   "id": "187aac3e",
   "metadata": {
    "ExecuteTime": {
     "end_time": "2022-09-07T09:52:13.720217Z",
     "start_time": "2022-09-07T09:52:13.696281Z"
    }
   },
   "outputs": [
    {
     "data": {
      "text/plain": [
       "0       5000000-10000000\n",
       "1            20000-50000\n",
       "2         500000-1000000\n",
       "3        2000000-5000000\n",
       "4          100000-200000\n",
       "5           50000-100000\n",
       "6        1000000-2000000\n",
       "7          200000-500000\n",
       "8      10000000-20000000\n",
       "9                0-20000\n",
       "10     20000000-50000000\n",
       "11    50000000-100000000\n",
       "dtype: object"
      ]
     },
     "execution_count": 8,
     "metadata": {},
     "output_type": "execute_result"
    }
   ],
   "source": [
    "pd.Series(steam_df['owners'].unique())"
   ]
  },
  {
   "cell_type": "markdown",
   "id": "d43ee6ad",
   "metadata": {},
   "source": [
    "### Taking the floor `owners`"
   ]
  },
  {
   "cell_type": "code",
   "execution_count": 9,
   "id": "61b915a4",
   "metadata": {
    "ExecuteTime": {
     "end_time": "2022-09-07T09:52:13.751924Z",
     "start_time": "2022-09-07T09:52:13.723207Z"
    }
   },
   "outputs": [
    {
     "data": {
      "text/plain": [
       "{'5000000-10000000': 10000000,\n",
       " '20000-50000': 5000000,\n",
       " '500000-1000000': 2000000,\n",
       " '2000000-5000000': 20000000,\n",
       " '100000-200000': 100000000,\n",
       " '50000-100000': 50000000,\n",
       " '1000000-2000000': 20000,\n",
       " '200000-500000': 500000,\n",
       " '10000000-20000000': 100000,\n",
       " '0-20000': 50000,\n",
       " '20000000-50000000': 1000000,\n",
       " '50000000-100000000': 200000}"
      ]
     },
     "execution_count": 9,
     "metadata": {},
     "output_type": "execute_result"
    }
   ],
   "source": [
    "floor_owners = np.array([10_000_000, 5_000_000, 2_000_000, 20_000_000, \n",
    "                         100_000_000, 50_000_000, 20_000, 500_000, 100_000, \n",
    "                         50_000, 1_000_000, 200_000, 0])\n",
    "\n",
    "floor_owner_dict = dict(zip(steam_df['owners'].unique(), floor_owners))\n",
    "floor_owner_dict"
   ]
  },
  {
   "cell_type": "code",
   "execution_count": 10,
   "id": "2e211f95",
   "metadata": {
    "ExecuteTime": {
     "end_time": "2022-09-07T09:52:13.782402Z",
     "start_time": "2022-09-07T09:52:13.761910Z"
    }
   },
   "outputs": [
    {
     "data": {
      "text/plain": [
       "{'5000000-10000000': 15000000,\n",
       " '20000-50000': 7500000,\n",
       " '500000-1000000': 3500000,\n",
       " '2000000-5000000': 35000000,\n",
       " '100000-200000': 150000000,\n",
       " '50000-100000': 75000000,\n",
       " '1000000-2000000': 35000,\n",
       " '200000-500000': 750000,\n",
       " '10000000-20000000': 150000,\n",
       " '0-20000': 75000,\n",
       " '20000000-50000000': 1500000,\n",
       " '50000000-100000000': 350000}"
      ]
     },
     "execution_count": 10,
     "metadata": {},
     "output_type": "execute_result"
    }
   ],
   "source": [
    "ave_owners = np.array([15_000_000, 7_500_000, 3_500_000, 35_000_000, \n",
    "                       150_000_000, 75_000_000, 35_000, 750_000, 150_000, \n",
    "                       75_000, 1_500_000, 350_000, 10_000])\n",
    "\n",
    "ave_owner_dict = dict(zip(steam_df['owners'].unique(), ave_owners))\n",
    "ave_owner_dict"
   ]
  },
  {
   "cell_type": "code",
   "execution_count": 11,
   "id": "13e91af2",
   "metadata": {
    "ExecuteTime": {
     "end_time": "2022-09-07T09:52:13.859997Z",
     "start_time": "2022-09-07T09:52:13.787390Z"
    }
   },
   "outputs": [],
   "source": [
    "steam_df = steam_df.replace({'owners': ave_owner_dict})"
   ]
  },
  {
   "cell_type": "markdown",
   "id": "ff78c84f",
   "metadata": {},
   "source": [
    "## Statistics"
   ]
  },
  {
   "cell_type": "code",
   "execution_count": 12,
   "id": "1d5bf15a",
   "metadata": {
    "ExecuteTime": {
     "end_time": "2022-09-07T09:52:13.968048Z",
     "start_time": "2022-09-07T09:52:13.867265Z"
    }
   },
   "outputs": [
    {
     "data": {
      "text/html": [
       "<div>\n",
       "<style scoped>\n",
       "    .dataframe tbody tr th:only-of-type {\n",
       "        vertical-align: middle;\n",
       "    }\n",
       "\n",
       "    .dataframe tbody tr th {\n",
       "        vertical-align: top;\n",
       "    }\n",
       "\n",
       "    .dataframe thead th {\n",
       "        text-align: right;\n",
       "    }\n",
       "</style>\n",
       "<table border=\"1\" class=\"dataframe\">\n",
       "  <thead>\n",
       "    <tr style=\"text-align: right;\">\n",
       "      <th></th>\n",
       "      <th>required_age</th>\n",
       "      <th>achievements</th>\n",
       "      <th>positive_ratings</th>\n",
       "      <th>negative_ratings</th>\n",
       "      <th>average_playtime</th>\n",
       "      <th>median_playtime</th>\n",
       "      <th>owners</th>\n",
       "      <th>price</th>\n",
       "    </tr>\n",
       "  </thead>\n",
       "  <tbody>\n",
       "    <tr>\n",
       "      <th>count</th>\n",
       "      <td>26536.000000</td>\n",
       "      <td>26536.000000</td>\n",
       "      <td>26536.000000</td>\n",
       "      <td>26536.000000</td>\n",
       "      <td>26536.000000</td>\n",
       "      <td>26536.000000</td>\n",
       "      <td>2.653600e+04</td>\n",
       "      <td>26536.000000</td>\n",
       "    </tr>\n",
       "    <tr>\n",
       "      <th>mean</th>\n",
       "      <td>0.356233</td>\n",
       "      <td>45.939215</td>\n",
       "      <td>832.027095</td>\n",
       "      <td>190.709527</td>\n",
       "      <td>146.438951</td>\n",
       "      <td>144.567908</td>\n",
       "      <td>1.377621e+07</td>\n",
       "      <td>6.088543</td>\n",
       "    </tr>\n",
       "    <tr>\n",
       "      <th>std</th>\n",
       "      <td>2.409387</td>\n",
       "      <td>356.167752</td>\n",
       "      <td>7889.472542</td>\n",
       "      <td>3438.610713</td>\n",
       "      <td>1809.516050</td>\n",
       "      <td>2335.418746</td>\n",
       "      <td>3.668024e+07</td>\n",
       "      <td>7.880293</td>\n",
       "    </tr>\n",
       "    <tr>\n",
       "      <th>min</th>\n",
       "      <td>0.000000</td>\n",
       "      <td>0.000000</td>\n",
       "      <td>0.000000</td>\n",
       "      <td>0.000000</td>\n",
       "      <td>0.000000</td>\n",
       "      <td>0.000000</td>\n",
       "      <td>3.500000e+04</td>\n",
       "      <td>0.000000</td>\n",
       "    </tr>\n",
       "    <tr>\n",
       "      <th>25%</th>\n",
       "      <td>0.000000</td>\n",
       "      <td>0.000000</td>\n",
       "      <td>6.000000</td>\n",
       "      <td>2.000000</td>\n",
       "      <td>0.000000</td>\n",
       "      <td>0.000000</td>\n",
       "      <td>7.500000e+04</td>\n",
       "      <td>1.690000</td>\n",
       "    </tr>\n",
       "    <tr>\n",
       "      <th>50%</th>\n",
       "      <td>0.000000</td>\n",
       "      <td>7.000000</td>\n",
       "      <td>25.000000</td>\n",
       "      <td>9.000000</td>\n",
       "      <td>0.000000</td>\n",
       "      <td>0.000000</td>\n",
       "      <td>7.500000e+04</td>\n",
       "      <td>3.990000</td>\n",
       "    </tr>\n",
       "    <tr>\n",
       "      <th>75%</th>\n",
       "      <td>0.000000</td>\n",
       "      <td>23.000000</td>\n",
       "      <td>126.000000</td>\n",
       "      <td>42.000000</td>\n",
       "      <td>0.000000</td>\n",
       "      <td>0.000000</td>\n",
       "      <td>3.500000e+06</td>\n",
       "      <td>7.190000</td>\n",
       "    </tr>\n",
       "    <tr>\n",
       "      <th>max</th>\n",
       "      <td>18.000000</td>\n",
       "      <td>9821.000000</td>\n",
       "      <td>496184.000000</td>\n",
       "      <td>487076.000000</td>\n",
       "      <td>190625.000000</td>\n",
       "      <td>190625.000000</td>\n",
       "      <td>1.500000e+08</td>\n",
       "      <td>421.990000</td>\n",
       "    </tr>\n",
       "  </tbody>\n",
       "</table>\n",
       "</div>"
      ],
      "text/plain": [
       "       required_age  achievements  positive_ratings  negative_ratings  \\\n",
       "count  26536.000000  26536.000000      26536.000000      26536.000000   \n",
       "mean       0.356233     45.939215        832.027095        190.709527   \n",
       "std        2.409387    356.167752       7889.472542       3438.610713   \n",
       "min        0.000000      0.000000          0.000000          0.000000   \n",
       "25%        0.000000      0.000000          6.000000          2.000000   \n",
       "50%        0.000000      7.000000         25.000000          9.000000   \n",
       "75%        0.000000     23.000000        126.000000         42.000000   \n",
       "max       18.000000   9821.000000     496184.000000     487076.000000   \n",
       "\n",
       "       average_playtime  median_playtime        owners         price  \n",
       "count      26536.000000     26536.000000  2.653600e+04  26536.000000  \n",
       "mean         146.438951       144.567908  1.377621e+07      6.088543  \n",
       "std         1809.516050      2335.418746  3.668024e+07      7.880293  \n",
       "min            0.000000         0.000000  3.500000e+04      0.000000  \n",
       "25%            0.000000         0.000000  7.500000e+04      1.690000  \n",
       "50%            0.000000         0.000000  7.500000e+04      3.990000  \n",
       "75%            0.000000         0.000000  3.500000e+06      7.190000  \n",
       "max       190625.000000    190625.000000  1.500000e+08    421.990000  "
      ]
     },
     "execution_count": 12,
     "metadata": {},
     "output_type": "execute_result"
    }
   ],
   "source": [
    "steam_df.drop(columns=['appid']).describe()"
   ]
  },
  {
   "cell_type": "markdown",
   "id": "95a655bf",
   "metadata": {},
   "source": [
    "# Feature engineering"
   ]
  },
  {
   "cell_type": "code",
   "execution_count": 13,
   "id": "a2038f14",
   "metadata": {
    "ExecuteTime": {
     "end_time": "2022-09-07T09:52:13.998144Z",
     "start_time": "2022-09-07T09:52:13.972036Z"
    }
   },
   "outputs": [
    {
     "data": {
      "text/html": [
       "<div>\n",
       "<style scoped>\n",
       "    .dataframe tbody tr th:only-of-type {\n",
       "        vertical-align: middle;\n",
       "    }\n",
       "\n",
       "    .dataframe tbody tr th {\n",
       "        vertical-align: top;\n",
       "    }\n",
       "\n",
       "    .dataframe thead th {\n",
       "        text-align: right;\n",
       "    }\n",
       "</style>\n",
       "<table border=\"1\" class=\"dataframe\">\n",
       "  <thead>\n",
       "    <tr style=\"text-align: right;\">\n",
       "      <th></th>\n",
       "      <th>appid</th>\n",
       "    </tr>\n",
       "  </thead>\n",
       "  <tbody>\n",
       "    <tr>\n",
       "      <th>0</th>\n",
       "      <td>50</td>\n",
       "    </tr>\n",
       "    <tr>\n",
       "      <th>1</th>\n",
       "      <td>130</td>\n",
       "    </tr>\n",
       "    <tr>\n",
       "      <th>2</th>\n",
       "      <td>1002</td>\n",
       "    </tr>\n",
       "    <tr>\n",
       "      <th>3</th>\n",
       "      <td>1200</td>\n",
       "    </tr>\n",
       "    <tr>\n",
       "      <th>4</th>\n",
       "      <td>1250</td>\n",
       "    </tr>\n",
       "    <tr>\n",
       "      <th>...</th>\n",
       "      <td>...</td>\n",
       "    </tr>\n",
       "    <tr>\n",
       "      <th>26531</th>\n",
       "      <td>1065230</td>\n",
       "    </tr>\n",
       "    <tr>\n",
       "      <th>26532</th>\n",
       "      <td>1065570</td>\n",
       "    </tr>\n",
       "    <tr>\n",
       "      <th>26533</th>\n",
       "      <td>1065650</td>\n",
       "    </tr>\n",
       "    <tr>\n",
       "      <th>26534</th>\n",
       "      <td>1066700</td>\n",
       "    </tr>\n",
       "    <tr>\n",
       "      <th>26535</th>\n",
       "      <td>1069460</td>\n",
       "    </tr>\n",
       "  </tbody>\n",
       "</table>\n",
       "<p>26536 rows × 1 columns</p>\n",
       "</div>"
      ],
      "text/plain": [
       "         appid\n",
       "0           50\n",
       "1          130\n",
       "2         1002\n",
       "3         1200\n",
       "4         1250\n",
       "...        ...\n",
       "26531  1065230\n",
       "26532  1065570\n",
       "26533  1065650\n",
       "26534  1066700\n",
       "26535  1069460\n",
       "\n",
       "[26536 rows x 1 columns]"
      ]
     },
     "execution_count": 13,
     "metadata": {},
     "output_type": "execute_result"
    }
   ],
   "source": [
    "# New dataframe to store new features (mergable by `name`)\n",
    "extra_df = steam_df['appid'].to_frame()\n",
    "extra_df"
   ]
  },
  {
   "cell_type": "markdown",
   "id": "c2831cf0",
   "metadata": {},
   "source": [
    "## `price_range`\n",
    "---\n",
    "**Outlier treatment proposition.**\n",
    "\n",
    "Games priced above $50$ GBP are outliers. Only a few gamers can afford such high prices."
   ]
  },
  {
   "cell_type": "code",
   "execution_count": 14,
   "id": "1b916839",
   "metadata": {
    "ExecuteTime": {
     "end_time": "2022-09-07T09:52:14.045259Z",
     "start_time": "2022-09-07T09:52:14.001135Z"
    }
   },
   "outputs": [
    {
     "data": {
      "text/html": [
       "<div>\n",
       "<style scoped>\n",
       "    .dataframe tbody tr th:only-of-type {\n",
       "        vertical-align: middle;\n",
       "    }\n",
       "\n",
       "    .dataframe tbody tr th {\n",
       "        vertical-align: top;\n",
       "    }\n",
       "\n",
       "    .dataframe thead th {\n",
       "        text-align: right;\n",
       "    }\n",
       "</style>\n",
       "<table border=\"1\" class=\"dataframe\">\n",
       "  <thead>\n",
       "    <tr style=\"text-align: right;\">\n",
       "      <th></th>\n",
       "      <th>appid</th>\n",
       "      <th>price_range</th>\n",
       "    </tr>\n",
       "  </thead>\n",
       "  <tbody>\n",
       "    <tr>\n",
       "      <th>0</th>\n",
       "      <td>50</td>\n",
       "      <td>(0.31, 40.0]</td>\n",
       "    </tr>\n",
       "    <tr>\n",
       "      <th>1</th>\n",
       "      <td>130</td>\n",
       "      <td>(0.31, 40.0]</td>\n",
       "    </tr>\n",
       "    <tr>\n",
       "      <th>2</th>\n",
       "      <td>1002</td>\n",
       "      <td>(0.31, 40.0]</td>\n",
       "    </tr>\n",
       "    <tr>\n",
       "      <th>3</th>\n",
       "      <td>1200</td>\n",
       "      <td>(0.31, 40.0]</td>\n",
       "    </tr>\n",
       "    <tr>\n",
       "      <th>4</th>\n",
       "      <td>1250</td>\n",
       "      <td>(0.31, 40.0]</td>\n",
       "    </tr>\n",
       "    <tr>\n",
       "      <th>...</th>\n",
       "      <td>...</td>\n",
       "      <td>...</td>\n",
       "    </tr>\n",
       "    <tr>\n",
       "      <th>26531</th>\n",
       "      <td>1065230</td>\n",
       "      <td>(0.31, 40.0]</td>\n",
       "    </tr>\n",
       "    <tr>\n",
       "      <th>26532</th>\n",
       "      <td>1065570</td>\n",
       "      <td>(0.31, 40.0]</td>\n",
       "    </tr>\n",
       "    <tr>\n",
       "      <th>26533</th>\n",
       "      <td>1065650</td>\n",
       "      <td>(0.31, 40.0]</td>\n",
       "    </tr>\n",
       "    <tr>\n",
       "      <th>26534</th>\n",
       "      <td>1066700</td>\n",
       "      <td>(0.31, 40.0]</td>\n",
       "    </tr>\n",
       "    <tr>\n",
       "      <th>26535</th>\n",
       "      <td>1069460</td>\n",
       "      <td>(0.31, 40.0]</td>\n",
       "    </tr>\n",
       "  </tbody>\n",
       "</table>\n",
       "<p>26536 rows × 2 columns</p>\n",
       "</div>"
      ],
      "text/plain": [
       "         appid   price_range\n",
       "0           50  (0.31, 40.0]\n",
       "1          130  (0.31, 40.0]\n",
       "2         1002  (0.31, 40.0]\n",
       "3         1200  (0.31, 40.0]\n",
       "4         1250  (0.31, 40.0]\n",
       "...        ...           ...\n",
       "26531  1065230  (0.31, 40.0]\n",
       "26532  1065570  (0.31, 40.0]\n",
       "26533  1065650  (0.31, 40.0]\n",
       "26534  1066700  (0.31, 40.0]\n",
       "26535  1069460  (0.31, 40.0]\n",
       "\n",
       "[26536 rows x 2 columns]"
      ]
     },
     "execution_count": 14,
     "metadata": {},
     "output_type": "execute_result"
    }
   ],
   "source": [
    "# 1 GBP to PHP conversion for potential analysis\n",
    "GBP_to_PHP = 65.37\n",
    "\n",
    "# Custom binning to categorize price range\n",
    "price_binning = np.linspace(0, 422, 20)\n",
    "price_binning = np.array([-0.1, 0.31, 40, 50, 100, 422])\n",
    "\n",
    "extra_df['price_range'] = pd.cut(steam_df['price'], price_binning)\n",
    "extra_df"
   ]
  },
  {
   "cell_type": "markdown",
   "id": "d39a6dc1",
   "metadata": {},
   "source": [
    "## `release_year`"
   ]
  },
  {
   "cell_type": "code",
   "execution_count": 15,
   "id": "aa21692f",
   "metadata": {
    "ExecuteTime": {
     "end_time": "2022-09-07T09:52:14.075193Z",
     "start_time": "2022-09-07T09:52:14.049069Z"
    }
   },
   "outputs": [
    {
     "data": {
      "text/html": [
       "<div>\n",
       "<style scoped>\n",
       "    .dataframe tbody tr th:only-of-type {\n",
       "        vertical-align: middle;\n",
       "    }\n",
       "\n",
       "    .dataframe tbody tr th {\n",
       "        vertical-align: top;\n",
       "    }\n",
       "\n",
       "    .dataframe thead th {\n",
       "        text-align: right;\n",
       "    }\n",
       "</style>\n",
       "<table border=\"1\" class=\"dataframe\">\n",
       "  <thead>\n",
       "    <tr style=\"text-align: right;\">\n",
       "      <th></th>\n",
       "      <th>appid</th>\n",
       "      <th>price_range</th>\n",
       "      <th>release_year</th>\n",
       "    </tr>\n",
       "  </thead>\n",
       "  <tbody>\n",
       "    <tr>\n",
       "      <th>0</th>\n",
       "      <td>50</td>\n",
       "      <td>(0.31, 40.0]</td>\n",
       "      <td>1999</td>\n",
       "    </tr>\n",
       "    <tr>\n",
       "      <th>1</th>\n",
       "      <td>130</td>\n",
       "      <td>(0.31, 40.0]</td>\n",
       "      <td>2001</td>\n",
       "    </tr>\n",
       "    <tr>\n",
       "      <th>2</th>\n",
       "      <td>1002</td>\n",
       "      <td>(0.31, 40.0]</td>\n",
       "      <td>2005</td>\n",
       "    </tr>\n",
       "    <tr>\n",
       "      <th>3</th>\n",
       "      <td>1200</td>\n",
       "      <td>(0.31, 40.0]</td>\n",
       "      <td>2006</td>\n",
       "    </tr>\n",
       "    <tr>\n",
       "      <th>4</th>\n",
       "      <td>1250</td>\n",
       "      <td>(0.31, 40.0]</td>\n",
       "      <td>2009</td>\n",
       "    </tr>\n",
       "    <tr>\n",
       "      <th>...</th>\n",
       "      <td>...</td>\n",
       "      <td>...</td>\n",
       "      <td>...</td>\n",
       "    </tr>\n",
       "    <tr>\n",
       "      <th>26531</th>\n",
       "      <td>1065230</td>\n",
       "      <td>(0.31, 40.0]</td>\n",
       "      <td>2019</td>\n",
       "    </tr>\n",
       "    <tr>\n",
       "      <th>26532</th>\n",
       "      <td>1065570</td>\n",
       "      <td>(0.31, 40.0]</td>\n",
       "      <td>2019</td>\n",
       "    </tr>\n",
       "    <tr>\n",
       "      <th>26533</th>\n",
       "      <td>1065650</td>\n",
       "      <td>(0.31, 40.0]</td>\n",
       "      <td>2019</td>\n",
       "    </tr>\n",
       "    <tr>\n",
       "      <th>26534</th>\n",
       "      <td>1066700</td>\n",
       "      <td>(0.31, 40.0]</td>\n",
       "      <td>2019</td>\n",
       "    </tr>\n",
       "    <tr>\n",
       "      <th>26535</th>\n",
       "      <td>1069460</td>\n",
       "      <td>(0.31, 40.0]</td>\n",
       "      <td>2019</td>\n",
       "    </tr>\n",
       "  </tbody>\n",
       "</table>\n",
       "<p>26536 rows × 3 columns</p>\n",
       "</div>"
      ],
      "text/plain": [
       "         appid   price_range  release_year\n",
       "0           50  (0.31, 40.0]          1999\n",
       "1          130  (0.31, 40.0]          2001\n",
       "2         1002  (0.31, 40.0]          2005\n",
       "3         1200  (0.31, 40.0]          2006\n",
       "4         1250  (0.31, 40.0]          2009\n",
       "...        ...           ...           ...\n",
       "26531  1065230  (0.31, 40.0]          2019\n",
       "26532  1065570  (0.31, 40.0]          2019\n",
       "26533  1065650  (0.31, 40.0]          2019\n",
       "26534  1066700  (0.31, 40.0]          2019\n",
       "26535  1069460  (0.31, 40.0]          2019\n",
       "\n",
       "[26536 rows x 3 columns]"
      ]
     },
     "execution_count": 15,
     "metadata": {},
     "output_type": "execute_result"
    }
   ],
   "source": [
    "extra_df['release_year'] = steam_df['release_date'].dt.year\n",
    "extra_df"
   ]
  },
  {
   "cell_type": "markdown",
   "id": "feaeb1ac",
   "metadata": {},
   "source": [
    "## `total_ratings`\n",
    "---\n",
    "**Outlier treatment proposition.**\n",
    "\n",
    "Set a lower bound within the range of `total_ratings` values to check only relevant games."
   ]
  },
  {
   "cell_type": "code",
   "execution_count": 16,
   "id": "1b5e6368",
   "metadata": {
    "ExecuteTime": {
     "end_time": "2022-09-07T09:52:14.107187Z",
     "start_time": "2022-09-07T09:52:14.078185Z"
    }
   },
   "outputs": [
    {
     "data": {
      "text/html": [
       "<div>\n",
       "<style scoped>\n",
       "    .dataframe tbody tr th:only-of-type {\n",
       "        vertical-align: middle;\n",
       "    }\n",
       "\n",
       "    .dataframe tbody tr th {\n",
       "        vertical-align: top;\n",
       "    }\n",
       "\n",
       "    .dataframe thead th {\n",
       "        text-align: right;\n",
       "    }\n",
       "</style>\n",
       "<table border=\"1\" class=\"dataframe\">\n",
       "  <thead>\n",
       "    <tr style=\"text-align: right;\">\n",
       "      <th></th>\n",
       "      <th>appid</th>\n",
       "      <th>price_range</th>\n",
       "      <th>release_year</th>\n",
       "      <th>total_ratings</th>\n",
       "    </tr>\n",
       "  </thead>\n",
       "  <tbody>\n",
       "    <tr>\n",
       "      <th>0</th>\n",
       "      <td>50</td>\n",
       "      <td>(0.31, 40.0]</td>\n",
       "      <td>1999</td>\n",
       "      <td>5538</td>\n",
       "    </tr>\n",
       "    <tr>\n",
       "      <th>1</th>\n",
       "      <td>130</td>\n",
       "      <td>(0.31, 40.0]</td>\n",
       "      <td>2001</td>\n",
       "      <td>4242</td>\n",
       "    </tr>\n",
       "    <tr>\n",
       "      <th>2</th>\n",
       "      <td>1002</td>\n",
       "      <td>(0.31, 40.0]</td>\n",
       "      <td>2005</td>\n",
       "      <td>57</td>\n",
       "    </tr>\n",
       "    <tr>\n",
       "      <th>3</th>\n",
       "      <td>1200</td>\n",
       "      <td>(0.31, 40.0]</td>\n",
       "      <td>2006</td>\n",
       "      <td>1785</td>\n",
       "    </tr>\n",
       "    <tr>\n",
       "      <th>4</th>\n",
       "      <td>1250</td>\n",
       "      <td>(0.31, 40.0]</td>\n",
       "      <td>2009</td>\n",
       "      <td>56359</td>\n",
       "    </tr>\n",
       "    <tr>\n",
       "      <th>...</th>\n",
       "      <td>...</td>\n",
       "      <td>...</td>\n",
       "      <td>...</td>\n",
       "      <td>...</td>\n",
       "    </tr>\n",
       "    <tr>\n",
       "      <th>26531</th>\n",
       "      <td>1065230</td>\n",
       "      <td>(0.31, 40.0]</td>\n",
       "      <td>2019</td>\n",
       "      <td>3</td>\n",
       "    </tr>\n",
       "    <tr>\n",
       "      <th>26532</th>\n",
       "      <td>1065570</td>\n",
       "      <td>(0.31, 40.0]</td>\n",
       "      <td>2019</td>\n",
       "      <td>9</td>\n",
       "    </tr>\n",
       "    <tr>\n",
       "      <th>26533</th>\n",
       "      <td>1065650</td>\n",
       "      <td>(0.31, 40.0]</td>\n",
       "      <td>2019</td>\n",
       "      <td>1</td>\n",
       "    </tr>\n",
       "    <tr>\n",
       "      <th>26534</th>\n",
       "      <td>1066700</td>\n",
       "      <td>(0.31, 40.0]</td>\n",
       "      <td>2019</td>\n",
       "      <td>2</td>\n",
       "    </tr>\n",
       "    <tr>\n",
       "      <th>26535</th>\n",
       "      <td>1069460</td>\n",
       "      <td>(0.31, 40.0]</td>\n",
       "      <td>2019</td>\n",
       "      <td>4</td>\n",
       "    </tr>\n",
       "  </tbody>\n",
       "</table>\n",
       "<p>26536 rows × 4 columns</p>\n",
       "</div>"
      ],
      "text/plain": [
       "         appid   price_range  release_year  total_ratings\n",
       "0           50  (0.31, 40.0]          1999           5538\n",
       "1          130  (0.31, 40.0]          2001           4242\n",
       "2         1002  (0.31, 40.0]          2005             57\n",
       "3         1200  (0.31, 40.0]          2006           1785\n",
       "4         1250  (0.31, 40.0]          2009          56359\n",
       "...        ...           ...           ...            ...\n",
       "26531  1065230  (0.31, 40.0]          2019              3\n",
       "26532  1065570  (0.31, 40.0]          2019              9\n",
       "26533  1065650  (0.31, 40.0]          2019              1\n",
       "26534  1066700  (0.31, 40.0]          2019              2\n",
       "26535  1069460  (0.31, 40.0]          2019              4\n",
       "\n",
       "[26536 rows x 4 columns]"
      ]
     },
     "execution_count": 16,
     "metadata": {},
     "output_type": "execute_result"
    }
   ],
   "source": [
    "extra_df['total_ratings'] = (steam_df['positive_ratings'] \n",
    "                            + steam_df['negative_ratings'])\n",
    "extra_df"
   ]
  },
  {
   "cell_type": "markdown",
   "id": "5db2a153",
   "metadata": {},
   "source": [
    "## `score`\n",
    "---\n",
    "**Outlier treatment proposition.**\n",
    "\n",
    "$100\\%$ `ratings` are outliers. In reality, this only happens if a game is so unknown that nobody actually plays it."
   ]
  },
  {
   "cell_type": "markdown",
   "id": "9ac5d556",
   "metadata": {},
   "source": [
    "**Note.**\n",
    "\n",
    "Set a threshold for the `total_ratings` for `ratings` that are valid/reflective of the game's success/popularity.\n",
    "\n",
    "Try: `sns.histplot`"
   ]
  },
  {
   "cell_type": "code",
   "execution_count": 17,
   "id": "805ff2f7",
   "metadata": {
    "ExecuteTime": {
     "end_time": "2022-09-07T09:52:14.154207Z",
     "start_time": "2022-09-07T09:52:14.110184Z"
    }
   },
   "outputs": [
    {
     "data": {
      "text/html": [
       "<div>\n",
       "<style scoped>\n",
       "    .dataframe tbody tr th:only-of-type {\n",
       "        vertical-align: middle;\n",
       "    }\n",
       "\n",
       "    .dataframe tbody tr th {\n",
       "        vertical-align: top;\n",
       "    }\n",
       "\n",
       "    .dataframe thead th {\n",
       "        text-align: right;\n",
       "    }\n",
       "</style>\n",
       "<table border=\"1\" class=\"dataframe\">\n",
       "  <thead>\n",
       "    <tr style=\"text-align: right;\">\n",
       "      <th></th>\n",
       "      <th>appid</th>\n",
       "      <th>price_range</th>\n",
       "      <th>release_year</th>\n",
       "      <th>total_ratings</th>\n",
       "      <th>score</th>\n",
       "    </tr>\n",
       "  </thead>\n",
       "  <tbody>\n",
       "    <tr>\n",
       "      <th>0</th>\n",
       "      <td>50</td>\n",
       "      <td>(0.31, 40.0]</td>\n",
       "      <td>1999</td>\n",
       "      <td>5538</td>\n",
       "      <td>94.80</td>\n",
       "    </tr>\n",
       "    <tr>\n",
       "      <th>1</th>\n",
       "      <td>130</td>\n",
       "      <td>(0.31, 40.0]</td>\n",
       "      <td>2001</td>\n",
       "      <td>4242</td>\n",
       "      <td>90.10</td>\n",
       "    </tr>\n",
       "    <tr>\n",
       "      <th>2</th>\n",
       "      <td>1002</td>\n",
       "      <td>(0.31, 40.0]</td>\n",
       "      <td>2005</td>\n",
       "      <td>57</td>\n",
       "      <td>70.18</td>\n",
       "    </tr>\n",
       "    <tr>\n",
       "      <th>3</th>\n",
       "      <td>1200</td>\n",
       "      <td>(0.31, 40.0]</td>\n",
       "      <td>2006</td>\n",
       "      <td>1785</td>\n",
       "      <td>87.51</td>\n",
       "    </tr>\n",
       "    <tr>\n",
       "      <th>4</th>\n",
       "      <td>1250</td>\n",
       "      <td>(0.31, 40.0]</td>\n",
       "      <td>2009</td>\n",
       "      <td>56359</td>\n",
       "      <td>95.30</td>\n",
       "    </tr>\n",
       "    <tr>\n",
       "      <th>...</th>\n",
       "      <td>...</td>\n",
       "      <td>...</td>\n",
       "      <td>...</td>\n",
       "      <td>...</td>\n",
       "      <td>...</td>\n",
       "    </tr>\n",
       "    <tr>\n",
       "      <th>26531</th>\n",
       "      <td>1065230</td>\n",
       "      <td>(0.31, 40.0]</td>\n",
       "      <td>2019</td>\n",
       "      <td>3</td>\n",
       "      <td>100.00</td>\n",
       "    </tr>\n",
       "    <tr>\n",
       "      <th>26532</th>\n",
       "      <td>1065570</td>\n",
       "      <td>(0.31, 40.0]</td>\n",
       "      <td>2019</td>\n",
       "      <td>9</td>\n",
       "      <td>88.89</td>\n",
       "    </tr>\n",
       "    <tr>\n",
       "      <th>26533</th>\n",
       "      <td>1065650</td>\n",
       "      <td>(0.31, 40.0]</td>\n",
       "      <td>2019</td>\n",
       "      <td>1</td>\n",
       "      <td>0.00</td>\n",
       "    </tr>\n",
       "    <tr>\n",
       "      <th>26534</th>\n",
       "      <td>1066700</td>\n",
       "      <td>(0.31, 40.0]</td>\n",
       "      <td>2019</td>\n",
       "      <td>2</td>\n",
       "      <td>100.00</td>\n",
       "    </tr>\n",
       "    <tr>\n",
       "      <th>26535</th>\n",
       "      <td>1069460</td>\n",
       "      <td>(0.31, 40.0]</td>\n",
       "      <td>2019</td>\n",
       "      <td>4</td>\n",
       "      <td>100.00</td>\n",
       "    </tr>\n",
       "  </tbody>\n",
       "</table>\n",
       "<p>26536 rows × 5 columns</p>\n",
       "</div>"
      ],
      "text/plain": [
       "         appid   price_range  release_year  total_ratings   score\n",
       "0           50  (0.31, 40.0]          1999           5538   94.80\n",
       "1          130  (0.31, 40.0]          2001           4242   90.10\n",
       "2         1002  (0.31, 40.0]          2005             57   70.18\n",
       "3         1200  (0.31, 40.0]          2006           1785   87.51\n",
       "4         1250  (0.31, 40.0]          2009          56359   95.30\n",
       "...        ...           ...           ...            ...     ...\n",
       "26531  1065230  (0.31, 40.0]          2019              3  100.00\n",
       "26532  1065570  (0.31, 40.0]          2019              9   88.89\n",
       "26533  1065650  (0.31, 40.0]          2019              1    0.00\n",
       "26534  1066700  (0.31, 40.0]          2019              2  100.00\n",
       "26535  1069460  (0.31, 40.0]          2019              4  100.00\n",
       "\n",
       "[26536 rows x 5 columns]"
      ]
     },
     "execution_count": 17,
     "metadata": {},
     "output_type": "execute_result"
    }
   ],
   "source": [
    "extra_df['score'] = round(steam_df['positive_ratings']\n",
    "                           /extra_df['total_ratings']*100, 2)\n",
    "extra_df"
   ]
  },
  {
   "cell_type": "markdown",
   "id": "578dc4f6",
   "metadata": {},
   "source": [
    "## `total_revenue`\n",
    "---\n",
    "This is a proxy for total revenue data by multiplying the number of `owners` by the `price`.\n",
    "\n",
    "**Note.**\n",
    "- This is applicable only to paid games.\n",
    "- Older games will naturally aggregate more total revenue through time.\n",
    "- Players will almost always buy the game either on release or during Steam sales.\n",
    "\n",
    "---\n",
    "**Outlier treatment proposition.**\n",
    "\n",
    "Set a lower bound within the range of `total_revenue` values to check only relevant games."
   ]
  },
  {
   "cell_type": "code",
   "execution_count": 18,
   "id": "77a4fc40",
   "metadata": {
    "ExecuteTime": {
     "end_time": "2022-09-07T09:52:14.202210Z",
     "start_time": "2022-09-07T09:52:14.159255Z"
    }
   },
   "outputs": [
    {
     "data": {
      "text/html": [
       "<div>\n",
       "<style scoped>\n",
       "    .dataframe tbody tr th:only-of-type {\n",
       "        vertical-align: middle;\n",
       "    }\n",
       "\n",
       "    .dataframe tbody tr th {\n",
       "        vertical-align: top;\n",
       "    }\n",
       "\n",
       "    .dataframe thead th {\n",
       "        text-align: right;\n",
       "    }\n",
       "</style>\n",
       "<table border=\"1\" class=\"dataframe\">\n",
       "  <thead>\n",
       "    <tr style=\"text-align: right;\">\n",
       "      <th></th>\n",
       "      <th>appid</th>\n",
       "      <th>price_range</th>\n",
       "      <th>release_year</th>\n",
       "      <th>total_ratings</th>\n",
       "      <th>score</th>\n",
       "      <th>total_revenue</th>\n",
       "    </tr>\n",
       "  </thead>\n",
       "  <tbody>\n",
       "    <tr>\n",
       "      <th>0</th>\n",
       "      <td>50</td>\n",
       "      <td>(0.31, 40.0]</td>\n",
       "      <td>1999</td>\n",
       "      <td>5538</td>\n",
       "      <td>94.80</td>\n",
       "      <td>59850000.0</td>\n",
       "    </tr>\n",
       "    <tr>\n",
       "      <th>1</th>\n",
       "      <td>130</td>\n",
       "      <td>(0.31, 40.0]</td>\n",
       "      <td>2001</td>\n",
       "      <td>4242</td>\n",
       "      <td>90.10</td>\n",
       "      <td>59850000.0</td>\n",
       "    </tr>\n",
       "    <tr>\n",
       "      <th>2</th>\n",
       "      <td>1002</td>\n",
       "      <td>(0.31, 40.0]</td>\n",
       "      <td>2005</td>\n",
       "      <td>57</td>\n",
       "      <td>70.18</td>\n",
       "      <td>44925000.0</td>\n",
       "    </tr>\n",
       "    <tr>\n",
       "      <th>3</th>\n",
       "      <td>1200</td>\n",
       "      <td>(0.31, 40.0]</td>\n",
       "      <td>2006</td>\n",
       "      <td>1785</td>\n",
       "      <td>87.51</td>\n",
       "      <td>13965000.0</td>\n",
       "    </tr>\n",
       "    <tr>\n",
       "      <th>4</th>\n",
       "      <td>1250</td>\n",
       "      <td>(0.31, 40.0]</td>\n",
       "      <td>2009</td>\n",
       "      <td>56359</td>\n",
       "      <td>95.30</td>\n",
       "      <td>524650000.0</td>\n",
       "    </tr>\n",
       "    <tr>\n",
       "      <th>...</th>\n",
       "      <td>...</td>\n",
       "      <td>...</td>\n",
       "      <td>...</td>\n",
       "      <td>...</td>\n",
       "      <td>...</td>\n",
       "      <td>...</td>\n",
       "    </tr>\n",
       "    <tr>\n",
       "      <th>26531</th>\n",
       "      <td>1065230</td>\n",
       "      <td>(0.31, 40.0]</td>\n",
       "      <td>2019</td>\n",
       "      <td>3</td>\n",
       "      <td>100.00</td>\n",
       "      <td>156750.0</td>\n",
       "    </tr>\n",
       "    <tr>\n",
       "      <th>26532</th>\n",
       "      <td>1065570</td>\n",
       "      <td>(0.31, 40.0]</td>\n",
       "      <td>2019</td>\n",
       "      <td>9</td>\n",
       "      <td>88.89</td>\n",
       "      <td>126750.0</td>\n",
       "    </tr>\n",
       "    <tr>\n",
       "      <th>26533</th>\n",
       "      <td>1065650</td>\n",
       "      <td>(0.31, 40.0]</td>\n",
       "      <td>2019</td>\n",
       "      <td>1</td>\n",
       "      <td>0.00</td>\n",
       "      <td>299250.0</td>\n",
       "    </tr>\n",
       "    <tr>\n",
       "      <th>26534</th>\n",
       "      <td>1066700</td>\n",
       "      <td>(0.31, 40.0]</td>\n",
       "      <td>2019</td>\n",
       "      <td>2</td>\n",
       "      <td>100.00</td>\n",
       "      <td>389250.0</td>\n",
       "    </tr>\n",
       "    <tr>\n",
       "      <th>26535</th>\n",
       "      <td>1069460</td>\n",
       "      <td>(0.31, 40.0]</td>\n",
       "      <td>2019</td>\n",
       "      <td>4</td>\n",
       "      <td>100.00</td>\n",
       "      <td>389250.0</td>\n",
       "    </tr>\n",
       "  </tbody>\n",
       "</table>\n",
       "<p>26536 rows × 6 columns</p>\n",
       "</div>"
      ],
      "text/plain": [
       "         appid   price_range  release_year  total_ratings   score  \\\n",
       "0           50  (0.31, 40.0]          1999           5538   94.80   \n",
       "1          130  (0.31, 40.0]          2001           4242   90.10   \n",
       "2         1002  (0.31, 40.0]          2005             57   70.18   \n",
       "3         1200  (0.31, 40.0]          2006           1785   87.51   \n",
       "4         1250  (0.31, 40.0]          2009          56359   95.30   \n",
       "...        ...           ...           ...            ...     ...   \n",
       "26531  1065230  (0.31, 40.0]          2019              3  100.00   \n",
       "26532  1065570  (0.31, 40.0]          2019              9   88.89   \n",
       "26533  1065650  (0.31, 40.0]          2019              1    0.00   \n",
       "26534  1066700  (0.31, 40.0]          2019              2  100.00   \n",
       "26535  1069460  (0.31, 40.0]          2019              4  100.00   \n",
       "\n",
       "       total_revenue  \n",
       "0         59850000.0  \n",
       "1         59850000.0  \n",
       "2         44925000.0  \n",
       "3         13965000.0  \n",
       "4        524650000.0  \n",
       "...              ...  \n",
       "26531       156750.0  \n",
       "26532       126750.0  \n",
       "26533       299250.0  \n",
       "26534       389250.0  \n",
       "26535       389250.0  \n",
       "\n",
       "[26536 rows x 6 columns]"
      ]
     },
     "execution_count": 18,
     "metadata": {},
     "output_type": "execute_result"
    }
   ],
   "source": [
    "extra_df['total_revenue'] = steam_df['owners'] * steam_df['price']\n",
    "extra_df"
   ]
  },
  {
   "cell_type": "markdown",
   "id": "843e3d4a",
   "metadata": {},
   "source": [
    "## Merge `steam_df` and `extra_df` by `app_id`"
   ]
  },
  {
   "cell_type": "code",
   "execution_count": 19,
   "id": "860b7b73",
   "metadata": {
    "ExecuteTime": {
     "end_time": "2022-09-07T09:52:15.655928Z",
     "start_time": "2022-09-07T09:52:14.206348Z"
    }
   },
   "outputs": [],
   "source": [
    "# main_df contains all existing and newly-engineered features.\n",
    "main_df = steam_df.merge(extra_df, how='left')\n",
    "\n",
    "main_df.to_csv('steam_for_tableau.csv', index=False)"
   ]
  },
  {
   "cell_type": "markdown",
   "id": "0abee5b7",
   "metadata": {},
   "source": [
    "# Univariate Analysis"
   ]
  },
  {
   "cell_type": "markdown",
   "id": "fdb27996",
   "metadata": {},
   "source": [
    "## Counting values"
   ]
  },
  {
   "cell_type": "markdown",
   "id": "75c2c7a2",
   "metadata": {},
   "source": [
    "### Number of games by `developer`"
   ]
  },
  {
   "cell_type": "code",
   "execution_count": 56,
   "id": "93db33dc",
   "metadata": {
    "ExecuteTime": {
     "end_time": "2022-09-07T09:54:24.528091Z",
     "start_time": "2022-09-07T09:54:24.490124Z"
    }
   },
   "outputs": [
    {
     "data": {
      "text/plain": [
       "Choice of Games             94\n",
       "Ripknot Systems             62\n",
       "Laush Dmitriy Sergeevich    51\n",
       "Nikita \"Ghost_RUS\"          50\n",
       "Dexion Games                45\n",
       "RewindApp                   43\n",
       "Hosted Games                42\n",
       "Blender Games               40\n",
       "Humongous Entertainment     36\n",
       "For Kids                    36\n",
       "EnsenaSoft                  35\n",
       "Name: developer, dtype: int64"
      ]
     },
     "execution_count": 56,
     "metadata": {},
     "output_type": "execute_result"
    }
   ],
   "source": [
    "hist_dev = main_df['developer'].value_counts()[main_df['developer'].value_counts() >= 35]\n",
    "hist_dev"
   ]
  },
  {
   "cell_type": "markdown",
   "id": "05b2e91e",
   "metadata": {},
   "source": [
    "Insighting based on the complete data will be a hit or miss for developers with relatively few games released. So for actionable insights, treat them separately."
   ]
  },
  {
   "cell_type": "code",
   "execution_count": 58,
   "id": "393bb95c",
   "metadata": {
    "ExecuteTime": {
     "end_time": "2022-09-07T09:54:42.307936Z",
     "start_time": "2022-09-07T09:54:41.724708Z"
    }
   },
   "outputs": [
    {
     "data": {
      "text/plain": [
       "<AxesSubplot:>"
      ]
     },
     "execution_count": 58,
     "metadata": {},
     "output_type": "execute_result"
    },
    {
     "data": {
      "image/png": "[encoded data removed]",
      "text/plain": [
       "<Figure size 1080x720 with 1 Axes>"
      ]
     },
     "metadata": {},
     "output_type": "display_data"
    }
   ],
   "source": [
    "hist_dev.sort_values().plot(kind='barh')"
   ]
  },
  {
   "cell_type": "code",
   "execution_count": 22,
   "id": "82b4d138",
   "metadata": {
    "ExecuteTime": {
     "end_time": "2022-09-07T09:52:17.083107Z",
     "start_time": "2022-09-07T09:52:16.469974Z"
    }
   },
   "outputs": [
    {
     "data": {
      "text/plain": [
       "<AxesSubplot:>"
      ]
     },
     "execution_count": 22,
     "metadata": {},
     "output_type": "execute_result"
    },
    {
     "data": {
      "image/png": "[encoded data removed]",
      "text/plain": [
       "<Figure size 1080x720 with 1 Axes>"
      ]
     },
     "metadata": {},
     "output_type": "display_data"
    }
   ],
   "source": [
    "main_df[main_df['developer'].isin(hist_dev.index)]['developer'].hist()"
   ]
  },
  {
   "cell_type": "markdown",
   "id": "819ba4d8",
   "metadata": {
    "ExecuteTime": {
     "end_time": "2022-09-03T06:25:30.388166Z",
     "start_time": "2022-09-03T06:25:30.351941Z"
    }
   },
   "source": [
    "### Number of games by `publisher`"
   ]
  },
  {
   "cell_type": "code",
   "execution_count": 69,
   "id": "81879ae8",
   "metadata": {
    "ExecuteTime": {
     "end_time": "2022-09-07T09:56:36.392375Z",
     "start_time": "2022-09-07T09:56:36.368457Z"
    }
   },
   "outputs": [
    {
     "data": {
      "text/plain": [
       "Big Fish Games         212\n",
       "Strategy First         136\n",
       "Ubisoft                111\n",
       "THQ Nordic              98\n",
       "Square Enix             97\n",
       "Sekai Project           96\n",
       "Choice of Games         94\n",
       "1C Entertainment        88\n",
       "Dagestan Technology     87\n",
       "SEGA                    78\n",
       "Degica                  72\n",
       "Plug In Digital         72\n",
       "KISS ltd                71\n",
       "Slitherine Ltd.         71\n",
       "Name: publisher, dtype: int64"
      ]
     },
     "execution_count": 69,
     "metadata": {},
     "output_type": "execute_result"
    }
   ],
   "source": [
    "hist_pub = main_df['publisher'].value_counts()[:14]\n",
    "hist_pub"
   ]
  },
  {
   "cell_type": "code",
   "execution_count": 71,
   "id": "3d2974e6",
   "metadata": {
    "ExecuteTime": {
     "end_time": "2022-09-07T09:56:46.447599Z",
     "start_time": "2022-09-07T09:56:45.679557Z"
    }
   },
   "outputs": [
    {
     "data": {
      "text/plain": [
       "<AxesSubplot:>"
      ]
     },
     "execution_count": 71,
     "metadata": {},
     "output_type": "execute_result"
    },
    {
     "data": {
      "image/png": "[encoded data removed]",
      "text/plain": [
       "<Figure size 1080x720 with 1 Axes>"
      ]
     },
     "metadata": {},
     "output_type": "display_data"
    }
   ],
   "source": [
    "hist_pub.sort_values().plot(kind='barh')"
   ]
  },
  {
   "cell_type": "markdown",
   "id": "a77752c5",
   "metadata": {},
   "source": [
    "### Number of games by `required_age`\n",
    "\n",
    "**Look this up online.**\n",
    "- Who sets the binning the binning of age restriction?\n",
    "- **Answer.** Entertainment Software Rating Board. Check this [link](https://pegi.info/what-do-the-labels-mean)."
   ]
  },
  {
   "cell_type": "code",
   "execution_count": 24,
   "id": "5d3c68f8",
   "metadata": {
    "ExecuteTime": {
     "end_time": "2022-09-07T09:52:17.176062Z",
     "start_time": "2022-09-07T09:52:17.150226Z"
    },
    "scrolled": true
   },
   "outputs": [
    {
     "data": {
      "text/plain": [
       "0     25949\n",
       "18      300\n",
       "16      192\n",
       "12       72\n",
       "7        12\n",
       "3        11\n",
       "Name: required_age, dtype: int64"
      ]
     },
     "execution_count": 24,
     "metadata": {},
     "output_type": "execute_result"
    }
   ],
   "source": [
    "main_df['required_age'].value_counts()"
   ]
  },
  {
   "cell_type": "code",
   "execution_count": 74,
   "id": "981b5bf2",
   "metadata": {
    "ExecuteTime": {
     "end_time": "2022-09-07T09:57:38.091169Z",
     "start_time": "2022-09-07T09:57:37.757936Z"
    }
   },
   "outputs": [
    {
     "data": {
      "text/plain": [
       "<AxesSubplot:>"
      ]
     },
     "execution_count": 74,
     "metadata": {},
     "output_type": "execute_result"
    },
    {
     "data": {
      "image/png": "[encoded data removed]",
      "text/plain": [
       "<Figure size 1080x720 with 1 Axes>"
      ]
     },
     "metadata": {},
     "output_type": "display_data"
    }
   ],
   "source": [
    "main_df['required_age'].value_counts()[1:].plot(kind='bar')"
   ]
  },
  {
   "cell_type": "markdown",
   "id": "ec96c8e6",
   "metadata": {},
   "source": [
    "### Number of games by `owners`"
   ]
  },
  {
   "cell_type": "code",
   "execution_count": 76,
   "id": "04f32e7a",
   "metadata": {
    "ExecuteTime": {
     "end_time": "2022-09-07T09:58:27.651091Z",
     "start_time": "2022-09-07T09:58:27.635068Z"
    }
   },
   "outputs": [
    {
     "data": {
      "text/plain": [
       "75000        18166\n",
       "7500000       3016\n",
       "75000000      1676\n",
       "150000000     1373\n",
       "750000        1268\n",
       "3500000        512\n",
       "35000          285\n",
       "35000000       190\n",
       "15000000        35\n",
       "150000          12\n",
       "1500000          2\n",
       "350000           1\n",
       "Name: owners, dtype: int64"
      ]
     },
     "execution_count": 76,
     "metadata": {},
     "output_type": "execute_result"
    }
   ],
   "source": [
    "hist_owner = main_df['owners'].value_counts()\n",
    "hist_owner"
   ]
  },
  {
   "cell_type": "code",
   "execution_count": 77,
   "id": "0d0bb95a",
   "metadata": {
    "ExecuteTime": {
     "end_time": "2022-09-07T09:58:43.630422Z",
     "start_time": "2022-09-07T09:58:43.156148Z"
    }
   },
   "outputs": [
    {
     "data": {
      "text/plain": [
       "<AxesSubplot:>"
      ]
     },
     "execution_count": 77,
     "metadata": {},
     "output_type": "execute_result"
    },
    {
     "data": {
      "image/png": "[encoded data removed]",
      "text/plain": [
       "<Figure size 1080x720 with 1 Axes>"
      ]
     },
     "metadata": {},
     "output_type": "display_data"
    }
   ],
   "source": [
    "hist_owner.plot(kind='bar')"
   ]
  },
  {
   "cell_type": "markdown",
   "id": "b0d161b0",
   "metadata": {},
   "source": [
    "### Number of games by `platforms`"
   ]
  },
  {
   "cell_type": "code",
   "execution_count": 26,
   "id": "84a7c894",
   "metadata": {
    "ExecuteTime": {
     "end_time": "2022-09-07T09:52:17.252524Z",
     "start_time": "2022-09-07T09:52:17.228676Z"
    },
    "scrolled": true
   },
   "outputs": [
    {
     "data": {
      "text/plain": [
       "windows              17934\n",
       "windows;mac;linux     4584\n",
       "windows;mac           3405\n",
       "windows;linux          608\n",
       "mac                      3\n",
       "mac;linux                1\n",
       "linux                    1\n",
       "Name: platforms, dtype: int64"
      ]
     },
     "execution_count": 26,
     "metadata": {},
     "output_type": "execute_result"
    }
   ],
   "source": [
    "main_df['platforms'].value_counts()"
   ]
  },
  {
   "cell_type": "markdown",
   "id": "c7dbdd33",
   "metadata": {},
   "source": [
    "### Number of games by `achievements`\n",
    "\n",
    "**Potential insights.**\n",
    "- There are certain genres that are only popular if they have a lot of achievements. Look into bivariate analysis."
   ]
  },
  {
   "cell_type": "code",
   "execution_count": 85,
   "id": "d83a2351",
   "metadata": {
    "ExecuteTime": {
     "end_time": "2022-09-07T10:00:40.608977Z",
     "start_time": "2022-09-07T10:00:40.584430Z"
    }
   },
   "outputs": [
    {
     "data": {
      "text/plain": [
       "0     11525\n",
       "10      671\n",
       "12      611\n",
       "20      562\n",
       "15      487\n",
       "      ...  \n",
       "71       18\n",
       "85       18\n",
       "81       17\n",
       "99       17\n",
       "82       17\n",
       "Name: achievements, Length: 85, dtype: int64"
      ]
     },
     "execution_count": 85,
     "metadata": {},
     "output_type": "execute_result"
    }
   ],
   "source": [
    "hist_achieve = main_df['achievements'].value_counts()[main_df['achievements'].value_counts() >= 17]\n",
    "hist_achieve"
   ]
  },
  {
   "cell_type": "code",
   "execution_count": 92,
   "id": "bb278aaa",
   "metadata": {
    "ExecuteTime": {
     "end_time": "2022-09-07T10:02:46.137126Z",
     "start_time": "2022-09-07T10:02:45.704465Z"
    }
   },
   "outputs": [
    {
     "data": {
      "text/plain": [
       "<AxesSubplot:>"
      ]
     },
     "execution_count": 92,
     "metadata": {},
     "output_type": "execute_result"
    },
    {
     "data": {
      "image/png": "[encoded data removed]",
      "text/plain": [
       "<Figure size 1080x720 with 1 Axes>"
      ]
     },
     "metadata": {},
     "output_type": "display_data"
    }
   ],
   "source": [
    "main_df[main_df['achievements'] >= 17]['achievements'].hist()"
   ]
  },
  {
   "cell_type": "markdown",
   "id": "fd81f4a8",
   "metadata": {},
   "source": [
    "### Number of games by `categories`\n",
    "\n",
    "Note that categories are not mutually exclusive. Therefore, the total count per category does not correspond to the total number of games, that is, some games may be counted in multiple categories."
   ]
  },
  {
   "cell_type": "markdown",
   "id": "87827bce",
   "metadata": {},
   "source": [
    "#### Wrangling"
   ]
  },
  {
   "cell_type": "code",
   "execution_count": 28,
   "id": "46569932",
   "metadata": {
    "ExecuteTime": {
     "end_time": "2022-09-07T09:52:17.437581Z",
     "start_time": "2022-09-07T09:52:17.294953Z"
    }
   },
   "outputs": [
    {
     "data": {
      "text/plain": [
       "0           SteamVR Collectibles\n",
       "1                  Single-player\n",
       "2          Includes level editor\n",
       "3             Steam Achievements\n",
       "4                            MMO\n",
       "5            Steam Trading Cards\n",
       "6                    Local Co-op\n",
       "7            Includes Source SDK\n",
       "8                          Stats\n",
       "9               In-App Purchases\n",
       "10                   Steam Cloud\n",
       "11    Partial Controller Support\n",
       "12      Steam Turn Notifications\n",
       "13      Valve Anti-Cheat enabled\n",
       "14            Steam Leaderboards\n",
       "15            Captions available\n",
       "16                Steam Workshop\n",
       "17                  Online Co-op\n",
       "18       Full controller support\n",
       "19           Shared/Split Screen\n",
       "20          Commentary available\n",
       "21            Mods (require HL2)\n",
       "22           Online Multi-Player\n",
       "23            Local Multi-Player\n",
       "24    Cross-Platform Multiplayer\n",
       "25                  Multi-player\n",
       "26                    VR Support\n",
       "27                          Mods\n",
       "28                         Co-op\n",
       "dtype: object"
      ]
     },
     "execution_count": 28,
     "metadata": {},
     "output_type": "execute_result"
    }
   ],
   "source": [
    "# Find all unique categories\n",
    "categories = np.array(list(set([cat for entry in main_df['categories']\n",
    "                                .str.split(';').tolist() \n",
    "                                for cat in entry])))\n",
    "pd.Series(categories)"
   ]
  },
  {
   "cell_type": "markdown",
   "id": "36f15630",
   "metadata": {},
   "source": [
    "#### Counting"
   ]
  },
  {
   "cell_type": "code",
   "execution_count": 29,
   "id": "792aef6a",
   "metadata": {
    "ExecuteTime": {
     "end_time": "2022-09-07T09:52:17.468499Z",
     "start_time": "2022-09-07T09:52:17.440572Z"
    }
   },
   "outputs": [
    {
     "data": {
      "text/plain": [
       "Single-player                                                                                                                                            5910\n",
       "Single-player;Steam Achievements                                                                                                                         2286\n",
       "Single-player;Steam Achievements;Steam Trading Cards                                                                                                      843\n",
       "Single-player;Partial Controller Support                                                                                                                  787\n",
       "Single-player;Steam Trading Cards                                                                                                                         785\n",
       "                                                                                                                                                         ... \n",
       "Single-player;Multi-player;Online Multi-Player;Steam Trading Cards;Steam Workshop;Partial Controller Support;Steam Leaderboards;Includes level editor       1\n",
       "Single-player;Multi-player;MMO;Co-op;Cross-Platform Multiplayer;Partial Controller Support                                                                  1\n",
       "Single-player;Steam Achievements;VR Support;Partial Controller Support;Steam Leaderboards                                                                   1\n",
       "Single-player;Online Multi-Player;Online Co-op;Steam Achievements;Steam Workshop;Steam Leaderboards;Includes level editor                                   1\n",
       "Multi-player;Online Multi-Player;Cross-Platform Multiplayer;Stats                                                                                           1\n",
       "Name: categories, Length: 3301, dtype: int64"
      ]
     },
     "execution_count": 29,
     "metadata": {},
     "output_type": "execute_result"
    }
   ],
   "source": [
    "# Number of games by unique combination of categories\n",
    "cat_per_entry = main_df['categories'].value_counts()\n",
    "cat_per_entry"
   ]
  },
  {
   "cell_type": "code",
   "execution_count": 30,
   "id": "1233087a",
   "metadata": {
    "ExecuteTime": {
     "end_time": "2022-09-07T09:52:17.622031Z",
     "start_time": "2022-09-07T09:52:17.472488Z"
    }
   },
   "outputs": [
    {
     "name": "stderr",
     "output_type": "stream",
     "text": [
      "C:\\Users\\Jam\\AppData\\Local\\Temp/ipykernel_7960/420599164.py:2: UserWarning: This pattern has match groups. To actually get the groups, use str.extract.\n",
      "  cat_counts = (pd.DataFrame((cat, cat_per_entry[cat_per_entry\n"
     ]
    },
    {
     "data": {
      "text/plain": [
       "categories\n",
       "Single-player                 94.905035\n",
       "Steam Achievements            52.611547\n",
       "Steam Trading Cards           29.635213\n",
       "Steam Cloud                   26.590292\n",
       "Full controller support       21.355894\n",
       "Partial Controller Support    15.729575\n",
       "Multi-player                  14.817606\n",
       "Steam Leaderboards            12.922068\n",
       "Co-op                          9.741483\n",
       "Online Multi-Player            9.202593\n",
       "Shared/Split Screen            8.083358\n",
       "Stats                          7.016883\n",
       "Local Multi-Player             6.052156\n",
       "Cross-Platform Multiplayer     4.043563\n",
       "Online Co-op                   4.005879\n",
       "Local Co-op                    3.979500\n",
       "Includes level editor          3.881519\n",
       "Steam Workshop                 3.338860\n",
       "Captions available             2.668074\n",
       "In-App Purchases               2.509798\n",
       "MMO                            1.518692\n",
       "VR Support                     0.866747\n",
       "Commentary available           0.497437\n",
       "Valve Anti-Cheat enabled       0.293940\n",
       "Steam Turn Notifications       0.237413\n",
       "SteamVR Collectibles           0.143202\n",
       "Includes Source SDK            0.097980\n",
       "Mods                           0.007537\n",
       "Mods (require HL2)             0.000000\n",
       "Name: count, dtype: float64"
      ]
     },
     "execution_count": 30,
     "metadata": {},
     "output_type": "execute_result"
    }
   ],
   "source": [
    "# Number of games by category\n",
    "cat_counts = (pd.DataFrame((cat, cat_per_entry[cat_per_entry\n",
    "                                              .index\n",
    "                                              .str.contains(cat)]\n",
    "                           .sum()) for cat in categories)\n",
    "              .rename(columns={0:'categories', 1:'count'})\n",
    "              .set_index('categories')\n",
    "              .squeeze().sort_values(ascending=False))\n",
    "\n",
    "cat_percent = cat_counts/main_df.shape[0]*100\n",
    "cat_percent"
   ]
  },
  {
   "cell_type": "code",
   "execution_count": 94,
   "id": "db17e2a9",
   "metadata": {
    "ExecuteTime": {
     "end_time": "2022-09-07T10:04:46.360828Z",
     "start_time": "2022-09-07T10:04:45.209080Z"
    }
   },
   "outputs": [
    {
     "data": {
      "text/plain": [
       "<AxesSubplot:ylabel='categories'>"
      ]
     },
     "execution_count": 94,
     "metadata": {},
     "output_type": "execute_result"
    },
    {
     "data": {
      "image/png": "[encoded data removed]",
      "text/plain": [
       "<Figure size 1080x720 with 1 Axes>"
      ]
     },
     "metadata": {},
     "output_type": "display_data"
    }
   ],
   "source": [
    "cat_percent.sort_values().plot(kind='barh')"
   ]
  },
  {
   "cell_type": "markdown",
   "id": "da7ce2ad",
   "metadata": {},
   "source": [
    "### Number of games by `genres`\n",
    "\n",
    "Note that genres are not mutually exclusive. Therefore, the total count per genre does not correspond to the total number of games, that is, some games may be counted in multiple genres."
   ]
  },
  {
   "cell_type": "markdown",
   "id": "31fc8be2",
   "metadata": {},
   "source": [
    "#### Wrangling"
   ]
  },
  {
   "cell_type": "code",
   "execution_count": 31,
   "id": "de1246eb",
   "metadata": {
    "ExecuteTime": {
     "end_time": "2022-09-07T09:52:17.714435Z",
     "start_time": "2022-09-07T09:52:17.626118Z"
    }
   },
   "outputs": [
    {
     "data": {
      "text/plain": [
       "0     Massively Multiplayer\n",
       "1                       RPG\n",
       "2                    Racing\n",
       "3            Web Publishing\n",
       "4                    Action\n",
       "5         Software Training\n",
       "6                     Indie\n",
       "7                Simulation\n",
       "8            Sexual Content\n",
       "9                    Nudity\n",
       "10              Documentary\n",
       "11                Adventure\n",
       "12             Early Access\n",
       "13         Game Development\n",
       "14                  Violent\n",
       "15                   Casual\n",
       "16                   Sports\n",
       "17                Education\n",
       "18         Video Production\n",
       "19     Animation & Modeling\n",
       "20                Utilities\n",
       "21         Audio Production\n",
       "22               Accounting\n",
       "23    Design & Illustration\n",
       "24                 Strategy\n",
       "25                     Gore\n",
       "26                 Tutorial\n",
       "27            Photo Editing\n",
       "28             Free to Play\n",
       "dtype: object"
      ]
     },
     "execution_count": 31,
     "metadata": {},
     "output_type": "execute_result"
    }
   ],
   "source": [
    "genres = np.array(list(set([gen for entry in main_df['genres']\n",
    "                                .str.split(';').tolist() \n",
    "                                for gen in entry])))\n",
    "pd.Series(genres)"
   ]
  },
  {
   "cell_type": "markdown",
   "id": "be00fd2c",
   "metadata": {},
   "source": [
    "#### Counting"
   ]
  },
  {
   "cell_type": "code",
   "execution_count": 32,
   "id": "b4e5cf18",
   "metadata": {
    "ExecuteTime": {
     "end_time": "2022-09-07T09:52:17.746267Z",
     "start_time": "2022-09-07T09:52:17.718423Z"
    }
   },
   "outputs": [
    {
     "data": {
      "text/plain": [
       "Action;Indie                                                                 1840\n",
       "Casual;Indie                                                                 1467\n",
       "Action;Adventure;Indie                                                       1223\n",
       "Adventure;Indie                                                              1148\n",
       "Action;Casual;Indie                                                          1000\n",
       "                                                                             ... \n",
       "Casual;Free to Play;Massively Multiplayer;Early Access                          1\n",
       "Nudity;Adventure;Casual                                                         1\n",
       "Casual;Free to Play;Indie;Racing;Early Access                                   1\n",
       "Casual;Indie;Massively Multiplayer;Simulation;Early Access                      1\n",
       "Action;Adventure;Casual;Free to Play;Indie;RPG;Simulation;Sports;Strategy       1\n",
       "Name: genres, Length: 1528, dtype: int64"
      ]
     },
     "execution_count": 32,
     "metadata": {},
     "output_type": "execute_result"
    }
   ],
   "source": [
    "# Number of games by unique combination of genres\n",
    "gen_per_entry = main_df['genres'].value_counts()\n",
    "gen_per_entry"
   ]
  },
  {
   "cell_type": "code",
   "execution_count": 33,
   "id": "9ab92e66",
   "metadata": {
    "ExecuteTime": {
     "end_time": "2022-09-07T09:52:17.884229Z",
     "start_time": "2022-09-07T09:52:17.750233Z"
    }
   },
   "outputs": [
    {
     "data": {
      "text/plain": [
       "genres\n",
       "Indie                    71.947543\n",
       "Action                   44.433976\n",
       "Casual                   37.786403\n",
       "Adventure                36.919656\n",
       "Strategy                 19.222942\n",
       "Simulation               19.158879\n",
       "RPG                      15.390413\n",
       "Early Access             10.875791\n",
       "Free to Play              6.180283\n",
       "Sports                    4.963069\n",
       "Racing                    3.847603\n",
       "Violent                   3.135363\n",
       "Massively Multiplayer     2.626620\n",
       "Gore                      1.997287\n",
       "Nudity                    0.968496\n",
       "Sexual Content            0.896895\n",
       "Utilities                 0.542659\n",
       "Design & Illustration     0.324088\n",
       "Animation & Modeling      0.290172\n",
       "Education                 0.188423\n",
       "Video Production          0.135665\n",
       "Software Training         0.113054\n",
       "Audio Production          0.105517\n",
       "Web Publishing            0.101749\n",
       "Game Development          0.060295\n",
       "Photo Editing             0.041453\n",
       "Accounting                0.018842\n",
       "Tutorial                  0.003768\n",
       "Documentary               0.003768\n",
       "Name: count, dtype: float64"
      ]
     },
     "execution_count": 33,
     "metadata": {},
     "output_type": "execute_result"
    }
   ],
   "source": [
    "# Number of games by genres\n",
    "gen_counts = (pd.DataFrame((gen, gen_per_entry[gen_per_entry\n",
    "                                              .index\n",
    "                                              .str.contains(gen)]\n",
    "                           .sum()) for gen in genres)\n",
    "              .rename(columns={0:'genres', 1:'count'})\n",
    "              .set_index('genres')\n",
    "              .squeeze().sort_values(ascending=False))\n",
    "\n",
    "gen_percent = gen_counts/main_df.shape[0]*100\n",
    "gen_percent"
   ]
  },
  {
   "cell_type": "code",
   "execution_count": 95,
   "id": "ee1c7aaf",
   "metadata": {
    "ExecuteTime": {
     "end_time": "2022-09-07T10:05:05.870165Z",
     "start_time": "2022-09-07T10:05:05.016203Z"
    }
   },
   "outputs": [
    {
     "data": {
      "text/plain": [
       "<AxesSubplot:ylabel='genres'>"
      ]
     },
     "execution_count": 95,
     "metadata": {},
     "output_type": "execute_result"
    },
    {
     "data": {
      "image/png": "[encoded data removed]",
      "text/plain": [
       "<Figure size 1080x720 with 1 Axes>"
      ]
     },
     "metadata": {},
     "output_type": "display_data"
    }
   ],
   "source": [
    "gen_percent.sort_values().plot(kind='barh')"
   ]
  },
  {
   "cell_type": "markdown",
   "id": "7f5abbfa",
   "metadata": {},
   "source": [
    "### Number of games by `steamspy_tags`\n",
    "\n",
    "Note that SteamSpy tags are not mutually exclusive. Therefore, the total count per SteamSpy tag does not correspond to the total number of games, that is, some games may be counted in multiple SteamSpy tags."
   ]
  },
  {
   "cell_type": "markdown",
   "id": "766241d3",
   "metadata": {},
   "source": [
    "#### Wrangling"
   ]
  },
  {
   "cell_type": "code",
   "execution_count": 34,
   "id": "038c249c",
   "metadata": {
    "ExecuteTime": {
     "end_time": "2022-09-07T09:52:18.071226Z",
     "start_time": "2022-09-07T09:52:17.888218Z"
    }
   },
   "outputs": [
    {
     "data": {
      "text/plain": [
       "0                 Action\n",
       "1      Turn-Based Combat\n",
       "2                 Linear\n",
       "3                   LEGO\n",
       "4                 Nudity\n",
       "             ...        \n",
       "334              Physics\n",
       "335          Bullet Time\n",
       "336                Movie\n",
       "337           Text-Based\n",
       "338                1980s\n",
       "Length: 339, dtype: object"
      ]
     },
     "execution_count": 34,
     "metadata": {},
     "output_type": "execute_result"
    }
   ],
   "source": [
    "tags = np.array(list(set([tag for entry in main_df['steamspy_tags']\n",
    "                                .str.split(';').tolist() \n",
    "                                for tag in entry])))\n",
    "pd.Series(tags)"
   ]
  },
  {
   "cell_type": "markdown",
   "id": "39652983",
   "metadata": {},
   "source": [
    "#### Counting"
   ]
  },
  {
   "cell_type": "code",
   "execution_count": 35,
   "id": "fa27e9da",
   "metadata": {
    "ExecuteTime": {
     "end_time": "2022-09-07T09:52:18.117331Z",
     "start_time": "2022-09-07T09:52:18.076085Z"
    }
   },
   "outputs": [
    {
     "data": {
      "text/plain": [
       "Action;Indie;Casual                      840\n",
       "Action;Adventure;Indie                   711\n",
       "Early Access;Action;Indie                502\n",
       "Adventure;Indie;Casual                   430\n",
       "Indie;Casual                             373\n",
       "                                        ... \n",
       "Beat 'em up;Action;Arcade                  1\n",
       "Action;Zombies;Adventure                   1\n",
       "Racing;Destruction;Simulation              1\n",
       "Strategy;RTS;Pixel Graphics                1\n",
       "Early Access;Adventure;Sexual Content      1\n",
       "Name: steamspy_tags, Length: 6339, dtype: int64"
      ]
     },
     "execution_count": 35,
     "metadata": {},
     "output_type": "execute_result"
    }
   ],
   "source": [
    "# Number of games by unique combination of tags\n",
    "tag_per_entry = main_df['steamspy_tags'].value_counts()\n",
    "tag_per_entry"
   ]
  },
  {
   "cell_type": "code",
   "execution_count": 36,
   "id": "d7a7d91d",
   "metadata": {
    "ExecuteTime": {
     "end_time": "2022-09-07T09:52:20.777328Z",
     "start_time": "2022-09-07T09:52:18.126308Z"
    }
   },
   "outputs": [
    {
     "data": {
      "text/plain": [
       "tags\n",
       "Indie                             60.231384\n",
       "Action                            38.615466\n",
       "Casual                            30.434127\n",
       "Adventure                         28.662948\n",
       "Strategy                          15.318812\n",
       "                                    ...    \n",
       "Perma Death                        0.003768\n",
       "Intentionally Awkward Controls     0.003768\n",
       "Kickstarter                        0.003768\n",
       "Parody                             0.003768\n",
       "Diplomacy                          0.003768\n",
       "Name: count, Length: 339, dtype: float64"
      ]
     },
     "execution_count": 36,
     "metadata": {},
     "output_type": "execute_result"
    }
   ],
   "source": [
    "# Number of games by tags\n",
    "tag_counts = (pd.DataFrame((tag, tag_per_entry[tag_per_entry\n",
    "                                              .index\n",
    "                                              .str.contains(tag)]\n",
    "                           .sum()) for tag in tags)\n",
    "              .rename(columns={0:'tags', 1:'count'})\n",
    "              .set_index('tags')\n",
    "              .squeeze().sort_values(ascending=False))\n",
    "\n",
    "tag_percent = tag_counts/main_df.shape[0]*100\n",
    "tag_percent"
   ]
  },
  {
   "cell_type": "markdown",
   "id": "dff5ab80",
   "metadata": {
    "ExecuteTime": {
     "end_time": "2022-09-03T07:40:37.016840Z",
     "start_time": "2022-09-03T07:40:36.997889Z"
    }
   },
   "source": [
    "#### Checking for overlapping values in `categories`, `genres`, and `steamspy_tags`"
   ]
  },
  {
   "cell_type": "code",
   "execution_count": 37,
   "id": "e9953d14",
   "metadata": {
    "ExecuteTime": {
     "end_time": "2022-09-07T09:52:20.807765Z",
     "start_time": "2022-09-07T09:52:20.783832Z"
    }
   },
   "outputs": [
    {
     "data": {
      "text/plain": [
       "(array([], dtype='<U26'),\n",
       " array(['Action', 'Adventure', 'Animation & Modeling', 'Audio Production',\n",
       "        'Casual', 'Design & Illustration', 'Documentary', 'Early Access',\n",
       "        'Education', 'Free to Play', 'Game Development', 'Gore', 'Indie',\n",
       "        'Massively Multiplayer', 'Nudity', 'Photo Editing', 'RPG',\n",
       "        'Racing', 'Sexual Content', 'Simulation', 'Software Training',\n",
       "        'Sports', 'Strategy', 'Utilities', 'Video Production', 'Violent',\n",
       "        'Web Publishing'], dtype='<U33'),\n",
       " array(['Co-op'], dtype='<U33'))"
      ]
     },
     "execution_count": 37,
     "metadata": {},
     "output_type": "execute_result"
    }
   ],
   "source": [
    "(np.intersect1d(categories, genres), \n",
    " np.intersect1d(genres, tags), \n",
    " np.intersect1d(tags, categories))"
   ]
  },
  {
   "cell_type": "markdown",
   "id": "38835c6e",
   "metadata": {},
   "source": [
    "**Proposition.**\n",
    "\n",
    "We can neglect the tags that overlap with genres and categories so that we can define tags to be more specific classifications (determined by the community) for the game apart from its designated genres and categories."
   ]
  },
  {
   "cell_type": "markdown",
   "id": "a6099209",
   "metadata": {},
   "source": [
    "### Number of games by `price_range`\n",
    "\n",
    "**Proposition.**\n",
    "- Consider only the reasonably priced games and create new price binning for analysis.\n",
    "- Analyze the $\\geq 40$ GBP games separately."
   ]
  },
  {
   "cell_type": "code",
   "execution_count": 38,
   "id": "001fd8eb",
   "metadata": {
    "ExecuteTime": {
     "end_time": "2022-09-07T09:52:20.855241Z",
     "start_time": "2022-09-07T09:52:20.812752Z"
    }
   },
   "outputs": [
    {
     "data": {
      "text/plain": [
       "(0.31, 40.0]      23965\n",
       "(-0.1, 0.31]       2457\n",
       "(40.0, 50.0]         77\n",
       "(50.0, 100.0]        26\n",
       "(100.0, 422.0]       11\n",
       "Name: price_range, dtype: int64"
      ]
     },
     "execution_count": 38,
     "metadata": {},
     "output_type": "execute_result"
    }
   ],
   "source": [
    "# There are 282 unique prices\n",
    "extra_df['price_range'].value_counts()"
   ]
  },
  {
   "cell_type": "markdown",
   "id": "deb5f6a2",
   "metadata": {},
   "source": [
    "### Number of games by `release_year`\n",
    "\n",
    "**Potential insights.**\n",
    "- There are a few number of older games in Steam perhaps because of lack of interest or compatibility issues."
   ]
  },
  {
   "cell_type": "code",
   "execution_count": 39,
   "id": "d4e278c4",
   "metadata": {
    "ExecuteTime": {
     "end_time": "2022-09-07T09:52:21.467147Z",
     "start_time": "2022-09-07T09:52:20.866199Z"
    }
   },
   "outputs": [
    {
     "data": {
      "text/plain": [
       "<AxesSubplot:>"
      ]
     },
     "execution_count": 39,
     "metadata": {},
     "output_type": "execute_result"
    },
    {
     "data": {
      "image/png": "[encoded data removed]",
      "text/plain": [
       "<Figure size 1080x720 with 1 Axes>"
      ]
     },
     "metadata": {},
     "output_type": "display_data"
    }
   ],
   "source": [
    "extra_df['release_year'].value_counts()\n",
    "extra_df['release_year'].value_counts().sort_index().plot(kind='line')"
   ]
  },
  {
   "cell_type": "markdown",
   "id": "7d1daa92",
   "metadata": {},
   "source": [
    "## Ranking values"
   ]
  },
  {
   "cell_type": "markdown",
   "id": "1a626f5f",
   "metadata": {},
   "source": [
    "### Top games based on `owners` and `positive_ratings`"
   ]
  },
  {
   "cell_type": "markdown",
   "id": "067a76f1",
   "metadata": {},
   "source": [
    "## Comparing groups"
   ]
  },
  {
   "cell_type": "markdown",
   "id": "b5671f33",
   "metadata": {},
   "source": [
    "### Number of `developers` by `publisher`"
   ]
  },
  {
   "cell_type": "code",
   "execution_count": 40,
   "id": "5d681628",
   "metadata": {
    "ExecuteTime": {
     "end_time": "2022-09-07T09:52:21.607721Z",
     "start_time": "2022-09-07T09:52:21.474010Z"
    }
   },
   "outputs": [
    {
     "data": {
      "text/plain": [
       "developer\n",
       "Choice of Games             94\n",
       "Ripknot Systems             62\n",
       "Laush Dmitriy Sergeevich    51\n",
       "Nikita \"Ghost_RUS\"          50\n",
       "Dexion Games                45\n",
       "                            ..\n",
       "Hinterland Studio Inc.       1\n",
       "Hio Giang                    1\n",
       "Hippomancer                  1\n",
       "Hippopo Entertainment        1\n",
       "黄昏フロンティア                     1\n",
       "Name: name, Length: 16769, dtype: int64"
      ]
     },
     "execution_count": 40,
     "metadata": {},
     "output_type": "execute_result"
    }
   ],
   "source": [
    "main_df.groupby('developer')['name'].nunique().sort_values(ascending=False)"
   ]
  },
  {
   "cell_type": "markdown",
   "id": "59dbe32c",
   "metadata": {},
   "source": [
    "## Top rated games per `owners`"
   ]
  },
  {
   "cell_type": "code",
   "execution_count": null,
   "id": "45c2b665",
   "metadata": {
    "ExecuteTime": {
     "end_time": "2022-09-03T16:02:45.750955Z",
     "start_time": "2022-09-03T16:02:45.733974Z"
    }
   },
   "outputs": [],
   "source": []
  },
  {
   "cell_type": "markdown",
   "id": "1bf3c7e9",
   "metadata": {},
   "source": [
    "# Bivariate analysis"
   ]
  },
  {
   "cell_type": "markdown",
   "id": "a58b49d5",
   "metadata": {},
   "source": [
    "## Correlation heatmap (`owners`, `total_ratings`)"
   ]
  },
  {
   "cell_type": "markdown",
   "id": "a523127f",
   "metadata": {},
   "source": [
    "## Correlation between `genre` and `publisher`"
   ]
  },
  {
   "cell_type": "code",
   "execution_count": null,
   "id": "d505a3da",
   "metadata": {},
   "outputs": [],
   "source": []
  },
  {
   "cell_type": "markdown",
   "id": "3917aff5",
   "metadata": {},
   "source": [
    "# Answering the KBQs\n",
    "\n",
    "**Outlier treatment proposition.**\n",
    "\n",
    "Calculate `mean` and `std` per `owners` group and filter out games with low traction based on this statistic per `owners` group."
   ]
  },
  {
   "cell_type": "markdown",
   "id": "33cd79c5",
   "metadata": {},
   "source": [
    "## As a game developer or publisher\n",
    "\n",
    "1. What should a company make for their next game?\n",
    "2. Compare free to play games and paid games in terms of `total_revenue` and `score` \n",
    "\n",
    "    Definitions:\n",
    "    \\begin{align}\n",
    "    \\text{total revenue} &= \\text{midpoint of owners} \\times \\text{price}\n",
    "    \\end{align}\n",
    "    \n",
    "    \\begin{align}\n",
    "    \\text{score} &= \\frac{\\text{positive ratings}}{\\text{total ratings}} \\times 100\n",
    "    \\end{align}\n",
    "    \n",
    "    Let's use $\\geq 80\\%$ as high score?\n",
    "3. What are the kind of paid games with lowest `total_revenue` and `score`?"
   ]
  },
  {
   "cell_type": "markdown",
   "id": "1a647974",
   "metadata": {},
   "source": [
    "## Highest rated games by `owners` group\n",
    "\n",
    "For the casual gamer:\n",
    "- Get the games with the highest `total_ratings` then highest `score`.\n",
    "\n",
    "For the connoisseur:\n",
    "- Get the games with the highest `score` then highest `total_ratings`."
   ]
  },
  {
   "cell_type": "code",
   "execution_count": 41,
   "id": "7390ab65",
   "metadata": {
    "ExecuteTime": {
     "end_time": "2022-09-07T09:52:21.638341Z",
     "start_time": "2022-09-07T09:52:21.613214Z"
    }
   },
   "outputs": [
    {
     "data": {
      "text/plain": [
       "array([    35000,     75000,    150000,    350000,    750000,   1500000,\n",
       "         3500000,   7500000,  15000000,  35000000,  75000000, 150000000])"
      ]
     },
     "execution_count": 41,
     "metadata": {},
     "output_type": "execute_result"
    }
   ],
   "source": [
    "owner_groups = np.sort(main_df['owners'].unique())\n",
    "owner_groups"
   ]
  },
  {
   "cell_type": "code",
   "execution_count": 42,
   "id": "edb2c1a6",
   "metadata": {
    "ExecuteTime": {
     "end_time": "2022-09-07T09:52:21.793032Z",
     "start_time": "2022-09-07T09:52:21.645397Z"
    }
   },
   "outputs": [
    {
     "data": {
      "text/html": [
       "<div>\n",
       "<style scoped>\n",
       "    .dataframe tbody tr th:only-of-type {\n",
       "        vertical-align: middle;\n",
       "    }\n",
       "\n",
       "    .dataframe tbody tr th {\n",
       "        vertical-align: top;\n",
       "    }\n",
       "\n",
       "    .dataframe thead th {\n",
       "        text-align: right;\n",
       "    }\n",
       "</style>\n",
       "<table border=\"1\" class=\"dataframe\">\n",
       "  <thead>\n",
       "    <tr style=\"text-align: right;\">\n",
       "      <th></th>\n",
       "      <th>name</th>\n",
       "      <th>total_ratings</th>\n",
       "      <th>score</th>\n",
       "    </tr>\n",
       "    <tr>\n",
       "      <th>owners</th>\n",
       "      <th></th>\n",
       "      <th></th>\n",
       "      <th></th>\n",
       "    </tr>\n",
       "  </thead>\n",
       "  <tbody>\n",
       "    <tr>\n",
       "      <th>35000</th>\n",
       "      <td>ARMA: Cold War Assault</td>\n",
       "      <td>4137</td>\n",
       "      <td>77.23</td>\n",
       "    </tr>\n",
       "    <tr>\n",
       "      <th>35000</th>\n",
       "      <td>ASTRONEER</td>\n",
       "      <td>33621</td>\n",
       "      <td>84.40</td>\n",
       "    </tr>\n",
       "    <tr>\n",
       "      <th>35000</th>\n",
       "      <td>ATLAS</td>\n",
       "      <td>24980</td>\n",
       "      <td>34.51</td>\n",
       "    </tr>\n",
       "    <tr>\n",
       "      <th>35000</th>\n",
       "      <td>Age of Mythology: Extended Edition</td>\n",
       "      <td>10913</td>\n",
       "      <td>85.55</td>\n",
       "    </tr>\n",
       "    <tr>\n",
       "      <th>35000</th>\n",
       "      <td>AirMech Strike</td>\n",
       "      <td>9080</td>\n",
       "      <td>84.14</td>\n",
       "    </tr>\n",
       "    <tr>\n",
       "      <th>...</th>\n",
       "      <td>...</td>\n",
       "      <td>...</td>\n",
       "      <td>...</td>\n",
       "    </tr>\n",
       "    <tr>\n",
       "      <th>150000000</th>\n",
       "      <td>侠客风云传前传(Tale of Wuxia:The Pre-Sequel)</td>\n",
       "      <td>912</td>\n",
       "      <td>63.27</td>\n",
       "    </tr>\n",
       "    <tr>\n",
       "      <th>150000000</th>\n",
       "      <td>拯救大魔王2 Rescue the Great Demon 2</td>\n",
       "      <td>396</td>\n",
       "      <td>75.25</td>\n",
       "    </tr>\n",
       "    <tr>\n",
       "      <th>150000000</th>\n",
       "      <td>永遠消失的幻想鄉 ～ The Disappearing of Gensokyo</td>\n",
       "      <td>2417</td>\n",
       "      <td>85.85</td>\n",
       "    </tr>\n",
       "    <tr>\n",
       "      <th>150000000</th>\n",
       "      <td>电竞俱乐部/ESports Club</td>\n",
       "      <td>1311</td>\n",
       "      <td>58.05</td>\n",
       "    </tr>\n",
       "    <tr>\n",
       "      <th>150000000</th>\n",
       "      <td>音灵 INVAXION</td>\n",
       "      <td>3935</td>\n",
       "      <td>54.76</td>\n",
       "    </tr>\n",
       "  </tbody>\n",
       "</table>\n",
       "<p>26509 rows × 3 columns</p>\n",
       "</div>"
      ],
      "text/plain": [
       "                                              name  total_ratings  score\n",
       "owners                                                                  \n",
       "35000                       ARMA: Cold War Assault           4137  77.23\n",
       "35000                                    ASTRONEER          33621  84.40\n",
       "35000                                        ATLAS          24980  34.51\n",
       "35000           Age of Mythology: Extended Edition          10913  85.55\n",
       "35000                               AirMech Strike           9080  84.14\n",
       "...                                            ...            ...    ...\n",
       "150000000    侠客风云传前传(Tale of Wuxia:The Pre-Sequel)            912  63.27\n",
       "150000000          拯救大魔王2 Rescue the Great Demon 2            396  75.25\n",
       "150000000  永遠消失的幻想鄉 ～ The Disappearing of Gensokyo           2417  85.85\n",
       "150000000                       电竞俱乐部/ESports Club           1311  58.05\n",
       "150000000                              音灵 INVAXION           3935  54.76\n",
       "\n",
       "[26509 rows x 3 columns]"
      ]
     },
     "execution_count": 42,
     "metadata": {},
     "output_type": "execute_result"
    }
   ],
   "source": [
    "ratings_by_owners = (main_df.groupby(['owners', 'name'])\n",
    "                     [['total_ratings', 'score']]\n",
    "                     .sum()\n",
    "                     .reset_index(level='name'))\n",
    "\n",
    "# Indices of h_rated_by_owners are owner groups in descending order\n",
    "h_rated_by_owners = np.array([ratings_by_owners.loc[idx] \n",
    "                              for idx in owner_groups], dtype='object')\n",
    "\n",
    "ratings_by_owners"
   ]
  },
  {
   "cell_type": "code",
   "execution_count": 50,
   "id": "eb8de646",
   "metadata": {
    "ExecuteTime": {
     "end_time": "2022-09-07T09:53:20.589902Z",
     "start_time": "2022-09-07T09:53:20.561804Z"
    }
   },
   "outputs": [
    {
     "data": {
      "text/html": [
       "<div>\n",
       "<style scoped>\n",
       "    .dataframe tbody tr th:only-of-type {\n",
       "        vertical-align: middle;\n",
       "    }\n",
       "\n",
       "    .dataframe tbody tr th {\n",
       "        vertical-align: top;\n",
       "    }\n",
       "\n",
       "    .dataframe thead th {\n",
       "        text-align: right;\n",
       "    }\n",
       "</style>\n",
       "<table border=\"1\" class=\"dataframe\">\n",
       "  <thead>\n",
       "    <tr style=\"text-align: right;\">\n",
       "      <th></th>\n",
       "      <th>name</th>\n",
       "      <th>total_ratings</th>\n",
       "      <th>score</th>\n",
       "    </tr>\n",
       "    <tr>\n",
       "      <th>owners</th>\n",
       "      <th></th>\n",
       "      <th></th>\n",
       "      <th></th>\n",
       "    </tr>\n",
       "  </thead>\n",
       "  <tbody>\n",
       "    <tr>\n",
       "      <th>150000</th>\n",
       "      <td>Grand Theft Auto V</td>\n",
       "      <td>468369</td>\n",
       "      <td>70.26</td>\n",
       "    </tr>\n",
       "    <tr>\n",
       "      <th>150000</th>\n",
       "      <td>Garry's Mod</td>\n",
       "      <td>380154</td>\n",
       "      <td>95.68</td>\n",
       "    </tr>\n",
       "    <tr>\n",
       "      <th>150000</th>\n",
       "      <td>PAYDAY 2</td>\n",
       "      <td>365180</td>\n",
       "      <td>84.52</td>\n",
       "    </tr>\n",
       "    <tr>\n",
       "      <th>150000</th>\n",
       "      <td>The Elder Scrolls V: Skyrim</td>\n",
       "      <td>252254</td>\n",
       "      <td>94.07</td>\n",
       "    </tr>\n",
       "    <tr>\n",
       "      <th>150000</th>\n",
       "      <td>Z1 Battle Royale</td>\n",
       "      <td>203098</td>\n",
       "      <td>54.87</td>\n",
       "    </tr>\n",
       "    <tr>\n",
       "      <th>150000</th>\n",
       "      <td>Paladins®</td>\n",
       "      <td>201987</td>\n",
       "      <td>83.96</td>\n",
       "    </tr>\n",
       "    <tr>\n",
       "      <th>150000</th>\n",
       "      <td>Robocraft</td>\n",
       "      <td>111347</td>\n",
       "      <td>72.17</td>\n",
       "    </tr>\n",
       "    <tr>\n",
       "      <th>150000</th>\n",
       "      <td>War Thunder</td>\n",
       "      <td>106018</td>\n",
       "      <td>79.09</td>\n",
       "    </tr>\n",
       "    <tr>\n",
       "      <th>150000</th>\n",
       "      <td>Heroes &amp; Generals</td>\n",
       "      <td>100272</td>\n",
       "      <td>65.68</td>\n",
       "    </tr>\n",
       "    <tr>\n",
       "      <th>150000</th>\n",
       "      <td>Brawlhalla</td>\n",
       "      <td>87757</td>\n",
       "      <td>83.49</td>\n",
       "    </tr>\n",
       "    <tr>\n",
       "      <th>150000</th>\n",
       "      <td>Path of Exile</td>\n",
       "      <td>77710</td>\n",
       "      <td>92.13</td>\n",
       "    </tr>\n",
       "    <tr>\n",
       "      <th>150000</th>\n",
       "      <td>Warface</td>\n",
       "      <td>47160</td>\n",
       "      <td>69.45</td>\n",
       "    </tr>\n",
       "  </tbody>\n",
       "</table>\n",
       "</div>"
      ],
      "text/plain": [
       "                               name  total_ratings  score\n",
       "owners                                                   \n",
       "150000           Grand Theft Auto V         468369  70.26\n",
       "150000                  Garry's Mod         380154  95.68\n",
       "150000                     PAYDAY 2         365180  84.52\n",
       "150000  The Elder Scrolls V: Skyrim         252254  94.07\n",
       "150000             Z1 Battle Royale         203098  54.87\n",
       "150000                    Paladins®         201987  83.96\n",
       "150000                    Robocraft         111347  72.17\n",
       "150000                  War Thunder         106018  79.09\n",
       "150000            Heroes & Generals         100272  65.68\n",
       "150000                   Brawlhalla          87757  83.49\n",
       "150000                Path of Exile          77710  92.13\n",
       "150000                      Warface          47160  69.45"
      ]
     },
     "execution_count": 50,
     "metadata": {},
     "output_type": "execute_result"
    }
   ],
   "source": [
    "# Casual\n",
    "h_rated_by_owners[2].sort_values(['total_ratings', 'score'], ascending=False)"
   ]
  },
  {
   "cell_type": "code",
   "execution_count": 45,
   "id": "b5585906",
   "metadata": {
    "ExecuteTime": {
     "end_time": "2022-09-07T09:52:57.273940Z",
     "start_time": "2022-09-07T09:52:57.247010Z"
    }
   },
   "outputs": [
    {
     "data": {
      "text/html": [
       "<div>\n",
       "<style scoped>\n",
       "    .dataframe tbody tr th:only-of-type {\n",
       "        vertical-align: middle;\n",
       "    }\n",
       "\n",
       "    .dataframe tbody tr th {\n",
       "        vertical-align: top;\n",
       "    }\n",
       "\n",
       "    .dataframe thead th {\n",
       "        text-align: right;\n",
       "    }\n",
       "</style>\n",
       "<table border=\"1\" class=\"dataframe\">\n",
       "  <thead>\n",
       "    <tr style=\"text-align: right;\">\n",
       "      <th></th>\n",
       "      <th>name</th>\n",
       "      <th>total_ratings</th>\n",
       "      <th>score</th>\n",
       "    </tr>\n",
       "    <tr>\n",
       "      <th>owners</th>\n",
       "      <th></th>\n",
       "      <th></th>\n",
       "      <th></th>\n",
       "    </tr>\n",
       "  </thead>\n",
       "  <tbody>\n",
       "    <tr>\n",
       "      <th>750000</th>\n",
       "      <td>Finding Paradise</td>\n",
       "      <td>6701</td>\n",
       "      <td>98.16</td>\n",
       "    </tr>\n",
       "    <tr>\n",
       "      <th>750000</th>\n",
       "      <td>OneShot</td>\n",
       "      <td>11205</td>\n",
       "      <td>98.04</td>\n",
       "    </tr>\n",
       "    <tr>\n",
       "      <th>750000</th>\n",
       "      <td>A Hat in Time</td>\n",
       "      <td>14311</td>\n",
       "      <td>97.96</td>\n",
       "    </tr>\n",
       "    <tr>\n",
       "      <th>750000</th>\n",
       "      <td>Waltz of the Wizard</td>\n",
       "      <td>1157</td>\n",
       "      <td>97.93</td>\n",
       "    </tr>\n",
       "    <tr>\n",
       "      <th>750000</th>\n",
       "      <td>VA-11 Hall-A: Cyberpunk Bartender Action</td>\n",
       "      <td>12642</td>\n",
       "      <td>97.67</td>\n",
       "    </tr>\n",
       "    <tr>\n",
       "      <th>...</th>\n",
       "      <td>...</td>\n",
       "      <td>...</td>\n",
       "      <td>...</td>\n",
       "    </tr>\n",
       "    <tr>\n",
       "      <th>750000</th>\n",
       "      <td>The District</td>\n",
       "      <td>1387</td>\n",
       "      <td>21.92</td>\n",
       "    </tr>\n",
       "    <tr>\n",
       "      <th>750000</th>\n",
       "      <td>GASP</td>\n",
       "      <td>1452</td>\n",
       "      <td>20.18</td>\n",
       "    </tr>\n",
       "    <tr>\n",
       "      <th>750000</th>\n",
       "      <td>Command &amp; Conquer 4: Tiberian Twilight</td>\n",
       "      <td>2090</td>\n",
       "      <td>18.09</td>\n",
       "    </tr>\n",
       "    <tr>\n",
       "      <th>750000</th>\n",
       "      <td>Uriel's Chasm</td>\n",
       "      <td>2765</td>\n",
       "      <td>17.00</td>\n",
       "    </tr>\n",
       "    <tr>\n",
       "      <th>750000</th>\n",
       "      <td>Flatout 3: Chaos &amp; Destruction</td>\n",
       "      <td>2164</td>\n",
       "      <td>13.40</td>\n",
       "    </tr>\n",
       "  </tbody>\n",
       "</table>\n",
       "<p>1268 rows × 3 columns</p>\n",
       "</div>"
      ],
      "text/plain": [
       "                                            name  total_ratings  score\n",
       "owners                                                                \n",
       "750000                          Finding Paradise           6701  98.16\n",
       "750000                                   OneShot          11205  98.04\n",
       "750000                             A Hat in Time          14311  97.96\n",
       "750000                       Waltz of the Wizard           1157  97.93\n",
       "750000  VA-11 Hall-A: Cyberpunk Bartender Action          12642  97.67\n",
       "...                                          ...            ...    ...\n",
       "750000                              The District           1387  21.92\n",
       "750000                                      GASP           1452  20.18\n",
       "750000    Command & Conquer 4: Tiberian Twilight           2090  18.09\n",
       "750000                             Uriel's Chasm           2765  17.00\n",
       "750000            Flatout 3: Chaos & Destruction           2164  13.40\n",
       "\n",
       "[1268 rows x 3 columns]"
      ]
     },
     "execution_count": 45,
     "metadata": {},
     "output_type": "execute_result"
    }
   ],
   "source": [
    "# Connoisseur\n",
    "h_rated_by_owners[4].sort_values(['score', 'total_ratings'], ascending=False)"
   ]
  },
  {
   "cell_type": "markdown",
   "id": "f1244732",
   "metadata": {},
   "source": [
    "## Highest rated games by `categories`"
   ]
  },
  {
   "cell_type": "code",
   "execution_count": null,
   "id": "e91bc685",
   "metadata": {},
   "outputs": [],
   "source": []
  },
  {
   "cell_type": "markdown",
   "id": "8fcb1889",
   "metadata": {},
   "source": [
    "## Highest rated games by `genres`\n",
    "\n",
    "**Revelant genres**\n",
    "1. Action\n",
    "2. Casual\n",
    "3. Adventure                \n",
    "3. Strategy\n",
    "4. Simulation              \n",
    "4. RPG\n",
    "6. Sports \n",
    "7. Racing\n",
    "8. Massively Multiplayer"
   ]
  },
  {
   "cell_type": "code",
   "execution_count": 55,
   "id": "a07e5afe",
   "metadata": {
    "ExecuteTime": {
     "end_time": "2022-09-07T09:54:10.473720Z",
     "start_time": "2022-09-07T09:54:10.366448Z"
    }
   },
   "outputs": [
    {
     "data": {
      "text/html": [
       "<div>\n",
       "<style scoped>\n",
       "    .dataframe tbody tr th:only-of-type {\n",
       "        vertical-align: middle;\n",
       "    }\n",
       "\n",
       "    .dataframe tbody tr th {\n",
       "        vertical-align: top;\n",
       "    }\n",
       "\n",
       "    .dataframe thead th {\n",
       "        text-align: right;\n",
       "    }\n",
       "</style>\n",
       "<table border=\"1\" class=\"dataframe\">\n",
       "  <thead>\n",
       "    <tr style=\"text-align: right;\">\n",
       "      <th></th>\n",
       "      <th>name</th>\n",
       "      <th>genres</th>\n",
       "      <th>total_ratings</th>\n",
       "      <th>score</th>\n",
       "    </tr>\n",
       "    <tr>\n",
       "      <th>owners</th>\n",
       "      <th></th>\n",
       "      <th></th>\n",
       "      <th></th>\n",
       "      <th></th>\n",
       "    </tr>\n",
       "  </thead>\n",
       "  <tbody>\n",
       "    <tr>\n",
       "      <th>35000</th>\n",
       "      <td>ARMA: Cold War Assault</td>\n",
       "      <td>Action;Simulation;Strategy</td>\n",
       "      <td>4137</td>\n",
       "      <td>77.23</td>\n",
       "    </tr>\n",
       "    <tr>\n",
       "      <th>35000</th>\n",
       "      <td>ATLAS</td>\n",
       "      <td>Action;Adventure;Massively Multiplayer;RPG;Ear...</td>\n",
       "      <td>24980</td>\n",
       "      <td>34.51</td>\n",
       "    </tr>\n",
       "    <tr>\n",
       "      <th>35000</th>\n",
       "      <td>AirMech Strike</td>\n",
       "      <td>Action;Free to Play;Indie;Strategy</td>\n",
       "      <td>9080</td>\n",
       "      <td>84.14</td>\n",
       "    </tr>\n",
       "    <tr>\n",
       "      <th>35000</th>\n",
       "      <td>Alan Wake's American Nightmare</td>\n",
       "      <td>Action;Adventure</td>\n",
       "      <td>5066</td>\n",
       "      <td>71.02</td>\n",
       "    </tr>\n",
       "    <tr>\n",
       "      <th>35000</th>\n",
       "      <td>Alien: Isolation</td>\n",
       "      <td>Action</td>\n",
       "      <td>26492</td>\n",
       "      <td>92.61</td>\n",
       "    </tr>\n",
       "    <tr>\n",
       "      <th>...</th>\n",
       "      <td>...</td>\n",
       "      <td>...</td>\n",
       "      <td>...</td>\n",
       "      <td>...</td>\n",
       "    </tr>\n",
       "    <tr>\n",
       "      <th>35000</th>\n",
       "      <td>Vindictus</td>\n",
       "      <td>Action;Adventure;Free to Play;Massively Multip...</td>\n",
       "      <td>5106</td>\n",
       "      <td>71.41</td>\n",
       "    </tr>\n",
       "    <tr>\n",
       "      <th>35000</th>\n",
       "      <td>Warhammer: End Times - Vermintide</td>\n",
       "      <td>Action;Indie</td>\n",
       "      <td>17465</td>\n",
       "      <td>79.62</td>\n",
       "    </tr>\n",
       "    <tr>\n",
       "      <th>35000</th>\n",
       "      <td>We Were Here</td>\n",
       "      <td>Action;Adventure;Free to Play</td>\n",
       "      <td>9239</td>\n",
       "      <td>92.41</td>\n",
       "    </tr>\n",
       "    <tr>\n",
       "      <th>35000</th>\n",
       "      <td>Who's Your Daddy</td>\n",
       "      <td>Action;Casual;Indie</td>\n",
       "      <td>13498</td>\n",
       "      <td>72.24</td>\n",
       "    </tr>\n",
       "    <tr>\n",
       "      <th>35000</th>\n",
       "      <td>Wolfenstein: The New Order</td>\n",
       "      <td>Action</td>\n",
       "      <td>29738</td>\n",
       "      <td>89.87</td>\n",
       "    </tr>\n",
       "  </tbody>\n",
       "</table>\n",
       "<p>168 rows × 4 columns</p>\n",
       "</div>"
      ],
      "text/plain": [
       "                                     name  \\\n",
       "owners                                      \n",
       "35000              ARMA: Cold War Assault   \n",
       "35000                               ATLAS   \n",
       "35000                      AirMech Strike   \n",
       "35000      Alan Wake's American Nightmare   \n",
       "35000                    Alien: Isolation   \n",
       "...                                   ...   \n",
       "35000                           Vindictus   \n",
       "35000   Warhammer: End Times - Vermintide   \n",
       "35000                        We Were Here   \n",
       "35000                    Who's Your Daddy   \n",
       "35000          Wolfenstein: The New Order   \n",
       "\n",
       "                                                   genres  total_ratings  \\\n",
       "owners                                                                     \n",
       "35000                          Action;Simulation;Strategy           4137   \n",
       "35000   Action;Adventure;Massively Multiplayer;RPG;Ear...          24980   \n",
       "35000                  Action;Free to Play;Indie;Strategy           9080   \n",
       "35000                                    Action;Adventure           5066   \n",
       "35000                                              Action          26492   \n",
       "...                                                   ...            ...   \n",
       "35000   Action;Adventure;Free to Play;Massively Multip...           5106   \n",
       "35000                                        Action;Indie          17465   \n",
       "35000                       Action;Adventure;Free to Play           9239   \n",
       "35000                                 Action;Casual;Indie          13498   \n",
       "35000                                              Action          29738   \n",
       "\n",
       "        score  \n",
       "owners         \n",
       "35000   77.23  \n",
       "35000   34.51  \n",
       "35000   84.14  \n",
       "35000   71.02  \n",
       "35000   92.61  \n",
       "...       ...  \n",
       "35000   71.41  \n",
       "35000   79.62  \n",
       "35000   92.41  \n",
       "35000   72.24  \n",
       "35000   89.87  \n",
       "\n",
       "[168 rows x 4 columns]"
      ]
     },
     "execution_count": 55,
     "metadata": {},
     "output_type": "execute_result"
    }
   ],
   "source": [
    "#ratings_by_genre = np.array([], dtype='object')\n",
    "ratings_by_genre = (main_df[main_df['genres'].str.contains('Action')]\n",
    "                    .groupby(['owners', 'name', 'genres'])\n",
    "                    [['total_ratings', 'score']]\n",
    "                    .sum()\n",
    "                    .reset_index(level=['name', 'genres']))\n",
    "\n",
    "\n",
    "ratings_by_genre[ratings_by_genre['genres'].str.contains('Action')].loc[35_000]"
   ]
  }
 ],
 "metadata": {
  "kernelspec": {
   "display_name": "Python 3 (ipykernel)",
   "language": "python",
   "name": "python3"
  },
  "language_info": {
   "codemirror_mode": {
    "name": "ipython",
    "version": 3
   },
   "file_extension": ".py",
   "mimetype": "text/x-python",
   "name": "python",
   "nbconvert_exporter": "python",
   "pygments_lexer": "ipython3",
   "version": "3.9.7"
  },
  "toc": {
   "base_numbering": 1,
   "nav_menu": {},
   "number_sections": true,
   "sideBar": true,
   "skip_h1_title": false,
   "title_cell": "Table of Contents",
   "title_sidebar": "Contents",
   "toc_cell": false,
   "toc_position": {
    "height": "calc(100% - 180px)",
    "left": "10px",
    "top": "150px",
    "width": "299.038px"
   },
   "toc_section_display": true,
   "toc_window_display": true
  }
 },
 "nbformat": 4,
 "nbformat_minor": 5
}
