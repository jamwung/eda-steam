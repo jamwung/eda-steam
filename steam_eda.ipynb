{
 "cells": [
  {
   "cell_type": "code",
   "execution_count": 1,
   "id": "d2b9f278",
   "metadata": {
    "ExecuteTime": {
     "end_time": "2022-09-03T16:10:50.293256Z",
     "start_time": "2022-09-03T16:10:48.816408Z"
    }
   },
   "outputs": [],
   "source": [
    "import pandas as pd \n",
    "import matplotlib.pyplot as plt \n",
    "import matplotlib.ticker as ticker\n",
    "import seaborn as sns\n",
    "import numpy as np\n",
    "\n",
    "import datetime\n",
    "import matplotlib.dates as mdates\n",
    "\n",
    "sns.set_style('whitegrid')\n",
    "\n",
    "plt.rcParams['figure.figsize'] = [15, 10]"
   ]
  },
  {
   "cell_type": "markdown",
   "id": "4a3ddf25",
   "metadata": {},
   "source": [
    "# Key business questions\n",
    "\n",
    "**As a gaming company**\n",
    "1. What should a company make for their next game?\n",
    "2. Compare free to play games and paid games in terms of `total_revenue` and `ratings` \n",
    "\n",
    "    Definitions:\n",
    "    \\begin{align}\n",
    "    \\text{total revenue} &= \\text{midpoint of owners} \\times \\text{price}\n",
    "    \\end{align}\n",
    "    \n",
    "    \\begin{align}\n",
    "    \\text{ratings} &= \\frac{\\text{positive ratings}}{\\text{total ratings}} \\times 100\n",
    "    \\end{align}\n",
    "    \n",
    "    Let's use $\\geq 80\\%$ as high score?\n",
    "3. What are the kind of paid games with lowest `total_revenue` and `ratings`?\n",
    "\n",
    "---\n",
    "**As an avid gamer**\n",
    "1. What gaming companies should a gamer look out for?\n",
    "2. What games have a high `total_revenue`, `ratings`, and is owned by at least $10$ million gamers?\n",
    "3. Analyze the `average_playtime` by `year` (create a trend line).\n",
    "\n",
    "---\n",
    "**As a parent of a gamer**\n",
    "1. Are we assured that games for 3 to 16 years old and games with no `restricted_age` are child-friendly?\n",
    "    Definitions:\n",
    "    Child-friendly - Games with no violence, gore, nudity or sexual content\n",
    "\n",
    "    To do:\n",
    "    Look for violent, gore, nudity or sexual content `genres` for games that have no `restricted_age` and\n",
    "    games for 3 to 16 years old.\n",
    "\n",
    "    We can also check in `steamspy_tags` but it has 339 tags.\n",
    "\n",
    "2. What is the average `price` of games for 3 to 16 years old and games with no `required_age` and are also child-friendly?\n",
    "\n",
    "3. What are some educational (`education` in `genres`) games for 3 to 16 years old and games with no age restrictions?\n"
   ]
  },
  {
   "cell_type": "markdown",
   "id": "6347524e",
   "metadata": {},
   "source": [
    "# Understanding the data"
   ]
  },
  {
   "cell_type": "markdown",
   "id": "f9734a9b",
   "metadata": {},
   "source": [
    "## Loading the dataframe"
   ]
  },
  {
   "cell_type": "code",
   "execution_count": 2,
   "id": "33a70a0d",
   "metadata": {
    "ExecuteTime": {
     "end_time": "2022-09-03T16:10:50.499714Z",
     "start_time": "2022-09-03T16:10:50.298253Z"
    },
    "scrolled": false
   },
   "outputs": [
    {
     "data": {
      "text/html": [
       "<div>\n",
       "<style scoped>\n",
       "    .dataframe tbody tr th:only-of-type {\n",
       "        vertical-align: middle;\n",
       "    }\n",
       "\n",
       "    .dataframe tbody tr th {\n",
       "        vertical-align: top;\n",
       "    }\n",
       "\n",
       "    .dataframe thead th {\n",
       "        text-align: right;\n",
       "    }\n",
       "</style>\n",
       "<table border=\"1\" class=\"dataframe\">\n",
       "  <thead>\n",
       "    <tr style=\"text-align: right;\">\n",
       "      <th></th>\n",
       "      <th>appid</th>\n",
       "      <th>name</th>\n",
       "      <th>release_date</th>\n",
       "      <th>developer</th>\n",
       "      <th>publisher</th>\n",
       "      <th>platforms</th>\n",
       "      <th>required_age</th>\n",
       "      <th>categories</th>\n",
       "      <th>genres</th>\n",
       "      <th>steamspy_tags</th>\n",
       "      <th>achievements</th>\n",
       "      <th>positive_ratings</th>\n",
       "      <th>negative_ratings</th>\n",
       "      <th>average_playtime</th>\n",
       "      <th>median_playtime</th>\n",
       "      <th>owners</th>\n",
       "      <th>price</th>\n",
       "    </tr>\n",
       "  </thead>\n",
       "  <tbody>\n",
       "    <tr>\n",
       "      <th>0</th>\n",
       "      <td>10</td>\n",
       "      <td>Counter-Strike</td>\n",
       "      <td>2000-11-01</td>\n",
       "      <td>Valve</td>\n",
       "      <td>Valve</td>\n",
       "      <td>windows;mac;linux</td>\n",
       "      <td>0</td>\n",
       "      <td>Multi-player;Online Multi-Player;Local Multi-P...</td>\n",
       "      <td>Action</td>\n",
       "      <td>Action;FPS;Multiplayer</td>\n",
       "      <td>0</td>\n",
       "      <td>124534</td>\n",
       "      <td>3339</td>\n",
       "      <td>17612</td>\n",
       "      <td>317</td>\n",
       "      <td>10000000-20000000</td>\n",
       "      <td>7.19</td>\n",
       "    </tr>\n",
       "    <tr>\n",
       "      <th>1</th>\n",
       "      <td>20</td>\n",
       "      <td>Team Fortress Classic</td>\n",
       "      <td>1999-04-01</td>\n",
       "      <td>Valve</td>\n",
       "      <td>Valve</td>\n",
       "      <td>windows;mac;linux</td>\n",
       "      <td>0</td>\n",
       "      <td>Multi-player;Online Multi-Player;Local Multi-P...</td>\n",
       "      <td>Action</td>\n",
       "      <td>Action;FPS;Multiplayer</td>\n",
       "      <td>0</td>\n",
       "      <td>3318</td>\n",
       "      <td>633</td>\n",
       "      <td>277</td>\n",
       "      <td>62</td>\n",
       "      <td>5000000-10000000</td>\n",
       "      <td>3.99</td>\n",
       "    </tr>\n",
       "    <tr>\n",
       "      <th>2</th>\n",
       "      <td>30</td>\n",
       "      <td>Day of Defeat</td>\n",
       "      <td>2003-05-01</td>\n",
       "      <td>Valve</td>\n",
       "      <td>Valve</td>\n",
       "      <td>windows;mac;linux</td>\n",
       "      <td>0</td>\n",
       "      <td>Multi-player;Valve Anti-Cheat enabled</td>\n",
       "      <td>Action</td>\n",
       "      <td>FPS;World War II;Multiplayer</td>\n",
       "      <td>0</td>\n",
       "      <td>3416</td>\n",
       "      <td>398</td>\n",
       "      <td>187</td>\n",
       "      <td>34</td>\n",
       "      <td>5000000-10000000</td>\n",
       "      <td>3.99</td>\n",
       "    </tr>\n",
       "    <tr>\n",
       "      <th>3</th>\n",
       "      <td>40</td>\n",
       "      <td>Deathmatch Classic</td>\n",
       "      <td>2001-06-01</td>\n",
       "      <td>Valve</td>\n",
       "      <td>Valve</td>\n",
       "      <td>windows;mac;linux</td>\n",
       "      <td>0</td>\n",
       "      <td>Multi-player;Online Multi-Player;Local Multi-P...</td>\n",
       "      <td>Action</td>\n",
       "      <td>Action;FPS;Multiplayer</td>\n",
       "      <td>0</td>\n",
       "      <td>1273</td>\n",
       "      <td>267</td>\n",
       "      <td>258</td>\n",
       "      <td>184</td>\n",
       "      <td>5000000-10000000</td>\n",
       "      <td>3.99</td>\n",
       "    </tr>\n",
       "    <tr>\n",
       "      <th>4</th>\n",
       "      <td>50</td>\n",
       "      <td>Half-Life: Opposing Force</td>\n",
       "      <td>1999-11-01</td>\n",
       "      <td>Gearbox Software</td>\n",
       "      <td>Valve</td>\n",
       "      <td>windows;mac;linux</td>\n",
       "      <td>0</td>\n",
       "      <td>Single-player;Multi-player;Valve Anti-Cheat en...</td>\n",
       "      <td>Action</td>\n",
       "      <td>FPS;Action;Sci-fi</td>\n",
       "      <td>0</td>\n",
       "      <td>5250</td>\n",
       "      <td>288</td>\n",
       "      <td>624</td>\n",
       "      <td>415</td>\n",
       "      <td>5000000-10000000</td>\n",
       "      <td>3.99</td>\n",
       "    </tr>\n",
       "    <tr>\n",
       "      <th>...</th>\n",
       "      <td>...</td>\n",
       "      <td>...</td>\n",
       "      <td>...</td>\n",
       "      <td>...</td>\n",
       "      <td>...</td>\n",
       "      <td>...</td>\n",
       "      <td>...</td>\n",
       "      <td>...</td>\n",
       "      <td>...</td>\n",
       "      <td>...</td>\n",
       "      <td>...</td>\n",
       "      <td>...</td>\n",
       "      <td>...</td>\n",
       "      <td>...</td>\n",
       "      <td>...</td>\n",
       "      <td>...</td>\n",
       "      <td>...</td>\n",
       "    </tr>\n",
       "    <tr>\n",
       "      <th>26559</th>\n",
       "      <td>1065230</td>\n",
       "      <td>Room of Pandora</td>\n",
       "      <td>2019-04-24</td>\n",
       "      <td>SHEN JIAWEI</td>\n",
       "      <td>SHEN JIAWEI</td>\n",
       "      <td>windows</td>\n",
       "      <td>0</td>\n",
       "      <td>Single-player;Steam Achievements</td>\n",
       "      <td>Adventure;Casual;Indie</td>\n",
       "      <td>Adventure;Indie;Casual</td>\n",
       "      <td>7</td>\n",
       "      <td>3</td>\n",
       "      <td>0</td>\n",
       "      <td>0</td>\n",
       "      <td>0</td>\n",
       "      <td>0-20000</td>\n",
       "      <td>2.09</td>\n",
       "    </tr>\n",
       "    <tr>\n",
       "      <th>26560</th>\n",
       "      <td>1065570</td>\n",
       "      <td>Cyber Gun</td>\n",
       "      <td>2019-04-23</td>\n",
       "      <td>Semyon Maximov</td>\n",
       "      <td>BekkerDev Studio</td>\n",
       "      <td>windows</td>\n",
       "      <td>0</td>\n",
       "      <td>Single-player</td>\n",
       "      <td>Action;Adventure;Indie</td>\n",
       "      <td>Action;Indie;Adventure</td>\n",
       "      <td>0</td>\n",
       "      <td>8</td>\n",
       "      <td>1</td>\n",
       "      <td>0</td>\n",
       "      <td>0</td>\n",
       "      <td>0-20000</td>\n",
       "      <td>1.69</td>\n",
       "    </tr>\n",
       "    <tr>\n",
       "      <th>26561</th>\n",
       "      <td>1065650</td>\n",
       "      <td>Super Star Blast</td>\n",
       "      <td>2019-04-24</td>\n",
       "      <td>EntwicklerX</td>\n",
       "      <td>EntwicklerX</td>\n",
       "      <td>windows</td>\n",
       "      <td>0</td>\n",
       "      <td>Single-player;Multi-player;Co-op;Shared/Split ...</td>\n",
       "      <td>Action;Casual;Indie</td>\n",
       "      <td>Action;Indie;Casual</td>\n",
       "      <td>24</td>\n",
       "      <td>0</td>\n",
       "      <td>1</td>\n",
       "      <td>0</td>\n",
       "      <td>0</td>\n",
       "      <td>0-20000</td>\n",
       "      <td>3.99</td>\n",
       "    </tr>\n",
       "    <tr>\n",
       "      <th>26562</th>\n",
       "      <td>1066700</td>\n",
       "      <td>New Yankee 7: Deer Hunters</td>\n",
       "      <td>2019-04-17</td>\n",
       "      <td>Yustas Game Studio</td>\n",
       "      <td>Alawar Entertainment</td>\n",
       "      <td>windows;mac</td>\n",
       "      <td>0</td>\n",
       "      <td>Single-player;Steam Cloud</td>\n",
       "      <td>Adventure;Casual;Indie</td>\n",
       "      <td>Indie;Casual;Adventure</td>\n",
       "      <td>0</td>\n",
       "      <td>2</td>\n",
       "      <td>0</td>\n",
       "      <td>0</td>\n",
       "      <td>0</td>\n",
       "      <td>0-20000</td>\n",
       "      <td>5.19</td>\n",
       "    </tr>\n",
       "    <tr>\n",
       "      <th>26563</th>\n",
       "      <td>1069460</td>\n",
       "      <td>Rune Lord</td>\n",
       "      <td>2019-04-24</td>\n",
       "      <td>Adept Studios GD</td>\n",
       "      <td>Alawar Entertainment</td>\n",
       "      <td>windows;mac</td>\n",
       "      <td>0</td>\n",
       "      <td>Single-player;Steam Cloud</td>\n",
       "      <td>Adventure;Casual;Indie</td>\n",
       "      <td>Indie;Casual;Adventure</td>\n",
       "      <td>0</td>\n",
       "      <td>4</td>\n",
       "      <td>0</td>\n",
       "      <td>0</td>\n",
       "      <td>0</td>\n",
       "      <td>0-20000</td>\n",
       "      <td>5.19</td>\n",
       "    </tr>\n",
       "  </tbody>\n",
       "</table>\n",
       "<p>26564 rows × 17 columns</p>\n",
       "</div>"
      ],
      "text/plain": [
       "         appid                        name release_date           developer  \\\n",
       "0           10              Counter-Strike   2000-11-01               Valve   \n",
       "1           20       Team Fortress Classic   1999-04-01               Valve   \n",
       "2           30               Day of Defeat   2003-05-01               Valve   \n",
       "3           40          Deathmatch Classic   2001-06-01               Valve   \n",
       "4           50   Half-Life: Opposing Force   1999-11-01    Gearbox Software   \n",
       "...        ...                         ...          ...                 ...   \n",
       "26559  1065230             Room of Pandora   2019-04-24         SHEN JIAWEI   \n",
       "26560  1065570                   Cyber Gun   2019-04-23      Semyon Maximov   \n",
       "26561  1065650            Super Star Blast   2019-04-24         EntwicklerX   \n",
       "26562  1066700  New Yankee 7: Deer Hunters   2019-04-17  Yustas Game Studio   \n",
       "26563  1069460                   Rune Lord   2019-04-24    Adept Studios GD   \n",
       "\n",
       "                  publisher          platforms  required_age  \\\n",
       "0                     Valve  windows;mac;linux             0   \n",
       "1                     Valve  windows;mac;linux             0   \n",
       "2                     Valve  windows;mac;linux             0   \n",
       "3                     Valve  windows;mac;linux             0   \n",
       "4                     Valve  windows;mac;linux             0   \n",
       "...                     ...                ...           ...   \n",
       "26559           SHEN JIAWEI            windows             0   \n",
       "26560      BekkerDev Studio            windows             0   \n",
       "26561           EntwicklerX            windows             0   \n",
       "26562  Alawar Entertainment        windows;mac             0   \n",
       "26563  Alawar Entertainment        windows;mac             0   \n",
       "\n",
       "                                              categories  \\\n",
       "0      Multi-player;Online Multi-Player;Local Multi-P...   \n",
       "1      Multi-player;Online Multi-Player;Local Multi-P...   \n",
       "2                  Multi-player;Valve Anti-Cheat enabled   \n",
       "3      Multi-player;Online Multi-Player;Local Multi-P...   \n",
       "4      Single-player;Multi-player;Valve Anti-Cheat en...   \n",
       "...                                                  ...   \n",
       "26559                   Single-player;Steam Achievements   \n",
       "26560                                      Single-player   \n",
       "26561  Single-player;Multi-player;Co-op;Shared/Split ...   \n",
       "26562                          Single-player;Steam Cloud   \n",
       "26563                          Single-player;Steam Cloud   \n",
       "\n",
       "                       genres                 steamspy_tags  achievements  \\\n",
       "0                      Action        Action;FPS;Multiplayer             0   \n",
       "1                      Action        Action;FPS;Multiplayer             0   \n",
       "2                      Action  FPS;World War II;Multiplayer             0   \n",
       "3                      Action        Action;FPS;Multiplayer             0   \n",
       "4                      Action             FPS;Action;Sci-fi             0   \n",
       "...                       ...                           ...           ...   \n",
       "26559  Adventure;Casual;Indie        Adventure;Indie;Casual             7   \n",
       "26560  Action;Adventure;Indie        Action;Indie;Adventure             0   \n",
       "26561     Action;Casual;Indie           Action;Indie;Casual            24   \n",
       "26562  Adventure;Casual;Indie        Indie;Casual;Adventure             0   \n",
       "26563  Adventure;Casual;Indie        Indie;Casual;Adventure             0   \n",
       "\n",
       "       positive_ratings  negative_ratings  average_playtime  median_playtime  \\\n",
       "0                124534              3339             17612              317   \n",
       "1                  3318               633               277               62   \n",
       "2                  3416               398               187               34   \n",
       "3                  1273               267               258              184   \n",
       "4                  5250               288               624              415   \n",
       "...                 ...               ...               ...              ...   \n",
       "26559                 3                 0                 0                0   \n",
       "26560                 8                 1                 0                0   \n",
       "26561                 0                 1                 0                0   \n",
       "26562                 2                 0                 0                0   \n",
       "26563                 4                 0                 0                0   \n",
       "\n",
       "                  owners  price  \n",
       "0      10000000-20000000   7.19  \n",
       "1       5000000-10000000   3.99  \n",
       "2       5000000-10000000   3.99  \n",
       "3       5000000-10000000   3.99  \n",
       "4       5000000-10000000   3.99  \n",
       "...                  ...    ...  \n",
       "26559            0-20000   2.09  \n",
       "26560            0-20000   1.69  \n",
       "26561            0-20000   3.99  \n",
       "26562            0-20000   5.19  \n",
       "26563            0-20000   5.19  \n",
       "\n",
       "[26564 rows x 17 columns]"
      ]
     },
     "execution_count": 2,
     "metadata": {},
     "output_type": "execute_result"
    }
   ],
   "source": [
    "steam_df = pd.read_csv('steam.csv')\n",
    "steam_df = steam_df[steam_df['english'] == True]\n",
    "steam_df = steam_df.drop(columns='english').reset_index(drop=True)\n",
    "steam_df"
   ]
  },
  {
   "cell_type": "markdown",
   "id": "1f206ca0",
   "metadata": {},
   "source": [
    "## Checking for missing data"
   ]
  },
  {
   "cell_type": "code",
   "execution_count": 3,
   "id": "a283b125",
   "metadata": {
    "ExecuteTime": {
     "end_time": "2022-09-03T16:10:50.545588Z",
     "start_time": "2022-09-03T16:10:50.506694Z"
    }
   },
   "outputs": [
    {
     "data": {
      "text/plain": [
       "appid               0\n",
       "name                0\n",
       "release_date        0\n",
       "developer           0\n",
       "publisher           0\n",
       "platforms           0\n",
       "required_age        0\n",
       "categories          0\n",
       "genres              0\n",
       "steamspy_tags       0\n",
       "achievements        0\n",
       "positive_ratings    0\n",
       "negative_ratings    0\n",
       "average_playtime    0\n",
       "median_playtime     0\n",
       "owners              0\n",
       "price               0\n",
       "dtype: int64"
      ]
     },
     "execution_count": 3,
     "metadata": {},
     "output_type": "execute_result"
    }
   ],
   "source": [
    "steam_df.isna().sum()"
   ]
  },
  {
   "cell_type": "code",
   "execution_count": 4,
   "id": "6cdee8c0",
   "metadata": {
    "ExecuteTime": {
     "end_time": "2022-09-03T16:10:50.561544Z",
     "start_time": "2022-09-03T16:10:50.548580Z"
    }
   },
   "outputs": [
    {
     "data": {
      "text/plain": [
       "appid                 int64\n",
       "name                 object\n",
       "release_date         object\n",
       "developer            object\n",
       "publisher            object\n",
       "platforms            object\n",
       "required_age          int64\n",
       "categories           object\n",
       "genres               object\n",
       "steamspy_tags        object\n",
       "achievements          int64\n",
       "positive_ratings      int64\n",
       "negative_ratings      int64\n",
       "average_playtime      int64\n",
       "median_playtime       int64\n",
       "owners               object\n",
       "price               float64\n",
       "dtype: object"
      ]
     },
     "execution_count": 4,
     "metadata": {},
     "output_type": "execute_result"
    }
   ],
   "source": [
    "steam_df.dtypes"
   ]
  },
  {
   "cell_type": "markdown",
   "id": "228f1566",
   "metadata": {},
   "source": [
    "## Cleaning data"
   ]
  },
  {
   "cell_type": "markdown",
   "id": "5d2fd6a4",
   "metadata": {},
   "source": [
    "### Games whose `name`, `developer`, or `publisher` contain non-ASCII characters."
   ]
  },
  {
   "cell_type": "code",
   "execution_count": 5,
   "id": "1115a6b6",
   "metadata": {
    "ExecuteTime": {
     "end_time": "2022-09-03T16:10:50.592466Z",
     "start_time": "2022-09-03T16:10:50.564538Z"
    }
   },
   "outputs": [
    {
     "data": {
      "text/plain": [
       "62          Gumboy - Crazy Adventures™\n",
       "65                                GUN™\n",
       "66                       Call of Duty®\n",
       "67                     Call of Duty® 2\n",
       "81                          FlatOut 2™\n",
       "                     ...              \n",
       "26507            10-4 Indirect Contact\n",
       "26527     Twinkle Star - 未来はすぐそこで待っている\n",
       "26532     胜利即正义! / Victory is justice！\n",
       "26535    The Underground Watcher/地下监察员\n",
       "26550                   Blacksmith Run\n",
       "Name: name, Length: 1628, dtype: object"
      ]
     },
     "execution_count": 5,
     "metadata": {},
     "output_type": "execute_result"
    }
   ],
   "source": [
    "steam_df[~(steam_df['name'].map(str.isascii) & \n",
    "          steam_df['developer'].map(str.isascii) & \n",
    "          steam_df['publisher'].map(str.isascii))]['name']"
   ]
  },
  {
   "cell_type": "markdown",
   "id": "41fe56d9",
   "metadata": {},
   "source": [
    "### Converting `release_date` to `datetime`"
   ]
  },
  {
   "cell_type": "code",
   "execution_count": 6,
   "id": "761257dd",
   "metadata": {
    "ExecuteTime": {
     "end_time": "2022-09-03T16:10:50.624418Z",
     "start_time": "2022-09-03T16:10:50.595455Z"
    }
   },
   "outputs": [
    {
     "data": {
      "text/plain": [
       "dtype('<M8[ns]')"
      ]
     },
     "execution_count": 6,
     "metadata": {},
     "output_type": "execute_result"
    }
   ],
   "source": [
    "steam_df['release_date'] = pd.to_datetime(steam_df['release_date'])\n",
    "steam_df['release_date'].dtype"
   ]
  },
  {
   "cell_type": "markdown",
   "id": "17008529",
   "metadata": {},
   "source": [
    "### Checking the binning of `owners`"
   ]
  },
  {
   "cell_type": "code",
   "execution_count": 7,
   "id": "187aac3e",
   "metadata": {
    "ExecuteTime": {
     "end_time": "2022-09-03T16:10:50.640373Z",
     "start_time": "2022-09-03T16:10:50.627384Z"
    }
   },
   "outputs": [
    {
     "data": {
      "text/plain": [
       "0       10000000-20000000\n",
       "1        5000000-10000000\n",
       "2         2000000-5000000\n",
       "3       20000000-50000000\n",
       "4     100000000-200000000\n",
       "5      50000000-100000000\n",
       "6             20000-50000\n",
       "7          500000-1000000\n",
       "8           100000-200000\n",
       "9            50000-100000\n",
       "10        1000000-2000000\n",
       "11          200000-500000\n",
       "12                0-20000\n",
       "dtype: object"
      ]
     },
     "execution_count": 7,
     "metadata": {},
     "output_type": "execute_result"
    }
   ],
   "source": [
    "pd.Series(steam_df['owners'].unique())"
   ]
  },
  {
   "cell_type": "markdown",
   "id": "d43ee6ad",
   "metadata": {},
   "source": [
    "### Taking the floor `owners`"
   ]
  },
  {
   "cell_type": "code",
   "execution_count": 8,
   "id": "61b915a4",
   "metadata": {
    "ExecuteTime": {
     "end_time": "2022-09-03T16:10:50.656299Z",
     "start_time": "2022-09-03T16:10:50.642328Z"
    }
   },
   "outputs": [
    {
     "data": {
      "text/plain": [
       "{'10000000-20000000': 10000000,\n",
       " '5000000-10000000': 5000000,\n",
       " '2000000-5000000': 2000000,\n",
       " '20000000-50000000': 20000000,\n",
       " '100000000-200000000': 100000000,\n",
       " '50000000-100000000': 50000000,\n",
       " '20000-50000': 20000,\n",
       " '500000-1000000': 500000,\n",
       " '100000-200000': 100000,\n",
       " '50000-100000': 50000,\n",
       " '1000000-2000000': 1000000,\n",
       " '200000-500000': 200000,\n",
       " '0-20000': 0}"
      ]
     },
     "execution_count": 8,
     "metadata": {},
     "output_type": "execute_result"
    }
   ],
   "source": [
    "floor_owners = np.array([10_000_000, 5_000_000, 2_000_000, 20_000_000, \n",
    "                         100_000_000, 50_000_000, 20_000, 500_000, 100_000, \n",
    "                         50_000, 1_000_000, 200_000, 0])\n",
    "\n",
    "floor_owner_dict = dict(zip(steam_df['owners'].unique(), floor_owners))\n",
    "floor_owner_dict"
   ]
  },
  {
   "cell_type": "code",
   "execution_count": 9,
   "id": "2e211f95",
   "metadata": {
    "ExecuteTime": {
     "end_time": "2022-09-03T16:10:50.672288Z",
     "start_time": "2022-09-03T16:10:50.660280Z"
    }
   },
   "outputs": [
    {
     "data": {
      "text/plain": [
       "{'10000000-20000000': 15000000,\n",
       " '5000000-10000000': 7500000,\n",
       " '2000000-5000000': 3500000,\n",
       " '20000000-50000000': 35000000,\n",
       " '100000000-200000000': 150000000,\n",
       " '50000000-100000000': 75000000,\n",
       " '20000-50000': 35000,\n",
       " '500000-1000000': 750000,\n",
       " '100000-200000': 150000,\n",
       " '50000-100000': 75000,\n",
       " '1000000-2000000': 1500000,\n",
       " '200000-500000': 350000,\n",
       " '0-20000': 10000}"
      ]
     },
     "execution_count": 9,
     "metadata": {},
     "output_type": "execute_result"
    }
   ],
   "source": [
    "ave_owners = np.array([15_000_000, 7_500_000, 3_500_000, 35_000_000, \n",
    "                       150_000_000, 75_000_000, 35_000, 750_000, 150_000, \n",
    "                       75_000, 1_500_000, 350_000, 10_000])\n",
    "ave_owner_dict = dict(zip(steam_df['owners'].unique(), ave_owners))\n",
    "ave_owner_dict"
   ]
  },
  {
   "cell_type": "code",
   "execution_count": 10,
   "id": "13e91af2",
   "metadata": {
    "ExecuteTime": {
     "end_time": "2022-09-03T16:10:50.720148Z",
     "start_time": "2022-09-03T16:10:50.677236Z"
    }
   },
   "outputs": [],
   "source": [
    "steam_df = steam_df.replace({'owners': ave_owner_dict})"
   ]
  },
  {
   "cell_type": "markdown",
   "id": "ff78c84f",
   "metadata": {},
   "source": [
    "## Statistics"
   ]
  },
  {
   "cell_type": "code",
   "execution_count": 11,
   "id": "1d5bf15a",
   "metadata": {
    "ExecuteTime": {
     "end_time": "2022-09-03T16:10:50.768020Z",
     "start_time": "2022-09-03T16:10:50.723114Z"
    }
   },
   "outputs": [
    {
     "data": {
      "text/html": [
       "<div>\n",
       "<style scoped>\n",
       "    .dataframe tbody tr th:only-of-type {\n",
       "        vertical-align: middle;\n",
       "    }\n",
       "\n",
       "    .dataframe tbody tr th {\n",
       "        vertical-align: top;\n",
       "    }\n",
       "\n",
       "    .dataframe thead th {\n",
       "        text-align: right;\n",
       "    }\n",
       "</style>\n",
       "<table border=\"1\" class=\"dataframe\">\n",
       "  <thead>\n",
       "    <tr style=\"text-align: right;\">\n",
       "      <th></th>\n",
       "      <th>required_age</th>\n",
       "      <th>achievements</th>\n",
       "      <th>positive_ratings</th>\n",
       "      <th>negative_ratings</th>\n",
       "      <th>average_playtime</th>\n",
       "      <th>median_playtime</th>\n",
       "      <th>owners</th>\n",
       "      <th>price</th>\n",
       "    </tr>\n",
       "  </thead>\n",
       "  <tbody>\n",
       "    <tr>\n",
       "      <th>count</th>\n",
       "      <td>26564.000000</td>\n",
       "      <td>26564.000000</td>\n",
       "      <td>2.656400e+04</td>\n",
       "      <td>26564.000000</td>\n",
       "      <td>26564.000000</td>\n",
       "      <td>26564.000000</td>\n",
       "      <td>2.656400e+04</td>\n",
       "      <td>26564.000000</td>\n",
       "    </tr>\n",
       "    <tr>\n",
       "      <th>mean</th>\n",
       "      <td>0.355858</td>\n",
       "      <td>45.939580</td>\n",
       "      <td>1.016363e+03</td>\n",
       "      <td>214.417633</td>\n",
       "      <td>149.890717</td>\n",
       "      <td>144.940747</td>\n",
       "      <td>1.360834e+05</td>\n",
       "      <td>6.086621</td>\n",
       "    </tr>\n",
       "    <tr>\n",
       "      <th>std</th>\n",
       "      <td>2.408144</td>\n",
       "      <td>355.995119</td>\n",
       "      <td>1.916965e+04</td>\n",
       "      <td>4325.838838</td>\n",
       "      <td>1824.209705</td>\n",
       "      <td>2334.541203</td>\n",
       "      <td>1.340513e+06</td>\n",
       "      <td>7.877340</td>\n",
       "    </tr>\n",
       "    <tr>\n",
       "      <th>min</th>\n",
       "      <td>0.000000</td>\n",
       "      <td>0.000000</td>\n",
       "      <td>0.000000e+00</td>\n",
       "      <td>0.000000</td>\n",
       "      <td>0.000000</td>\n",
       "      <td>0.000000</td>\n",
       "      <td>1.000000e+04</td>\n",
       "      <td>0.000000</td>\n",
       "    </tr>\n",
       "    <tr>\n",
       "      <th>25%</th>\n",
       "      <td>0.000000</td>\n",
       "      <td>0.000000</td>\n",
       "      <td>6.000000e+00</td>\n",
       "      <td>2.000000</td>\n",
       "      <td>0.000000</td>\n",
       "      <td>0.000000</td>\n",
       "      <td>1.000000e+04</td>\n",
       "      <td>1.690000</td>\n",
       "    </tr>\n",
       "    <tr>\n",
       "      <th>50%</th>\n",
       "      <td>0.000000</td>\n",
       "      <td>7.000000</td>\n",
       "      <td>2.500000e+01</td>\n",
       "      <td>9.000000</td>\n",
       "      <td>0.000000</td>\n",
       "      <td>0.000000</td>\n",
       "      <td>1.000000e+04</td>\n",
       "      <td>3.990000</td>\n",
       "    </tr>\n",
       "    <tr>\n",
       "      <th>75%</th>\n",
       "      <td>0.000000</td>\n",
       "      <td>23.000000</td>\n",
       "      <td>1.270000e+02</td>\n",
       "      <td>42.000000</td>\n",
       "      <td>0.000000</td>\n",
       "      <td>0.000000</td>\n",
       "      <td>3.500000e+04</td>\n",
       "      <td>7.190000</td>\n",
       "    </tr>\n",
       "    <tr>\n",
       "      <th>max</th>\n",
       "      <td>18.000000</td>\n",
       "      <td>9821.000000</td>\n",
       "      <td>2.644404e+06</td>\n",
       "      <td>487076.000000</td>\n",
       "      <td>190625.000000</td>\n",
       "      <td>190625.000000</td>\n",
       "      <td>1.500000e+08</td>\n",
       "      <td>421.990000</td>\n",
       "    </tr>\n",
       "  </tbody>\n",
       "</table>\n",
       "</div>"
      ],
      "text/plain": [
       "       required_age  achievements  positive_ratings  negative_ratings  \\\n",
       "count  26564.000000  26564.000000      2.656400e+04      26564.000000   \n",
       "mean       0.355858     45.939580      1.016363e+03        214.417633   \n",
       "std        2.408144    355.995119      1.916965e+04       4325.838838   \n",
       "min        0.000000      0.000000      0.000000e+00          0.000000   \n",
       "25%        0.000000      0.000000      6.000000e+00          2.000000   \n",
       "50%        0.000000      7.000000      2.500000e+01          9.000000   \n",
       "75%        0.000000     23.000000      1.270000e+02         42.000000   \n",
       "max       18.000000   9821.000000      2.644404e+06     487076.000000   \n",
       "\n",
       "       average_playtime  median_playtime        owners         price  \n",
       "count      26564.000000     26564.000000  2.656400e+04  26564.000000  \n",
       "mean         149.890717       144.940747  1.360834e+05      6.086621  \n",
       "std         1824.209705      2334.541203  1.340513e+06      7.877340  \n",
       "min            0.000000         0.000000  1.000000e+04      0.000000  \n",
       "25%            0.000000         0.000000  1.000000e+04      1.690000  \n",
       "50%            0.000000         0.000000  1.000000e+04      3.990000  \n",
       "75%            0.000000         0.000000  3.500000e+04      7.190000  \n",
       "max       190625.000000    190625.000000  1.500000e+08    421.990000  "
      ]
     },
     "execution_count": 11,
     "metadata": {},
     "output_type": "execute_result"
    }
   ],
   "source": [
    "steam_df.drop(columns=['appid']).describe()"
   ]
  },
  {
   "cell_type": "markdown",
   "id": "95a655bf",
   "metadata": {},
   "source": [
    "# Feature engineering"
   ]
  },
  {
   "cell_type": "code",
   "execution_count": 12,
   "id": "a2038f14",
   "metadata": {
    "ExecuteTime": {
     "end_time": "2022-09-03T16:10:50.782999Z",
     "start_time": "2022-09-03T16:10:50.769988Z"
    }
   },
   "outputs": [
    {
     "data": {
      "text/html": [
       "<div>\n",
       "<style scoped>\n",
       "    .dataframe tbody tr th:only-of-type {\n",
       "        vertical-align: middle;\n",
       "    }\n",
       "\n",
       "    .dataframe tbody tr th {\n",
       "        vertical-align: top;\n",
       "    }\n",
       "\n",
       "    .dataframe thead th {\n",
       "        text-align: right;\n",
       "    }\n",
       "</style>\n",
       "<table border=\"1\" class=\"dataframe\">\n",
       "  <thead>\n",
       "    <tr style=\"text-align: right;\">\n",
       "      <th></th>\n",
       "      <th>appid</th>\n",
       "    </tr>\n",
       "  </thead>\n",
       "  <tbody>\n",
       "    <tr>\n",
       "      <th>0</th>\n",
       "      <td>10</td>\n",
       "    </tr>\n",
       "    <tr>\n",
       "      <th>1</th>\n",
       "      <td>20</td>\n",
       "    </tr>\n",
       "    <tr>\n",
       "      <th>2</th>\n",
       "      <td>30</td>\n",
       "    </tr>\n",
       "    <tr>\n",
       "      <th>3</th>\n",
       "      <td>40</td>\n",
       "    </tr>\n",
       "    <tr>\n",
       "      <th>4</th>\n",
       "      <td>50</td>\n",
       "    </tr>\n",
       "    <tr>\n",
       "      <th>...</th>\n",
       "      <td>...</td>\n",
       "    </tr>\n",
       "    <tr>\n",
       "      <th>26559</th>\n",
       "      <td>1065230</td>\n",
       "    </tr>\n",
       "    <tr>\n",
       "      <th>26560</th>\n",
       "      <td>1065570</td>\n",
       "    </tr>\n",
       "    <tr>\n",
       "      <th>26561</th>\n",
       "      <td>1065650</td>\n",
       "    </tr>\n",
       "    <tr>\n",
       "      <th>26562</th>\n",
       "      <td>1066700</td>\n",
       "    </tr>\n",
       "    <tr>\n",
       "      <th>26563</th>\n",
       "      <td>1069460</td>\n",
       "    </tr>\n",
       "  </tbody>\n",
       "</table>\n",
       "<p>26564 rows × 1 columns</p>\n",
       "</div>"
      ],
      "text/plain": [
       "         appid\n",
       "0           10\n",
       "1           20\n",
       "2           30\n",
       "3           40\n",
       "4           50\n",
       "...        ...\n",
       "26559  1065230\n",
       "26560  1065570\n",
       "26561  1065650\n",
       "26562  1066700\n",
       "26563  1069460\n",
       "\n",
       "[26564 rows x 1 columns]"
      ]
     },
     "execution_count": 12,
     "metadata": {},
     "output_type": "execute_result"
    }
   ],
   "source": [
    "# New dataframe to store new features (mergable by `name`)\n",
    "extra_df = steam_df['appid'].to_frame()\n",
    "extra_df"
   ]
  },
  {
   "cell_type": "markdown",
   "id": "c2831cf0",
   "metadata": {},
   "source": [
    "## `price_range`\n",
    "---\n",
    "**Outlier treatment proposition.**\n",
    "\n",
    "Games priced above $50$ GBP are outliers. Only a few gamers can afford such high prices."
   ]
  },
  {
   "cell_type": "code",
   "execution_count": 13,
   "id": "1b916839",
   "metadata": {
    "ExecuteTime": {
     "end_time": "2022-09-03T16:10:50.813913Z",
     "start_time": "2022-09-03T16:10:50.784947Z"
    }
   },
   "outputs": [
    {
     "data": {
      "text/html": [
       "<div>\n",
       "<style scoped>\n",
       "    .dataframe tbody tr th:only-of-type {\n",
       "        vertical-align: middle;\n",
       "    }\n",
       "\n",
       "    .dataframe tbody tr th {\n",
       "        vertical-align: top;\n",
       "    }\n",
       "\n",
       "    .dataframe thead th {\n",
       "        text-align: right;\n",
       "    }\n",
       "</style>\n",
       "<table border=\"1\" class=\"dataframe\">\n",
       "  <thead>\n",
       "    <tr style=\"text-align: right;\">\n",
       "      <th></th>\n",
       "      <th>appid</th>\n",
       "      <th>price_range</th>\n",
       "    </tr>\n",
       "  </thead>\n",
       "  <tbody>\n",
       "    <tr>\n",
       "      <th>0</th>\n",
       "      <td>10</td>\n",
       "      <td>(0.31, 40.0]</td>\n",
       "    </tr>\n",
       "    <tr>\n",
       "      <th>1</th>\n",
       "      <td>20</td>\n",
       "      <td>(0.31, 40.0]</td>\n",
       "    </tr>\n",
       "    <tr>\n",
       "      <th>2</th>\n",
       "      <td>30</td>\n",
       "      <td>(0.31, 40.0]</td>\n",
       "    </tr>\n",
       "    <tr>\n",
       "      <th>3</th>\n",
       "      <td>40</td>\n",
       "      <td>(0.31, 40.0]</td>\n",
       "    </tr>\n",
       "    <tr>\n",
       "      <th>4</th>\n",
       "      <td>50</td>\n",
       "      <td>(0.31, 40.0]</td>\n",
       "    </tr>\n",
       "    <tr>\n",
       "      <th>...</th>\n",
       "      <td>...</td>\n",
       "      <td>...</td>\n",
       "    </tr>\n",
       "    <tr>\n",
       "      <th>26559</th>\n",
       "      <td>1065230</td>\n",
       "      <td>(0.31, 40.0]</td>\n",
       "    </tr>\n",
       "    <tr>\n",
       "      <th>26560</th>\n",
       "      <td>1065570</td>\n",
       "      <td>(0.31, 40.0]</td>\n",
       "    </tr>\n",
       "    <tr>\n",
       "      <th>26561</th>\n",
       "      <td>1065650</td>\n",
       "      <td>(0.31, 40.0]</td>\n",
       "    </tr>\n",
       "    <tr>\n",
       "      <th>26562</th>\n",
       "      <td>1066700</td>\n",
       "      <td>(0.31, 40.0]</td>\n",
       "    </tr>\n",
       "    <tr>\n",
       "      <th>26563</th>\n",
       "      <td>1069460</td>\n",
       "      <td>(0.31, 40.0]</td>\n",
       "    </tr>\n",
       "  </tbody>\n",
       "</table>\n",
       "<p>26564 rows × 2 columns</p>\n",
       "</div>"
      ],
      "text/plain": [
       "         appid   price_range\n",
       "0           10  (0.31, 40.0]\n",
       "1           20  (0.31, 40.0]\n",
       "2           30  (0.31, 40.0]\n",
       "3           40  (0.31, 40.0]\n",
       "4           50  (0.31, 40.0]\n",
       "...        ...           ...\n",
       "26559  1065230  (0.31, 40.0]\n",
       "26560  1065570  (0.31, 40.0]\n",
       "26561  1065650  (0.31, 40.0]\n",
       "26562  1066700  (0.31, 40.0]\n",
       "26563  1069460  (0.31, 40.0]\n",
       "\n",
       "[26564 rows x 2 columns]"
      ]
     },
     "execution_count": 13,
     "metadata": {},
     "output_type": "execute_result"
    }
   ],
   "source": [
    "# 1 GBP to PHP conversion for potential analysis\n",
    "GBP_to_PHP = 65.37\n",
    "\n",
    "# Custom binning to categorize price range\n",
    "price_binning = np.linspace(0, 422, 20)\n",
    "price_binning = np.array([-0.1, 0.31, 40, 50, 100, 422])\n",
    "\n",
    "extra_df['price_range'] = pd.cut(steam_df['price'], price_binning)\n",
    "extra_df"
   ]
  },
  {
   "cell_type": "markdown",
   "id": "d39a6dc1",
   "metadata": {},
   "source": [
    "## `release_year`"
   ]
  },
  {
   "cell_type": "code",
   "execution_count": 14,
   "id": "aa21692f",
   "metadata": {
    "ExecuteTime": {
     "end_time": "2022-09-03T16:10:50.845811Z",
     "start_time": "2022-09-03T16:10:50.815863Z"
    }
   },
   "outputs": [
    {
     "data": {
      "text/html": [
       "<div>\n",
       "<style scoped>\n",
       "    .dataframe tbody tr th:only-of-type {\n",
       "        vertical-align: middle;\n",
       "    }\n",
       "\n",
       "    .dataframe tbody tr th {\n",
       "        vertical-align: top;\n",
       "    }\n",
       "\n",
       "    .dataframe thead th {\n",
       "        text-align: right;\n",
       "    }\n",
       "</style>\n",
       "<table border=\"1\" class=\"dataframe\">\n",
       "  <thead>\n",
       "    <tr style=\"text-align: right;\">\n",
       "      <th></th>\n",
       "      <th>appid</th>\n",
       "      <th>price_range</th>\n",
       "      <th>release_year</th>\n",
       "    </tr>\n",
       "  </thead>\n",
       "  <tbody>\n",
       "    <tr>\n",
       "      <th>0</th>\n",
       "      <td>10</td>\n",
       "      <td>(0.31, 40.0]</td>\n",
       "      <td>2000</td>\n",
       "    </tr>\n",
       "    <tr>\n",
       "      <th>1</th>\n",
       "      <td>20</td>\n",
       "      <td>(0.31, 40.0]</td>\n",
       "      <td>1999</td>\n",
       "    </tr>\n",
       "    <tr>\n",
       "      <th>2</th>\n",
       "      <td>30</td>\n",
       "      <td>(0.31, 40.0]</td>\n",
       "      <td>2003</td>\n",
       "    </tr>\n",
       "    <tr>\n",
       "      <th>3</th>\n",
       "      <td>40</td>\n",
       "      <td>(0.31, 40.0]</td>\n",
       "      <td>2001</td>\n",
       "    </tr>\n",
       "    <tr>\n",
       "      <th>4</th>\n",
       "      <td>50</td>\n",
       "      <td>(0.31, 40.0]</td>\n",
       "      <td>1999</td>\n",
       "    </tr>\n",
       "    <tr>\n",
       "      <th>...</th>\n",
       "      <td>...</td>\n",
       "      <td>...</td>\n",
       "      <td>...</td>\n",
       "    </tr>\n",
       "    <tr>\n",
       "      <th>26559</th>\n",
       "      <td>1065230</td>\n",
       "      <td>(0.31, 40.0]</td>\n",
       "      <td>2019</td>\n",
       "    </tr>\n",
       "    <tr>\n",
       "      <th>26560</th>\n",
       "      <td>1065570</td>\n",
       "      <td>(0.31, 40.0]</td>\n",
       "      <td>2019</td>\n",
       "    </tr>\n",
       "    <tr>\n",
       "      <th>26561</th>\n",
       "      <td>1065650</td>\n",
       "      <td>(0.31, 40.0]</td>\n",
       "      <td>2019</td>\n",
       "    </tr>\n",
       "    <tr>\n",
       "      <th>26562</th>\n",
       "      <td>1066700</td>\n",
       "      <td>(0.31, 40.0]</td>\n",
       "      <td>2019</td>\n",
       "    </tr>\n",
       "    <tr>\n",
       "      <th>26563</th>\n",
       "      <td>1069460</td>\n",
       "      <td>(0.31, 40.0]</td>\n",
       "      <td>2019</td>\n",
       "    </tr>\n",
       "  </tbody>\n",
       "</table>\n",
       "<p>26564 rows × 3 columns</p>\n",
       "</div>"
      ],
      "text/plain": [
       "         appid   price_range  release_year\n",
       "0           10  (0.31, 40.0]          2000\n",
       "1           20  (0.31, 40.0]          1999\n",
       "2           30  (0.31, 40.0]          2003\n",
       "3           40  (0.31, 40.0]          2001\n",
       "4           50  (0.31, 40.0]          1999\n",
       "...        ...           ...           ...\n",
       "26559  1065230  (0.31, 40.0]          2019\n",
       "26560  1065570  (0.31, 40.0]          2019\n",
       "26561  1065650  (0.31, 40.0]          2019\n",
       "26562  1066700  (0.31, 40.0]          2019\n",
       "26563  1069460  (0.31, 40.0]          2019\n",
       "\n",
       "[26564 rows x 3 columns]"
      ]
     },
     "execution_count": 14,
     "metadata": {},
     "output_type": "execute_result"
    }
   ],
   "source": [
    "extra_df['release_year'] = steam_df['release_date'].dt.year\n",
    "extra_df"
   ]
  },
  {
   "cell_type": "markdown",
   "id": "feaeb1ac",
   "metadata": {},
   "source": [
    "## `total_ratings`\n",
    "---\n",
    "**Outlier treatment proposition.**\n",
    "\n",
    "Set a lower bound within the range of `total_ratings` values to check only relevant games."
   ]
  },
  {
   "cell_type": "code",
   "execution_count": 15,
   "id": "1b5e6368",
   "metadata": {
    "ExecuteTime": {
     "end_time": "2022-09-03T16:10:50.877739Z",
     "start_time": "2022-09-03T16:10:50.847781Z"
    }
   },
   "outputs": [
    {
     "data": {
      "text/html": [
       "<div>\n",
       "<style scoped>\n",
       "    .dataframe tbody tr th:only-of-type {\n",
       "        vertical-align: middle;\n",
       "    }\n",
       "\n",
       "    .dataframe tbody tr th {\n",
       "        vertical-align: top;\n",
       "    }\n",
       "\n",
       "    .dataframe thead th {\n",
       "        text-align: right;\n",
       "    }\n",
       "</style>\n",
       "<table border=\"1\" class=\"dataframe\">\n",
       "  <thead>\n",
       "    <tr style=\"text-align: right;\">\n",
       "      <th></th>\n",
       "      <th>appid</th>\n",
       "      <th>price_range</th>\n",
       "      <th>release_year</th>\n",
       "      <th>total_ratings</th>\n",
       "    </tr>\n",
       "  </thead>\n",
       "  <tbody>\n",
       "    <tr>\n",
       "      <th>0</th>\n",
       "      <td>10</td>\n",
       "      <td>(0.31, 40.0]</td>\n",
       "      <td>2000</td>\n",
       "      <td>127873</td>\n",
       "    </tr>\n",
       "    <tr>\n",
       "      <th>1</th>\n",
       "      <td>20</td>\n",
       "      <td>(0.31, 40.0]</td>\n",
       "      <td>1999</td>\n",
       "      <td>3951</td>\n",
       "    </tr>\n",
       "    <tr>\n",
       "      <th>2</th>\n",
       "      <td>30</td>\n",
       "      <td>(0.31, 40.0]</td>\n",
       "      <td>2003</td>\n",
       "      <td>3814</td>\n",
       "    </tr>\n",
       "    <tr>\n",
       "      <th>3</th>\n",
       "      <td>40</td>\n",
       "      <td>(0.31, 40.0]</td>\n",
       "      <td>2001</td>\n",
       "      <td>1540</td>\n",
       "    </tr>\n",
       "    <tr>\n",
       "      <th>4</th>\n",
       "      <td>50</td>\n",
       "      <td>(0.31, 40.0]</td>\n",
       "      <td>1999</td>\n",
       "      <td>5538</td>\n",
       "    </tr>\n",
       "    <tr>\n",
       "      <th>...</th>\n",
       "      <td>...</td>\n",
       "      <td>...</td>\n",
       "      <td>...</td>\n",
       "      <td>...</td>\n",
       "    </tr>\n",
       "    <tr>\n",
       "      <th>26559</th>\n",
       "      <td>1065230</td>\n",
       "      <td>(0.31, 40.0]</td>\n",
       "      <td>2019</td>\n",
       "      <td>3</td>\n",
       "    </tr>\n",
       "    <tr>\n",
       "      <th>26560</th>\n",
       "      <td>1065570</td>\n",
       "      <td>(0.31, 40.0]</td>\n",
       "      <td>2019</td>\n",
       "      <td>9</td>\n",
       "    </tr>\n",
       "    <tr>\n",
       "      <th>26561</th>\n",
       "      <td>1065650</td>\n",
       "      <td>(0.31, 40.0]</td>\n",
       "      <td>2019</td>\n",
       "      <td>1</td>\n",
       "    </tr>\n",
       "    <tr>\n",
       "      <th>26562</th>\n",
       "      <td>1066700</td>\n",
       "      <td>(0.31, 40.0]</td>\n",
       "      <td>2019</td>\n",
       "      <td>2</td>\n",
       "    </tr>\n",
       "    <tr>\n",
       "      <th>26563</th>\n",
       "      <td>1069460</td>\n",
       "      <td>(0.31, 40.0]</td>\n",
       "      <td>2019</td>\n",
       "      <td>4</td>\n",
       "    </tr>\n",
       "  </tbody>\n",
       "</table>\n",
       "<p>26564 rows × 4 columns</p>\n",
       "</div>"
      ],
      "text/plain": [
       "         appid   price_range  release_year  total_ratings\n",
       "0           10  (0.31, 40.0]          2000         127873\n",
       "1           20  (0.31, 40.0]          1999           3951\n",
       "2           30  (0.31, 40.0]          2003           3814\n",
       "3           40  (0.31, 40.0]          2001           1540\n",
       "4           50  (0.31, 40.0]          1999           5538\n",
       "...        ...           ...           ...            ...\n",
       "26559  1065230  (0.31, 40.0]          2019              3\n",
       "26560  1065570  (0.31, 40.0]          2019              9\n",
       "26561  1065650  (0.31, 40.0]          2019              1\n",
       "26562  1066700  (0.31, 40.0]          2019              2\n",
       "26563  1069460  (0.31, 40.0]          2019              4\n",
       "\n",
       "[26564 rows x 4 columns]"
      ]
     },
     "execution_count": 15,
     "metadata": {},
     "output_type": "execute_result"
    }
   ],
   "source": [
    "extra_df['total_ratings'] = (steam_df['positive_ratings'] \n",
    "                            + steam_df['negative_ratings'])\n",
    "extra_df"
   ]
  },
  {
   "cell_type": "markdown",
   "id": "5db2a153",
   "metadata": {},
   "source": [
    "## `ratings`\n",
    "---\n",
    "**Outlier treatment proposition.**\n",
    "\n",
    "$100\\%$ `ratings` are outliers. In reality, this only happens if a game is so unknown that nobody actually plays it."
   ]
  },
  {
   "cell_type": "code",
   "execution_count": 16,
   "id": "805ff2f7",
   "metadata": {
    "ExecuteTime": {
     "end_time": "2022-09-03T16:10:50.909641Z",
     "start_time": "2022-09-03T16:10:50.881710Z"
    }
   },
   "outputs": [
    {
     "data": {
      "text/html": [
       "<div>\n",
       "<style scoped>\n",
       "    .dataframe tbody tr th:only-of-type {\n",
       "        vertical-align: middle;\n",
       "    }\n",
       "\n",
       "    .dataframe tbody tr th {\n",
       "        vertical-align: top;\n",
       "    }\n",
       "\n",
       "    .dataframe thead th {\n",
       "        text-align: right;\n",
       "    }\n",
       "</style>\n",
       "<table border=\"1\" class=\"dataframe\">\n",
       "  <thead>\n",
       "    <tr style=\"text-align: right;\">\n",
       "      <th></th>\n",
       "      <th>appid</th>\n",
       "      <th>price_range</th>\n",
       "      <th>release_year</th>\n",
       "      <th>total_ratings</th>\n",
       "      <th>ratings</th>\n",
       "    </tr>\n",
       "  </thead>\n",
       "  <tbody>\n",
       "    <tr>\n",
       "      <th>0</th>\n",
       "      <td>10</td>\n",
       "      <td>(0.31, 40.0]</td>\n",
       "      <td>2000</td>\n",
       "      <td>127873</td>\n",
       "      <td>97.39</td>\n",
       "    </tr>\n",
       "    <tr>\n",
       "      <th>1</th>\n",
       "      <td>20</td>\n",
       "      <td>(0.31, 40.0]</td>\n",
       "      <td>1999</td>\n",
       "      <td>3951</td>\n",
       "      <td>83.98</td>\n",
       "    </tr>\n",
       "    <tr>\n",
       "      <th>2</th>\n",
       "      <td>30</td>\n",
       "      <td>(0.31, 40.0]</td>\n",
       "      <td>2003</td>\n",
       "      <td>3814</td>\n",
       "      <td>89.56</td>\n",
       "    </tr>\n",
       "    <tr>\n",
       "      <th>3</th>\n",
       "      <td>40</td>\n",
       "      <td>(0.31, 40.0]</td>\n",
       "      <td>2001</td>\n",
       "      <td>1540</td>\n",
       "      <td>82.66</td>\n",
       "    </tr>\n",
       "    <tr>\n",
       "      <th>4</th>\n",
       "      <td>50</td>\n",
       "      <td>(0.31, 40.0]</td>\n",
       "      <td>1999</td>\n",
       "      <td>5538</td>\n",
       "      <td>94.80</td>\n",
       "    </tr>\n",
       "    <tr>\n",
       "      <th>...</th>\n",
       "      <td>...</td>\n",
       "      <td>...</td>\n",
       "      <td>...</td>\n",
       "      <td>...</td>\n",
       "      <td>...</td>\n",
       "    </tr>\n",
       "    <tr>\n",
       "      <th>26559</th>\n",
       "      <td>1065230</td>\n",
       "      <td>(0.31, 40.0]</td>\n",
       "      <td>2019</td>\n",
       "      <td>3</td>\n",
       "      <td>100.00</td>\n",
       "    </tr>\n",
       "    <tr>\n",
       "      <th>26560</th>\n",
       "      <td>1065570</td>\n",
       "      <td>(0.31, 40.0]</td>\n",
       "      <td>2019</td>\n",
       "      <td>9</td>\n",
       "      <td>88.89</td>\n",
       "    </tr>\n",
       "    <tr>\n",
       "      <th>26561</th>\n",
       "      <td>1065650</td>\n",
       "      <td>(0.31, 40.0]</td>\n",
       "      <td>2019</td>\n",
       "      <td>1</td>\n",
       "      <td>0.00</td>\n",
       "    </tr>\n",
       "    <tr>\n",
       "      <th>26562</th>\n",
       "      <td>1066700</td>\n",
       "      <td>(0.31, 40.0]</td>\n",
       "      <td>2019</td>\n",
       "      <td>2</td>\n",
       "      <td>100.00</td>\n",
       "    </tr>\n",
       "    <tr>\n",
       "      <th>26563</th>\n",
       "      <td>1069460</td>\n",
       "      <td>(0.31, 40.0]</td>\n",
       "      <td>2019</td>\n",
       "      <td>4</td>\n",
       "      <td>100.00</td>\n",
       "    </tr>\n",
       "  </tbody>\n",
       "</table>\n",
       "<p>26564 rows × 5 columns</p>\n",
       "</div>"
      ],
      "text/plain": [
       "         appid   price_range  release_year  total_ratings  ratings\n",
       "0           10  (0.31, 40.0]          2000         127873    97.39\n",
       "1           20  (0.31, 40.0]          1999           3951    83.98\n",
       "2           30  (0.31, 40.0]          2003           3814    89.56\n",
       "3           40  (0.31, 40.0]          2001           1540    82.66\n",
       "4           50  (0.31, 40.0]          1999           5538    94.80\n",
       "...        ...           ...           ...            ...      ...\n",
       "26559  1065230  (0.31, 40.0]          2019              3   100.00\n",
       "26560  1065570  (0.31, 40.0]          2019              9    88.89\n",
       "26561  1065650  (0.31, 40.0]          2019              1     0.00\n",
       "26562  1066700  (0.31, 40.0]          2019              2   100.00\n",
       "26563  1069460  (0.31, 40.0]          2019              4   100.00\n",
       "\n",
       "[26564 rows x 5 columns]"
      ]
     },
     "execution_count": 16,
     "metadata": {},
     "output_type": "execute_result"
    }
   ],
   "source": [
    "extra_df['ratings'] = round(steam_df['positive_ratings']\n",
    "                           /extra_df['total_ratings']*100, 2)\n",
    "extra_df"
   ]
  },
  {
   "cell_type": "markdown",
   "id": "578dc4f6",
   "metadata": {},
   "source": [
    "## `total_revenue`\n",
    "---\n",
    "This is a proxy for total revenue data by multiplying the number of `owners` by the `price`.\n",
    "\n",
    "**Note.**\n",
    "- This is applicable only to paid games.\n",
    "- Older games will naturally aggregate more total revenue through time.\n",
    "\n",
    "---\n",
    "**Outlier treatment proposition.**\n",
    "\n",
    "Set a lower bound within the range of `total_revenue` values to check only relevant games."
   ]
  },
  {
   "cell_type": "code",
   "execution_count": 17,
   "id": "77a4fc40",
   "metadata": {
    "ExecuteTime": {
     "end_time": "2022-09-03T16:10:50.940561Z",
     "start_time": "2022-09-03T16:10:50.911607Z"
    }
   },
   "outputs": [
    {
     "data": {
      "text/html": [
       "<div>\n",
       "<style scoped>\n",
       "    .dataframe tbody tr th:only-of-type {\n",
       "        vertical-align: middle;\n",
       "    }\n",
       "\n",
       "    .dataframe tbody tr th {\n",
       "        vertical-align: top;\n",
       "    }\n",
       "\n",
       "    .dataframe thead th {\n",
       "        text-align: right;\n",
       "    }\n",
       "</style>\n",
       "<table border=\"1\" class=\"dataframe\">\n",
       "  <thead>\n",
       "    <tr style=\"text-align: right;\">\n",
       "      <th></th>\n",
       "      <th>appid</th>\n",
       "      <th>price_range</th>\n",
       "      <th>release_year</th>\n",
       "      <th>total_ratings</th>\n",
       "      <th>ratings</th>\n",
       "      <th>total_revenue</th>\n",
       "    </tr>\n",
       "  </thead>\n",
       "  <tbody>\n",
       "    <tr>\n",
       "      <th>0</th>\n",
       "      <td>10</td>\n",
       "      <td>(0.31, 40.0]</td>\n",
       "      <td>2000</td>\n",
       "      <td>127873</td>\n",
       "      <td>97.39</td>\n",
       "      <td>107850000.0</td>\n",
       "    </tr>\n",
       "    <tr>\n",
       "      <th>1</th>\n",
       "      <td>20</td>\n",
       "      <td>(0.31, 40.0]</td>\n",
       "      <td>1999</td>\n",
       "      <td>3951</td>\n",
       "      <td>83.98</td>\n",
       "      <td>29925000.0</td>\n",
       "    </tr>\n",
       "    <tr>\n",
       "      <th>2</th>\n",
       "      <td>30</td>\n",
       "      <td>(0.31, 40.0]</td>\n",
       "      <td>2003</td>\n",
       "      <td>3814</td>\n",
       "      <td>89.56</td>\n",
       "      <td>29925000.0</td>\n",
       "    </tr>\n",
       "    <tr>\n",
       "      <th>3</th>\n",
       "      <td>40</td>\n",
       "      <td>(0.31, 40.0]</td>\n",
       "      <td>2001</td>\n",
       "      <td>1540</td>\n",
       "      <td>82.66</td>\n",
       "      <td>29925000.0</td>\n",
       "    </tr>\n",
       "    <tr>\n",
       "      <th>4</th>\n",
       "      <td>50</td>\n",
       "      <td>(0.31, 40.0]</td>\n",
       "      <td>1999</td>\n",
       "      <td>5538</td>\n",
       "      <td>94.80</td>\n",
       "      <td>29925000.0</td>\n",
       "    </tr>\n",
       "    <tr>\n",
       "      <th>...</th>\n",
       "      <td>...</td>\n",
       "      <td>...</td>\n",
       "      <td>...</td>\n",
       "      <td>...</td>\n",
       "      <td>...</td>\n",
       "      <td>...</td>\n",
       "    </tr>\n",
       "    <tr>\n",
       "      <th>26559</th>\n",
       "      <td>1065230</td>\n",
       "      <td>(0.31, 40.0]</td>\n",
       "      <td>2019</td>\n",
       "      <td>3</td>\n",
       "      <td>100.00</td>\n",
       "      <td>20900.0</td>\n",
       "    </tr>\n",
       "    <tr>\n",
       "      <th>26560</th>\n",
       "      <td>1065570</td>\n",
       "      <td>(0.31, 40.0]</td>\n",
       "      <td>2019</td>\n",
       "      <td>9</td>\n",
       "      <td>88.89</td>\n",
       "      <td>16900.0</td>\n",
       "    </tr>\n",
       "    <tr>\n",
       "      <th>26561</th>\n",
       "      <td>1065650</td>\n",
       "      <td>(0.31, 40.0]</td>\n",
       "      <td>2019</td>\n",
       "      <td>1</td>\n",
       "      <td>0.00</td>\n",
       "      <td>39900.0</td>\n",
       "    </tr>\n",
       "    <tr>\n",
       "      <th>26562</th>\n",
       "      <td>1066700</td>\n",
       "      <td>(0.31, 40.0]</td>\n",
       "      <td>2019</td>\n",
       "      <td>2</td>\n",
       "      <td>100.00</td>\n",
       "      <td>51900.0</td>\n",
       "    </tr>\n",
       "    <tr>\n",
       "      <th>26563</th>\n",
       "      <td>1069460</td>\n",
       "      <td>(0.31, 40.0]</td>\n",
       "      <td>2019</td>\n",
       "      <td>4</td>\n",
       "      <td>100.00</td>\n",
       "      <td>51900.0</td>\n",
       "    </tr>\n",
       "  </tbody>\n",
       "</table>\n",
       "<p>26564 rows × 6 columns</p>\n",
       "</div>"
      ],
      "text/plain": [
       "         appid   price_range  release_year  total_ratings  ratings  \\\n",
       "0           10  (0.31, 40.0]          2000         127873    97.39   \n",
       "1           20  (0.31, 40.0]          1999           3951    83.98   \n",
       "2           30  (0.31, 40.0]          2003           3814    89.56   \n",
       "3           40  (0.31, 40.0]          2001           1540    82.66   \n",
       "4           50  (0.31, 40.0]          1999           5538    94.80   \n",
       "...        ...           ...           ...            ...      ...   \n",
       "26559  1065230  (0.31, 40.0]          2019              3   100.00   \n",
       "26560  1065570  (0.31, 40.0]          2019              9    88.89   \n",
       "26561  1065650  (0.31, 40.0]          2019              1     0.00   \n",
       "26562  1066700  (0.31, 40.0]          2019              2   100.00   \n",
       "26563  1069460  (0.31, 40.0]          2019              4   100.00   \n",
       "\n",
       "       total_revenue  \n",
       "0        107850000.0  \n",
       "1         29925000.0  \n",
       "2         29925000.0  \n",
       "3         29925000.0  \n",
       "4         29925000.0  \n",
       "...              ...  \n",
       "26559        20900.0  \n",
       "26560        16900.0  \n",
       "26561        39900.0  \n",
       "26562        51900.0  \n",
       "26563        51900.0  \n",
       "\n",
       "[26564 rows x 6 columns]"
      ]
     },
     "execution_count": 17,
     "metadata": {},
     "output_type": "execute_result"
    }
   ],
   "source": [
    "extra_df['total_revenue'] = steam_df['owners'] * steam_df['price']\n",
    "extra_df"
   ]
  },
  {
   "cell_type": "markdown",
   "id": "843e3d4a",
   "metadata": {},
   "source": [
    "## Merge `steam_df` and `extra_df` by `app_id`"
   ]
  },
  {
   "cell_type": "code",
   "execution_count": 18,
   "id": "860b7b73",
   "metadata": {
    "ExecuteTime": {
     "end_time": "2022-09-03T16:10:51.033324Z",
     "start_time": "2022-09-03T16:10:50.942527Z"
    }
   },
   "outputs": [
    {
     "data": {
      "text/html": [
       "<div>\n",
       "<style scoped>\n",
       "    .dataframe tbody tr th:only-of-type {\n",
       "        vertical-align: middle;\n",
       "    }\n",
       "\n",
       "    .dataframe tbody tr th {\n",
       "        vertical-align: top;\n",
       "    }\n",
       "\n",
       "    .dataframe thead th {\n",
       "        text-align: right;\n",
       "    }\n",
       "</style>\n",
       "<table border=\"1\" class=\"dataframe\">\n",
       "  <thead>\n",
       "    <tr style=\"text-align: right;\">\n",
       "      <th></th>\n",
       "      <th>appid</th>\n",
       "      <th>name</th>\n",
       "      <th>release_date</th>\n",
       "      <th>developer</th>\n",
       "      <th>publisher</th>\n",
       "      <th>platforms</th>\n",
       "      <th>required_age</th>\n",
       "      <th>categories</th>\n",
       "      <th>genres</th>\n",
       "      <th>steamspy_tags</th>\n",
       "      <th>...</th>\n",
       "      <th>negative_ratings</th>\n",
       "      <th>average_playtime</th>\n",
       "      <th>median_playtime</th>\n",
       "      <th>owners</th>\n",
       "      <th>price</th>\n",
       "      <th>price_range</th>\n",
       "      <th>release_year</th>\n",
       "      <th>total_ratings</th>\n",
       "      <th>ratings</th>\n",
       "      <th>total_revenue</th>\n",
       "    </tr>\n",
       "  </thead>\n",
       "  <tbody>\n",
       "    <tr>\n",
       "      <th>0</th>\n",
       "      <td>10</td>\n",
       "      <td>Counter-Strike</td>\n",
       "      <td>2000-11-01</td>\n",
       "      <td>Valve</td>\n",
       "      <td>Valve</td>\n",
       "      <td>windows;mac;linux</td>\n",
       "      <td>0</td>\n",
       "      <td>Multi-player;Online Multi-Player;Local Multi-P...</td>\n",
       "      <td>Action</td>\n",
       "      <td>Action;FPS;Multiplayer</td>\n",
       "      <td>...</td>\n",
       "      <td>3339</td>\n",
       "      <td>17612</td>\n",
       "      <td>317</td>\n",
       "      <td>15000000</td>\n",
       "      <td>7.19</td>\n",
       "      <td>(0.31, 40.0]</td>\n",
       "      <td>2000</td>\n",
       "      <td>127873</td>\n",
       "      <td>97.39</td>\n",
       "      <td>107850000.0</td>\n",
       "    </tr>\n",
       "    <tr>\n",
       "      <th>1</th>\n",
       "      <td>20</td>\n",
       "      <td>Team Fortress Classic</td>\n",
       "      <td>1999-04-01</td>\n",
       "      <td>Valve</td>\n",
       "      <td>Valve</td>\n",
       "      <td>windows;mac;linux</td>\n",
       "      <td>0</td>\n",
       "      <td>Multi-player;Online Multi-Player;Local Multi-P...</td>\n",
       "      <td>Action</td>\n",
       "      <td>Action;FPS;Multiplayer</td>\n",
       "      <td>...</td>\n",
       "      <td>633</td>\n",
       "      <td>277</td>\n",
       "      <td>62</td>\n",
       "      <td>7500000</td>\n",
       "      <td>3.99</td>\n",
       "      <td>(0.31, 40.0]</td>\n",
       "      <td>1999</td>\n",
       "      <td>3951</td>\n",
       "      <td>83.98</td>\n",
       "      <td>29925000.0</td>\n",
       "    </tr>\n",
       "    <tr>\n",
       "      <th>2</th>\n",
       "      <td>30</td>\n",
       "      <td>Day of Defeat</td>\n",
       "      <td>2003-05-01</td>\n",
       "      <td>Valve</td>\n",
       "      <td>Valve</td>\n",
       "      <td>windows;mac;linux</td>\n",
       "      <td>0</td>\n",
       "      <td>Multi-player;Valve Anti-Cheat enabled</td>\n",
       "      <td>Action</td>\n",
       "      <td>FPS;World War II;Multiplayer</td>\n",
       "      <td>...</td>\n",
       "      <td>398</td>\n",
       "      <td>187</td>\n",
       "      <td>34</td>\n",
       "      <td>7500000</td>\n",
       "      <td>3.99</td>\n",
       "      <td>(0.31, 40.0]</td>\n",
       "      <td>2003</td>\n",
       "      <td>3814</td>\n",
       "      <td>89.56</td>\n",
       "      <td>29925000.0</td>\n",
       "    </tr>\n",
       "    <tr>\n",
       "      <th>3</th>\n",
       "      <td>40</td>\n",
       "      <td>Deathmatch Classic</td>\n",
       "      <td>2001-06-01</td>\n",
       "      <td>Valve</td>\n",
       "      <td>Valve</td>\n",
       "      <td>windows;mac;linux</td>\n",
       "      <td>0</td>\n",
       "      <td>Multi-player;Online Multi-Player;Local Multi-P...</td>\n",
       "      <td>Action</td>\n",
       "      <td>Action;FPS;Multiplayer</td>\n",
       "      <td>...</td>\n",
       "      <td>267</td>\n",
       "      <td>258</td>\n",
       "      <td>184</td>\n",
       "      <td>7500000</td>\n",
       "      <td>3.99</td>\n",
       "      <td>(0.31, 40.0]</td>\n",
       "      <td>2001</td>\n",
       "      <td>1540</td>\n",
       "      <td>82.66</td>\n",
       "      <td>29925000.0</td>\n",
       "    </tr>\n",
       "    <tr>\n",
       "      <th>4</th>\n",
       "      <td>50</td>\n",
       "      <td>Half-Life: Opposing Force</td>\n",
       "      <td>1999-11-01</td>\n",
       "      <td>Gearbox Software</td>\n",
       "      <td>Valve</td>\n",
       "      <td>windows;mac;linux</td>\n",
       "      <td>0</td>\n",
       "      <td>Single-player;Multi-player;Valve Anti-Cheat en...</td>\n",
       "      <td>Action</td>\n",
       "      <td>FPS;Action;Sci-fi</td>\n",
       "      <td>...</td>\n",
       "      <td>288</td>\n",
       "      <td>624</td>\n",
       "      <td>415</td>\n",
       "      <td>7500000</td>\n",
       "      <td>3.99</td>\n",
       "      <td>(0.31, 40.0]</td>\n",
       "      <td>1999</td>\n",
       "      <td>5538</td>\n",
       "      <td>94.80</td>\n",
       "      <td>29925000.0</td>\n",
       "    </tr>\n",
       "    <tr>\n",
       "      <th>...</th>\n",
       "      <td>...</td>\n",
       "      <td>...</td>\n",
       "      <td>...</td>\n",
       "      <td>...</td>\n",
       "      <td>...</td>\n",
       "      <td>...</td>\n",
       "      <td>...</td>\n",
       "      <td>...</td>\n",
       "      <td>...</td>\n",
       "      <td>...</td>\n",
       "      <td>...</td>\n",
       "      <td>...</td>\n",
       "      <td>...</td>\n",
       "      <td>...</td>\n",
       "      <td>...</td>\n",
       "      <td>...</td>\n",
       "      <td>...</td>\n",
       "      <td>...</td>\n",
       "      <td>...</td>\n",
       "      <td>...</td>\n",
       "      <td>...</td>\n",
       "    </tr>\n",
       "    <tr>\n",
       "      <th>26559</th>\n",
       "      <td>1065230</td>\n",
       "      <td>Room of Pandora</td>\n",
       "      <td>2019-04-24</td>\n",
       "      <td>SHEN JIAWEI</td>\n",
       "      <td>SHEN JIAWEI</td>\n",
       "      <td>windows</td>\n",
       "      <td>0</td>\n",
       "      <td>Single-player;Steam Achievements</td>\n",
       "      <td>Adventure;Casual;Indie</td>\n",
       "      <td>Adventure;Indie;Casual</td>\n",
       "      <td>...</td>\n",
       "      <td>0</td>\n",
       "      <td>0</td>\n",
       "      <td>0</td>\n",
       "      <td>10000</td>\n",
       "      <td>2.09</td>\n",
       "      <td>(0.31, 40.0]</td>\n",
       "      <td>2019</td>\n",
       "      <td>3</td>\n",
       "      <td>100.00</td>\n",
       "      <td>20900.0</td>\n",
       "    </tr>\n",
       "    <tr>\n",
       "      <th>26560</th>\n",
       "      <td>1065570</td>\n",
       "      <td>Cyber Gun</td>\n",
       "      <td>2019-04-23</td>\n",
       "      <td>Semyon Maximov</td>\n",
       "      <td>BekkerDev Studio</td>\n",
       "      <td>windows</td>\n",
       "      <td>0</td>\n",
       "      <td>Single-player</td>\n",
       "      <td>Action;Adventure;Indie</td>\n",
       "      <td>Action;Indie;Adventure</td>\n",
       "      <td>...</td>\n",
       "      <td>1</td>\n",
       "      <td>0</td>\n",
       "      <td>0</td>\n",
       "      <td>10000</td>\n",
       "      <td>1.69</td>\n",
       "      <td>(0.31, 40.0]</td>\n",
       "      <td>2019</td>\n",
       "      <td>9</td>\n",
       "      <td>88.89</td>\n",
       "      <td>16900.0</td>\n",
       "    </tr>\n",
       "    <tr>\n",
       "      <th>26561</th>\n",
       "      <td>1065650</td>\n",
       "      <td>Super Star Blast</td>\n",
       "      <td>2019-04-24</td>\n",
       "      <td>EntwicklerX</td>\n",
       "      <td>EntwicklerX</td>\n",
       "      <td>windows</td>\n",
       "      <td>0</td>\n",
       "      <td>Single-player;Multi-player;Co-op;Shared/Split ...</td>\n",
       "      <td>Action;Casual;Indie</td>\n",
       "      <td>Action;Indie;Casual</td>\n",
       "      <td>...</td>\n",
       "      <td>1</td>\n",
       "      <td>0</td>\n",
       "      <td>0</td>\n",
       "      <td>10000</td>\n",
       "      <td>3.99</td>\n",
       "      <td>(0.31, 40.0]</td>\n",
       "      <td>2019</td>\n",
       "      <td>1</td>\n",
       "      <td>0.00</td>\n",
       "      <td>39900.0</td>\n",
       "    </tr>\n",
       "    <tr>\n",
       "      <th>26562</th>\n",
       "      <td>1066700</td>\n",
       "      <td>New Yankee 7: Deer Hunters</td>\n",
       "      <td>2019-04-17</td>\n",
       "      <td>Yustas Game Studio</td>\n",
       "      <td>Alawar Entertainment</td>\n",
       "      <td>windows;mac</td>\n",
       "      <td>0</td>\n",
       "      <td>Single-player;Steam Cloud</td>\n",
       "      <td>Adventure;Casual;Indie</td>\n",
       "      <td>Indie;Casual;Adventure</td>\n",
       "      <td>...</td>\n",
       "      <td>0</td>\n",
       "      <td>0</td>\n",
       "      <td>0</td>\n",
       "      <td>10000</td>\n",
       "      <td>5.19</td>\n",
       "      <td>(0.31, 40.0]</td>\n",
       "      <td>2019</td>\n",
       "      <td>2</td>\n",
       "      <td>100.00</td>\n",
       "      <td>51900.0</td>\n",
       "    </tr>\n",
       "    <tr>\n",
       "      <th>26563</th>\n",
       "      <td>1069460</td>\n",
       "      <td>Rune Lord</td>\n",
       "      <td>2019-04-24</td>\n",
       "      <td>Adept Studios GD</td>\n",
       "      <td>Alawar Entertainment</td>\n",
       "      <td>windows;mac</td>\n",
       "      <td>0</td>\n",
       "      <td>Single-player;Steam Cloud</td>\n",
       "      <td>Adventure;Casual;Indie</td>\n",
       "      <td>Indie;Casual;Adventure</td>\n",
       "      <td>...</td>\n",
       "      <td>0</td>\n",
       "      <td>0</td>\n",
       "      <td>0</td>\n",
       "      <td>10000</td>\n",
       "      <td>5.19</td>\n",
       "      <td>(0.31, 40.0]</td>\n",
       "      <td>2019</td>\n",
       "      <td>4</td>\n",
       "      <td>100.00</td>\n",
       "      <td>51900.0</td>\n",
       "    </tr>\n",
       "  </tbody>\n",
       "</table>\n",
       "<p>26564 rows × 22 columns</p>\n",
       "</div>"
      ],
      "text/plain": [
       "         appid                        name release_date           developer  \\\n",
       "0           10              Counter-Strike   2000-11-01               Valve   \n",
       "1           20       Team Fortress Classic   1999-04-01               Valve   \n",
       "2           30               Day of Defeat   2003-05-01               Valve   \n",
       "3           40          Deathmatch Classic   2001-06-01               Valve   \n",
       "4           50   Half-Life: Opposing Force   1999-11-01    Gearbox Software   \n",
       "...        ...                         ...          ...                 ...   \n",
       "26559  1065230             Room of Pandora   2019-04-24         SHEN JIAWEI   \n",
       "26560  1065570                   Cyber Gun   2019-04-23      Semyon Maximov   \n",
       "26561  1065650            Super Star Blast   2019-04-24         EntwicklerX   \n",
       "26562  1066700  New Yankee 7: Deer Hunters   2019-04-17  Yustas Game Studio   \n",
       "26563  1069460                   Rune Lord   2019-04-24    Adept Studios GD   \n",
       "\n",
       "                  publisher          platforms  required_age  \\\n",
       "0                     Valve  windows;mac;linux             0   \n",
       "1                     Valve  windows;mac;linux             0   \n",
       "2                     Valve  windows;mac;linux             0   \n",
       "3                     Valve  windows;mac;linux             0   \n",
       "4                     Valve  windows;mac;linux             0   \n",
       "...                     ...                ...           ...   \n",
       "26559           SHEN JIAWEI            windows             0   \n",
       "26560      BekkerDev Studio            windows             0   \n",
       "26561           EntwicklerX            windows             0   \n",
       "26562  Alawar Entertainment        windows;mac             0   \n",
       "26563  Alawar Entertainment        windows;mac             0   \n",
       "\n",
       "                                              categories  \\\n",
       "0      Multi-player;Online Multi-Player;Local Multi-P...   \n",
       "1      Multi-player;Online Multi-Player;Local Multi-P...   \n",
       "2                  Multi-player;Valve Anti-Cheat enabled   \n",
       "3      Multi-player;Online Multi-Player;Local Multi-P...   \n",
       "4      Single-player;Multi-player;Valve Anti-Cheat en...   \n",
       "...                                                  ...   \n",
       "26559                   Single-player;Steam Achievements   \n",
       "26560                                      Single-player   \n",
       "26561  Single-player;Multi-player;Co-op;Shared/Split ...   \n",
       "26562                          Single-player;Steam Cloud   \n",
       "26563                          Single-player;Steam Cloud   \n",
       "\n",
       "                       genres                 steamspy_tags  ...  \\\n",
       "0                      Action        Action;FPS;Multiplayer  ...   \n",
       "1                      Action        Action;FPS;Multiplayer  ...   \n",
       "2                      Action  FPS;World War II;Multiplayer  ...   \n",
       "3                      Action        Action;FPS;Multiplayer  ...   \n",
       "4                      Action             FPS;Action;Sci-fi  ...   \n",
       "...                       ...                           ...  ...   \n",
       "26559  Adventure;Casual;Indie        Adventure;Indie;Casual  ...   \n",
       "26560  Action;Adventure;Indie        Action;Indie;Adventure  ...   \n",
       "26561     Action;Casual;Indie           Action;Indie;Casual  ...   \n",
       "26562  Adventure;Casual;Indie        Indie;Casual;Adventure  ...   \n",
       "26563  Adventure;Casual;Indie        Indie;Casual;Adventure  ...   \n",
       "\n",
       "       negative_ratings  average_playtime  median_playtime    owners  price  \\\n",
       "0                  3339             17612              317  15000000   7.19   \n",
       "1                   633               277               62   7500000   3.99   \n",
       "2                   398               187               34   7500000   3.99   \n",
       "3                   267               258              184   7500000   3.99   \n",
       "4                   288               624              415   7500000   3.99   \n",
       "...                 ...               ...              ...       ...    ...   \n",
       "26559                 0                 0                0     10000   2.09   \n",
       "26560                 1                 0                0     10000   1.69   \n",
       "26561                 1                 0                0     10000   3.99   \n",
       "26562                 0                 0                0     10000   5.19   \n",
       "26563                 0                 0                0     10000   5.19   \n",
       "\n",
       "        price_range  release_year total_ratings  ratings  total_revenue  \n",
       "0      (0.31, 40.0]          2000        127873    97.39    107850000.0  \n",
       "1      (0.31, 40.0]          1999          3951    83.98     29925000.0  \n",
       "2      (0.31, 40.0]          2003          3814    89.56     29925000.0  \n",
       "3      (0.31, 40.0]          2001          1540    82.66     29925000.0  \n",
       "4      (0.31, 40.0]          1999          5538    94.80     29925000.0  \n",
       "...             ...           ...           ...      ...            ...  \n",
       "26559  (0.31, 40.0]          2019             3   100.00        20900.0  \n",
       "26560  (0.31, 40.0]          2019             9    88.89        16900.0  \n",
       "26561  (0.31, 40.0]          2019             1     0.00        39900.0  \n",
       "26562  (0.31, 40.0]          2019             2   100.00        51900.0  \n",
       "26563  (0.31, 40.0]          2019             4   100.00        51900.0  \n",
       "\n",
       "[26564 rows x 22 columns]"
      ]
     },
     "execution_count": 18,
     "metadata": {},
     "output_type": "execute_result"
    }
   ],
   "source": [
    "# main_df contains all existing and newly-engineered features.\n",
    "main_df = steam_df.merge(extra_df, how='left')\n",
    "main_df"
   ]
  },
  {
   "cell_type": "markdown",
   "id": "0abee5b7",
   "metadata": {},
   "source": [
    "# Univariate Analysis"
   ]
  },
  {
   "cell_type": "markdown",
   "id": "fdb27996",
   "metadata": {},
   "source": [
    "## Counting values"
   ]
  },
  {
   "cell_type": "markdown",
   "id": "75c2c7a2",
   "metadata": {},
   "source": [
    "### Number of games by `developer`"
   ]
  },
  {
   "cell_type": "code",
   "execution_count": 19,
   "id": "93db33dc",
   "metadata": {
    "ExecuteTime": {
     "end_time": "2022-09-03T16:10:51.063230Z",
     "start_time": "2022-09-03T16:10:51.035277Z"
    }
   },
   "outputs": [
    {
     "data": {
      "text/plain": [
       "Choice of Games                                                                  94\n",
       "Ripknot Systems                                                                  62\n",
       "Laush Dmitriy Sergeevich                                                         51\n",
       "Nikita \"Ghost_RUS\"                                                               50\n",
       "Dexion Games                                                                     45\n",
       "                                                                                 ..\n",
       "Rixment                                                                           1\n",
       "Studio spektar                                                                    1\n",
       "Castle                                                                            1\n",
       "Electric Eggplant;Kalani Games, Inc.;HRG (Heirs of Rube Goldberg);Unity Games     1\n",
       "Adept Studios GD                                                                  1\n",
       "Name: developer, Length: 16772, dtype: int64"
      ]
     },
     "execution_count": 19,
     "metadata": {},
     "output_type": "execute_result"
    }
   ],
   "source": [
    "main_df['developer'].value_counts()"
   ]
  },
  {
   "cell_type": "markdown",
   "id": "819ba4d8",
   "metadata": {
    "ExecuteTime": {
     "end_time": "2022-09-03T06:25:30.388166Z",
     "start_time": "2022-09-03T06:25:30.351941Z"
    }
   },
   "source": [
    "### Number of games by `publisher`"
   ]
  },
  {
   "cell_type": "code",
   "execution_count": 20,
   "id": "81879ae8",
   "metadata": {
    "ExecuteTime": {
     "end_time": "2022-09-03T16:10:51.095157Z",
     "start_time": "2022-09-03T16:10:51.065200Z"
    }
   },
   "outputs": [
    {
     "data": {
      "text/plain": [
       "Big Fish Games             212\n",
       "Strategy First             136\n",
       "Ubisoft                    111\n",
       "THQ Nordic                  98\n",
       "Square Enix                 97\n",
       "                          ... \n",
       "Green Willow Games, LLC      1\n",
       "Worm Animation               1\n",
       "Constructive Media           1\n",
       "Himi Games                   1\n",
       "SHEN JIAWEI                  1\n",
       "Name: publisher, Length: 14057, dtype: int64"
      ]
     },
     "execution_count": 20,
     "metadata": {},
     "output_type": "execute_result"
    }
   ],
   "source": [
    "main_df['publisher'].value_counts()"
   ]
  },
  {
   "cell_type": "markdown",
   "id": "a77752c5",
   "metadata": {},
   "source": [
    "### Number of games by `required_age`"
   ]
  },
  {
   "cell_type": "code",
   "execution_count": 21,
   "id": "5d3c68f8",
   "metadata": {
    "ExecuteTime": {
     "end_time": "2022-09-03T16:10:51.111112Z",
     "start_time": "2022-09-03T16:10:51.097112Z"
    },
    "scrolled": true
   },
   "outputs": [
    {
     "data": {
      "text/plain": [
       "0     25977\n",
       "18      300\n",
       "16      192\n",
       "12       72\n",
       "7        12\n",
       "3        11\n",
       "Name: required_age, dtype: int64"
      ]
     },
     "execution_count": 21,
     "metadata": {},
     "output_type": "execute_result"
    }
   ],
   "source": [
    "main_df['required_age'].value_counts()"
   ]
  },
  {
   "cell_type": "markdown",
   "id": "ec96c8e6",
   "metadata": {},
   "source": [
    "### Number of games by `owners`"
   ]
  },
  {
   "cell_type": "code",
   "execution_count": 22,
   "id": "04f32e7a",
   "metadata": {
    "ExecuteTime": {
     "end_time": "2022-09-03T16:10:51.127071Z",
     "start_time": "2022-09-03T16:10:51.113069Z"
    }
   },
   "outputs": [
    {
     "data": {
      "text/plain": [
       "10000        18166\n",
       "35000         3016\n",
       "75000         1676\n",
       "150000        1373\n",
       "350000        1268\n",
       "750000         513\n",
       "1500000        287\n",
       "3500000        192\n",
       "7500000         46\n",
       "15000000        21\n",
       "35000000         3\n",
       "75000000         2\n",
       "150000000        1\n",
       "Name: owners, dtype: int64"
      ]
     },
     "execution_count": 22,
     "metadata": {},
     "output_type": "execute_result"
    }
   ],
   "source": [
    "main_df['owners'].value_counts()"
   ]
  },
  {
   "cell_type": "markdown",
   "id": "b0d161b0",
   "metadata": {},
   "source": [
    "### Number of games by `platforms`"
   ]
  },
  {
   "cell_type": "code",
   "execution_count": 23,
   "id": "84a7c894",
   "metadata": {
    "ExecuteTime": {
     "end_time": "2022-09-03T16:10:51.143030Z",
     "start_time": "2022-09-03T16:10:51.129027Z"
    }
   },
   "outputs": [
    {
     "data": {
      "text/plain": [
       "windows              17938\n",
       "windows;mac;linux     4607\n",
       "windows;mac           3406\n",
       "windows;linux          608\n",
       "mac                      3\n",
       "mac;linux                1\n",
       "linux                    1\n",
       "Name: platforms, dtype: int64"
      ]
     },
     "execution_count": 23,
     "metadata": {},
     "output_type": "execute_result"
    }
   ],
   "source": [
    "main_df['platforms'].value_counts()"
   ]
  },
  {
   "cell_type": "markdown",
   "id": "c7dbdd33",
   "metadata": {},
   "source": [
    "### Number of games by `achievements`"
   ]
  },
  {
   "cell_type": "code",
   "execution_count": 24,
   "id": "d83a2351",
   "metadata": {
    "ExecuteTime": {
     "end_time": "2022-09-03T16:10:51.158986Z",
     "start_time": "2022-09-03T16:10:51.145982Z"
    }
   },
   "outputs": [
    {
     "data": {
      "text/plain": [
       "0       11540\n",
       "10        671\n",
       "12        611\n",
       "20        562\n",
       "15        488\n",
       "        ...  \n",
       "222         1\n",
       "5394        1\n",
       "678         1\n",
       "2130        1\n",
       "233         1\n",
       "Name: achievements, Length: 409, dtype: int64"
      ]
     },
     "execution_count": 24,
     "metadata": {},
     "output_type": "execute_result"
    }
   ],
   "source": [
    "main_df['achievements'].value_counts()"
   ]
  },
  {
   "cell_type": "markdown",
   "id": "fd81f4a8",
   "metadata": {},
   "source": [
    "### Number of games by `categories`\n",
    "\n",
    "Note that categories are not mutually exclusive. Therefore, the total count per category does not correspond to the total number of games, that is, some games may be counted in multiple categories."
   ]
  },
  {
   "cell_type": "markdown",
   "id": "87827bce",
   "metadata": {},
   "source": [
    "#### Wrangling"
   ]
  },
  {
   "cell_type": "code",
   "execution_count": 25,
   "id": "46569932",
   "metadata": {
    "ExecuteTime": {
     "end_time": "2022-09-03T16:10:51.268684Z",
     "start_time": "2022-09-03T16:10:51.160944Z"
    }
   },
   "outputs": [
    {
     "data": {
      "text/plain": [
       "0                            MMO\n",
       "1            Online Multi-Player\n",
       "2       Steam Turn Notifications\n",
       "3                    Steam Cloud\n",
       "4            Shared/Split Screen\n",
       "5          Includes level editor\n",
       "6            Steam Trading Cards\n",
       "7           Commentary available\n",
       "8            Includes Source SDK\n",
       "9               In-App Purchases\n",
       "10       Full controller support\n",
       "11    Cross-Platform Multiplayer\n",
       "12            Steam Achievements\n",
       "13            Mods (require HL2)\n",
       "14                          Mods\n",
       "15          SteamVR Collectibles\n",
       "16                   Local Co-op\n",
       "17                 Single-player\n",
       "18                    VR Support\n",
       "19    Partial Controller Support\n",
       "20                         Stats\n",
       "21                Steam Workshop\n",
       "22            Local Multi-Player\n",
       "23            Steam Leaderboards\n",
       "24                  Multi-player\n",
       "25                         Co-op\n",
       "26                  Online Co-op\n",
       "27            Captions available\n",
       "28      Valve Anti-Cheat enabled\n",
       "dtype: object"
      ]
     },
     "execution_count": 25,
     "metadata": {},
     "output_type": "execute_result"
    }
   ],
   "source": [
    "# Find all unique categories\n",
    "categories = np.array(list(set([cat for entry in main_df['categories']\n",
    "                                .str.split(';').tolist() \n",
    "                                for cat in entry])))\n",
    "pd.Series(categories)"
   ]
  },
  {
   "cell_type": "markdown",
   "id": "36f15630",
   "metadata": {},
   "source": [
    "#### Counting"
   ]
  },
  {
   "cell_type": "code",
   "execution_count": 26,
   "id": "792aef6a",
   "metadata": {
    "ExecuteTime": {
     "end_time": "2022-09-03T16:10:51.298575Z",
     "start_time": "2022-09-03T16:10:51.272645Z"
    }
   },
   "outputs": [
    {
     "data": {
      "text/plain": [
       "Single-player                                                                                                                                           5911\n",
       "Single-player;Steam Achievements                                                                                                                        2286\n",
       "Single-player;Steam Achievements;Steam Trading Cards                                                                                                     843\n",
       "Single-player;Partial Controller Support                                                                                                                 787\n",
       "Single-player;Steam Trading Cards                                                                                                                        785\n",
       "                                                                                                                                                        ... \n",
       "Single-player;Steam Achievements;Steam Trading Cards;Captions available;Steam Workshop;Partial Controller Support;Steam Cloud;Includes level editor        1\n",
       "Single-player;Multi-player;Steam Achievements;Steam Trading Cards;Steam Workshop;In-App Purchases;Steam Cloud                                              1\n",
       "Single-player;Multi-player;Online Multi-Player;Co-op;Online Co-op;Steam Achievements;Steam Trading Cards;In-App Purchases;Partial Controller Support       1\n",
       "Single-player;Steam Achievements;Steam Trading Cards;Captions available;Partial Controller Support;Commentary available                                    1\n",
       "Multi-player;Online Multi-Player;Cross-Platform Multiplayer;Stats                                                                                          1\n",
       "Name: categories, Length: 3321, dtype: int64"
      ]
     },
     "execution_count": 26,
     "metadata": {},
     "output_type": "execute_result"
    }
   ],
   "source": [
    "# Number of games by unique combination of categories\n",
    "cat_per_entry = main_df['categories'].value_counts()\n",
    "cat_per_entry"
   ]
  },
  {
   "cell_type": "code",
   "execution_count": 27,
   "id": "1233087a",
   "metadata": {
    "ExecuteTime": {
     "end_time": "2022-09-03T16:10:51.474104Z",
     "start_time": "2022-09-03T16:10:51.300568Z"
    }
   },
   "outputs": [
    {
     "name": "stderr",
     "output_type": "stream",
     "text": [
      "C:\\Users\\Jam\\AppData\\Local\\Temp/ipykernel_15352/420599164.py:2: UserWarning: This pattern has match groups. To actually get the groups, use str.extract.\n",
      "  cat_counts = (pd.DataFrame((cat, cat_per_entry[cat_per_entry\n"
     ]
    },
    {
     "data": {
      "text/plain": [
       "categories\n",
       "Single-player                 94.861467\n",
       "Steam Achievements            52.605029\n",
       "Steam Trading Cards           29.634091\n",
       "Steam Cloud                   26.599910\n",
       "Full controller support       21.348441\n",
       "Partial Controller Support    15.731817\n",
       "Multi-player                  14.869749\n",
       "Steam Leaderboards            12.915977\n",
       "Co-op                          9.753802\n",
       "Online Multi-Player            9.215480\n",
       "Shared/Split Screen            8.074838\n",
       "Stats                          7.047131\n",
       "Local Multi-Player             6.057070\n",
       "Cross-Platform Multiplayer     4.050595\n",
       "Online Co-op                   4.001656\n",
       "Local Co-op                    3.975305\n",
       "Includes level editor          3.892486\n",
       "Steam Workshop                 3.357928\n",
       "Captions available             2.702906\n",
       "In-App Purchases               2.525975\n",
       "MMO                            1.520855\n",
       "VR Support                     0.869598\n",
       "Commentary available           0.527029\n",
       "Valve Anti-Cheat enabled       0.353862\n",
       "Steam Turn Notifications       0.237163\n",
       "SteamVR Collectibles           0.150580\n",
       "Includes Source SDK            0.131757\n",
       "Mods                           0.007529\n",
       "Mods (require HL2)             0.000000\n",
       "Name: count, dtype: float64"
      ]
     },
     "execution_count": 27,
     "metadata": {},
     "output_type": "execute_result"
    }
   ],
   "source": [
    "# Number of games by category\n",
    "cat_counts = (pd.DataFrame((cat, cat_per_entry[cat_per_entry\n",
    "                                              .index\n",
    "                                              .str.contains(cat)]\n",
    "                           .sum()) for cat in categories)\n",
    "              .rename(columns={0:'categories', 1:'count'})\n",
    "              .set_index('categories')\n",
    "              .squeeze().sort_values(ascending=False))\n",
    "\n",
    "cat_percent = cat_counts/main_df.shape[0]*100\n",
    "cat_percent"
   ]
  },
  {
   "cell_type": "markdown",
   "id": "da7ce2ad",
   "metadata": {},
   "source": [
    "### Number of games by `genres`\n",
    "\n",
    "Note that genres are not mutually exclusive. Therefore, the total count per genre does not correspond to the total number of games, that is, some games may be counted in multiple genres."
   ]
  },
  {
   "cell_type": "markdown",
   "id": "31fc8be2",
   "metadata": {},
   "source": [
    "#### Wrangling"
   ]
  },
  {
   "cell_type": "code",
   "execution_count": 28,
   "id": "de1246eb",
   "metadata": {
    "ExecuteTime": {
     "end_time": "2022-09-03T16:10:51.551896Z",
     "start_time": "2022-09-03T16:10:51.481087Z"
    }
   },
   "outputs": [
    {
     "data": {
      "text/plain": [
       "0                    Action\n",
       "1          Video Production\n",
       "2                    Nudity\n",
       "3               Documentary\n",
       "4     Design & Illustration\n",
       "5                 Adventure\n",
       "6                     Indie\n",
       "7                      Gore\n",
       "8                 Education\n",
       "9                    Casual\n",
       "10        Software Training\n",
       "11               Simulation\n",
       "12           Sexual Content\n",
       "13                      RPG\n",
       "14                 Tutorial\n",
       "15             Early Access\n",
       "16                  Violent\n",
       "17         Game Development\n",
       "18    Massively Multiplayer\n",
       "19                   Sports\n",
       "20            Photo Editing\n",
       "21     Animation & Modeling\n",
       "22         Audio Production\n",
       "23               Accounting\n",
       "24                 Strategy\n",
       "25                Utilities\n",
       "26                   Racing\n",
       "27             Free to Play\n",
       "28           Web Publishing\n",
       "dtype: object"
      ]
     },
     "execution_count": 28,
     "metadata": {},
     "output_type": "execute_result"
    }
   ],
   "source": [
    "genres = np.array(list(set([gen for entry in main_df['genres']\n",
    "                                .str.split(';').tolist() \n",
    "                                for gen in entry])))\n",
    "pd.Series(genres)"
   ]
  },
  {
   "cell_type": "markdown",
   "id": "be00fd2c",
   "metadata": {},
   "source": [
    "#### Counting"
   ]
  },
  {
   "cell_type": "code",
   "execution_count": 29,
   "id": "b4e5cf18",
   "metadata": {
    "ExecuteTime": {
     "end_time": "2022-09-03T16:10:51.582813Z",
     "start_time": "2022-09-03T16:10:51.554890Z"
    }
   },
   "outputs": [
    {
     "data": {
      "text/plain": [
       "Action;Indie                                                                 1840\n",
       "Casual;Indie                                                                 1467\n",
       "Action;Adventure;Indie                                                       1223\n",
       "Adventure;Indie                                                              1148\n",
       "Action;Casual;Indie                                                          1000\n",
       "                                                                             ... \n",
       "Casual;Free to Play;Massively Multiplayer;Early Access                          1\n",
       "Nudity;Adventure;Casual                                                         1\n",
       "Casual;Free to Play;Indie;Racing;Early Access                                   1\n",
       "Casual;Indie;Massively Multiplayer;Simulation;Early Access                      1\n",
       "Action;Adventure;Casual;Free to Play;Indie;RPG;Simulation;Sports;Strategy       1\n",
       "Name: genres, Length: 1528, dtype: int64"
      ]
     },
     "execution_count": 29,
     "metadata": {},
     "output_type": "execute_result"
    }
   ],
   "source": [
    "# Number of games by unique combination of genres\n",
    "gen_per_entry = main_df['genres'].value_counts()\n",
    "gen_per_entry"
   ]
  },
  {
   "cell_type": "code",
   "execution_count": 30,
   "id": "9ab92e66",
   "metadata": {
    "ExecuteTime": {
     "end_time": "2022-09-03T16:10:51.676564Z",
     "start_time": "2022-09-03T16:10:51.585806Z"
    }
   },
   "outputs": [
    {
     "data": {
      "text/plain": [
       "genres\n",
       "Indie                    71.871706\n",
       "Action                   44.481253\n",
       "Casual                   37.750339\n",
       "Adventure                36.884505\n",
       "Strategy                 19.210209\n",
       "Simulation               19.138684\n",
       "RPG                      15.374191\n",
       "Early Access             10.864328\n",
       "Free to Play              6.192591\n",
       "Sports                    4.957838\n",
       "Racing                    3.843548\n",
       "Violent                   3.132058\n",
       "Massively Multiplayer     2.627616\n",
       "Gore                      1.995181\n",
       "Nudity                    0.967475\n",
       "Sexual Content            0.895949\n",
       "Utilities                 0.542087\n",
       "Design & Illustration     0.323746\n",
       "Animation & Modeling      0.293630\n",
       "Education                 0.188225\n",
       "Video Production          0.139286\n",
       "Software Training         0.112935\n",
       "Audio Production          0.105406\n",
       "Web Publishing            0.101641\n",
       "Game Development          0.060232\n",
       "Photo Editing             0.041409\n",
       "Accounting                0.018822\n",
       "Documentary               0.003764\n",
       "Tutorial                  0.003764\n",
       "Name: count, dtype: float64"
      ]
     },
     "execution_count": 30,
     "metadata": {},
     "output_type": "execute_result"
    }
   ],
   "source": [
    "# Number of games by genres\n",
    "gen_counts = (pd.DataFrame((gen, gen_per_entry[gen_per_entry\n",
    "                                              .index\n",
    "                                              .str.contains(gen)]\n",
    "                           .sum()) for gen in genres)\n",
    "              .rename(columns={0:'genres', 1:'count'})\n",
    "              .set_index('genres')\n",
    "              .squeeze().sort_values(ascending=False))\n",
    "\n",
    "gen_percent = gen_counts/main_df.shape[0]*100\n",
    "gen_percent"
   ]
  },
  {
   "cell_type": "markdown",
   "id": "7f5abbfa",
   "metadata": {},
   "source": [
    "### Number of games by `steamspy_tags`\n",
    "\n",
    "Note that SteamSpy tags are not mutually exclusive. Therefore, the total count per SteamSpy tag does not correspond to the total number of games, that is, some games may be counted in multiple SteamSpy tags."
   ]
  },
  {
   "cell_type": "markdown",
   "id": "766241d3",
   "metadata": {},
   "source": [
    "#### Wrangling"
   ]
  },
  {
   "cell_type": "code",
   "execution_count": 31,
   "id": "038c249c",
   "metadata": {
    "ExecuteTime": {
     "end_time": "2022-09-03T16:10:51.736404Z",
     "start_time": "2022-09-03T16:10:51.678557Z"
    }
   },
   "outputs": [
    {
     "data": {
      "text/plain": [
       "0              Cinematic\n",
       "1         Pixel Graphics\n",
       "2      Trading Card Game\n",
       "3                Romance\n",
       "4       On-Rails Shooter\n",
       "             ...        \n",
       "334             Cartoony\n",
       "335            Star Wars\n",
       "336            Nonlinear\n",
       "337             Spelling\n",
       "338         Replay Value\n",
       "Length: 339, dtype: object"
      ]
     },
     "execution_count": 31,
     "metadata": {},
     "output_type": "execute_result"
    }
   ],
   "source": [
    "tags = np.array(list(set([tag for entry in main_df['steamspy_tags']\n",
    "                                .str.split(';').tolist() \n",
    "                                for tag in entry])))\n",
    "pd.Series(tags)"
   ]
  },
  {
   "cell_type": "markdown",
   "id": "39652983",
   "metadata": {},
   "source": [
    "#### Counting"
   ]
  },
  {
   "cell_type": "code",
   "execution_count": 32,
   "id": "fa27e9da",
   "metadata": {
    "ExecuteTime": {
     "end_time": "2022-09-03T16:10:51.751362Z",
     "start_time": "2022-09-03T16:10:51.738398Z"
    }
   },
   "outputs": [
    {
     "data": {
      "text/plain": [
       "Action;Indie;Casual                      840\n",
       "Action;Adventure;Indie                   711\n",
       "Early Access;Action;Indie                502\n",
       "Adventure;Indie;Casual                   430\n",
       "Indie;Casual                             373\n",
       "                                        ... \n",
       "Action;Sports;FPS                          1\n",
       "Racing;Casual;Sports                       1\n",
       "Casual;Match 3;Action                      1\n",
       "Bullet Hell;Co-op;Shoot 'Em Up             1\n",
       "Early Access;Adventure;Sexual Content      1\n",
       "Name: steamspy_tags, Length: 6348, dtype: int64"
      ]
     },
     "execution_count": 32,
     "metadata": {},
     "output_type": "execute_result"
    }
   ],
   "source": [
    "# Number of games by unique combination of tags\n",
    "tag_per_entry = main_df['steamspy_tags'].value_counts()\n",
    "tag_per_entry"
   ]
  },
  {
   "cell_type": "code",
   "execution_count": 33,
   "id": "d7a7d91d",
   "metadata": {
    "ExecuteTime": {
     "end_time": "2022-09-03T16:10:53.593439Z",
     "start_time": "2022-09-03T16:10:51.754356Z"
    }
   },
   "outputs": [
    {
     "data": {
      "text/plain": [
       "tags\n",
       "Indie                   60.167896\n",
       "Action                  38.634995\n",
       "Casual                  30.402048\n",
       "Adventure               28.632736\n",
       "Strategy                15.310194\n",
       "                          ...    \n",
       "Epic                     0.003764\n",
       "Investigation            0.003764\n",
       "Inventory Management     0.003764\n",
       "Blood                    0.003764\n",
       "Cinematic                0.003764\n",
       "Name: count, Length: 339, dtype: float64"
      ]
     },
     "execution_count": 33,
     "metadata": {},
     "output_type": "execute_result"
    }
   ],
   "source": [
    "# Number of games by tags\n",
    "tag_counts = (pd.DataFrame((tag, tag_per_entry[tag_per_entry\n",
    "                                              .index\n",
    "                                              .str.contains(tag)]\n",
    "                           .sum()) for tag in tags)\n",
    "              .rename(columns={0:'tags', 1:'count'})\n",
    "              .set_index('tags')\n",
    "              .squeeze().sort_values(ascending=False))\n",
    "\n",
    "tag_percent = tag_counts/main_df.shape[0]*100\n",
    "tag_percent"
   ]
  },
  {
   "cell_type": "markdown",
   "id": "dff5ab80",
   "metadata": {
    "ExecuteTime": {
     "end_time": "2022-09-03T07:40:37.016840Z",
     "start_time": "2022-09-03T07:40:36.997889Z"
    }
   },
   "source": [
    "#### Checking for overlapping values in `categories`, `genres`, and `steamspy_tags`"
   ]
  },
  {
   "cell_type": "code",
   "execution_count": 34,
   "id": "e9953d14",
   "metadata": {
    "ExecuteTime": {
     "end_time": "2022-09-03T16:10:53.624357Z",
     "start_time": "2022-09-03T16:10:53.597430Z"
    }
   },
   "outputs": [
    {
     "data": {
      "text/plain": [
       "(array([], dtype='<U26'),\n",
       " array(['Action', 'Adventure', 'Animation & Modeling', 'Audio Production',\n",
       "        'Casual', 'Design & Illustration', 'Documentary', 'Early Access',\n",
       "        'Education', 'Free to Play', 'Game Development', 'Gore', 'Indie',\n",
       "        'Massively Multiplayer', 'Nudity', 'Photo Editing', 'RPG',\n",
       "        'Racing', 'Sexual Content', 'Simulation', 'Software Training',\n",
       "        'Sports', 'Strategy', 'Utilities', 'Video Production', 'Violent',\n",
       "        'Web Publishing'], dtype='<U33'),\n",
       " array(['Co-op'], dtype='<U33'))"
      ]
     },
     "execution_count": 34,
     "metadata": {},
     "output_type": "execute_result"
    }
   ],
   "source": [
    "(np.intersect1d(categories, genres), \n",
    " np.intersect1d(genres, tags), \n",
    " np.intersect1d(tags, categories))"
   ]
  },
  {
   "cell_type": "markdown",
   "id": "38835c6e",
   "metadata": {},
   "source": [
    "**Proposition.**\n",
    "\n",
    "We can neglect the tags that overlap with genres and categories so that we can define tags to be more specific classifications (determined by the community) for the game apart from its designated genres and categories."
   ]
  },
  {
   "cell_type": "markdown",
   "id": "a6099209",
   "metadata": {},
   "source": [
    "### Number of games by `price_range`"
   ]
  },
  {
   "cell_type": "code",
   "execution_count": 35,
   "id": "001fd8eb",
   "metadata": {
    "ExecuteTime": {
     "end_time": "2022-09-03T16:10:53.655273Z",
     "start_time": "2022-09-03T16:10:53.628345Z"
    }
   },
   "outputs": [
    {
     "data": {
      "text/plain": [
       "(0.31, 40.0]      23983\n",
       "(-0.1, 0.31]       2467\n",
       "(40.0, 50.0]         77\n",
       "(50.0, 100.0]        26\n",
       "(100.0, 422.0]       11\n",
       "Name: price_range, dtype: int64"
      ]
     },
     "execution_count": 35,
     "metadata": {},
     "output_type": "execute_result"
    }
   ],
   "source": [
    "# There are 282 unique prices\n",
    "extra_df['price_range'].value_counts()"
   ]
  },
  {
   "cell_type": "markdown",
   "id": "deb5f6a2",
   "metadata": {},
   "source": [
    "### Number of games by `release_year`"
   ]
  },
  {
   "cell_type": "code",
   "execution_count": 36,
   "id": "d4e278c4",
   "metadata": {
    "ExecuteTime": {
     "end_time": "2022-09-03T16:10:53.686191Z",
     "start_time": "2022-09-03T16:10:53.662259Z"
    }
   },
   "outputs": [
    {
     "data": {
      "text/plain": [
       "2018    7929\n",
       "2017    6249\n",
       "2016    4342\n",
       "2015    2582\n",
       "2019    2079\n",
       "2014    1553\n",
       "2013     418\n",
       "2012     318\n",
       "2009     305\n",
       "2011     239\n",
       "2010     238\n",
       "2008     145\n",
       "2007      93\n",
       "2006      48\n",
       "2005       6\n",
       "2004       6\n",
       "2001       4\n",
       "2003       3\n",
       "2000       2\n",
       "1999       2\n",
       "2002       1\n",
       "1998       1\n",
       "1997       1\n",
       "Name: release_year, dtype: int64"
      ]
     },
     "execution_count": 36,
     "metadata": {},
     "output_type": "execute_result"
    }
   ],
   "source": [
    "extra_df['release_year'].value_counts()"
   ]
  },
  {
   "cell_type": "markdown",
   "id": "7d1daa92",
   "metadata": {},
   "source": [
    "## Ranking values"
   ]
  },
  {
   "cell_type": "markdown",
   "id": "1a626f5f",
   "metadata": {},
   "source": [
    "### Top games based on `owners` and `positive_ratings`"
   ]
  },
  {
   "cell_type": "markdown",
   "id": "067a76f1",
   "metadata": {},
   "source": [
    "## Comparing groups"
   ]
  },
  {
   "cell_type": "markdown",
   "id": "b5671f33",
   "metadata": {},
   "source": [
    "### Number of `developers` by `publisher`"
   ]
  },
  {
   "cell_type": "code",
   "execution_count": 37,
   "id": "5d681628",
   "metadata": {
    "ExecuteTime": {
     "end_time": "2022-09-03T16:10:53.749022Z",
     "start_time": "2022-09-03T16:10:53.689184Z"
    }
   },
   "outputs": [
    {
     "data": {
      "text/plain": [
       "developer\n",
       "Choice of Games             94\n",
       "Ripknot Systems             62\n",
       "Laush Dmitriy Sergeevich    51\n",
       "Nikita \"Ghost_RUS\"          50\n",
       "Dexion Games                45\n",
       "                            ..\n",
       "Hio Giang                    1\n",
       "Hippomancer                  1\n",
       "Hippopo Entertainment        1\n",
       "Hiqosoft                     1\n",
       "黄昏フロンティア                     1\n",
       "Name: name, Length: 16772, dtype: int64"
      ]
     },
     "execution_count": 37,
     "metadata": {},
     "output_type": "execute_result"
    }
   ],
   "source": [
    "main_df.groupby('developer')['name'].nunique().sort_values(ascending=False)"
   ]
  },
  {
   "cell_type": "markdown",
   "id": "59dbe32c",
   "metadata": {},
   "source": [
    "## Top rated games per `owners`"
   ]
  },
  {
   "cell_type": "code",
   "execution_count": null,
   "id": "45c2b665",
   "metadata": {
    "ExecuteTime": {
     "end_time": "2022-09-03T16:02:45.750955Z",
     "start_time": "2022-09-03T16:02:45.733974Z"
    }
   },
   "outputs": [],
   "source": []
  },
  {
   "cell_type": "markdown",
   "id": "1bf3c7e9",
   "metadata": {},
   "source": [
    "# Bivariate analysis"
   ]
  },
  {
   "cell_type": "markdown",
   "id": "a58b49d5",
   "metadata": {},
   "source": [
    "## Correlation heatmap (`owners`, `total_ratings`)"
   ]
  }
 ],
 "metadata": {
  "kernelspec": {
   "display_name": "Python 3 (ipykernel)",
   "language": "python",
   "name": "python3"
  },
  "language_info": {
   "codemirror_mode": {
    "name": "ipython",
    "version": 3
   },
   "file_extension": ".py",
   "mimetype": "text/x-python",
   "name": "python",
   "nbconvert_exporter": "python",
   "pygments_lexer": "ipython3",
   "version": "3.9.7"
  },
  "toc": {
   "base_numbering": 1,
   "nav_menu": {},
   "number_sections": true,
   "sideBar": true,
   "skip_h1_title": false,
   "title_cell": "Table of Contents",
   "title_sidebar": "Contents",
   "toc_cell": false,
   "toc_position": {},
   "toc_section_display": true,
   "toc_window_display": true
  }
 },
 "nbformat": 4,
 "nbformat_minor": 5
}
