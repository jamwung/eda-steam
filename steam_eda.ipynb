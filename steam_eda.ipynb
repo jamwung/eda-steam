{
 "cells": [
  {
   "cell_type": "code",
   "execution_count": 3,
   "id": "d2b9f278",
   "metadata": {
    "ExecuteTime": {
     "end_time": "2022-09-03T05:56:57.987911Z",
     "start_time": "2022-09-03T05:56:57.970956Z"
    }
   },
   "outputs": [],
   "source": [
    "import pandas as pd \n",
    "import matplotlib.pyplot as plt \n",
    "import matplotlib.ticker as ticker\n",
    "import seaborn as sns\n",
    "import numpy as np\n",
    "\n",
    "import datetime\n",
    "import matplotlib.dates as mdates\n",
    "\n",
    "sns.set_style('whitegrid')\n",
    "\n",
    "plt.rcParams['figure.figsize'] = [15, 10]"
   ]
  },
  {
   "cell_type": "markdown",
   "id": "3ebce35d",
   "metadata": {},
   "source": [
    "# KBQ\n",
    "\n",
    "What should a company make for their next game?"
   ]
  },
  {
   "cell_type": "markdown",
   "id": "6347524e",
   "metadata": {},
   "source": [
    "# Understanding the data"
   ]
  },
  {
   "cell_type": "markdown",
   "id": "f9734a9b",
   "metadata": {},
   "source": [
    "## Loading the dataframe"
   ]
  },
  {
   "cell_type": "code",
   "execution_count": 4,
   "id": "33a70a0d",
   "metadata": {
    "ExecuteTime": {
     "end_time": "2022-09-03T05:56:59.396030Z",
     "start_time": "2022-09-03T05:56:59.200263Z"
    },
    "scrolled": false
   },
   "outputs": [
    {
     "data": {
      "text/html": [
       "<div>\n",
       "<style scoped>\n",
       "    .dataframe tbody tr th:only-of-type {\n",
       "        vertical-align: middle;\n",
       "    }\n",
       "\n",
       "    .dataframe tbody tr th {\n",
       "        vertical-align: top;\n",
       "    }\n",
       "\n",
       "    .dataframe thead th {\n",
       "        text-align: right;\n",
       "    }\n",
       "</style>\n",
       "<table border=\"1\" class=\"dataframe\">\n",
       "  <thead>\n",
       "    <tr style=\"text-align: right;\">\n",
       "      <th></th>\n",
       "      <th>appid</th>\n",
       "      <th>name</th>\n",
       "      <th>release_date</th>\n",
       "      <th>english</th>\n",
       "      <th>developer</th>\n",
       "      <th>publisher</th>\n",
       "      <th>platforms</th>\n",
       "      <th>required_age</th>\n",
       "      <th>categories</th>\n",
       "      <th>genres</th>\n",
       "      <th>steamspy_tags</th>\n",
       "      <th>achievements</th>\n",
       "      <th>positive_ratings</th>\n",
       "      <th>negative_ratings</th>\n",
       "      <th>average_playtime</th>\n",
       "      <th>median_playtime</th>\n",
       "      <th>owners</th>\n",
       "      <th>price</th>\n",
       "    </tr>\n",
       "  </thead>\n",
       "  <tbody>\n",
       "    <tr>\n",
       "      <th>0</th>\n",
       "      <td>10</td>\n",
       "      <td>Counter-Strike</td>\n",
       "      <td>2000-11-01</td>\n",
       "      <td>1</td>\n",
       "      <td>Valve</td>\n",
       "      <td>Valve</td>\n",
       "      <td>windows;mac;linux</td>\n",
       "      <td>0</td>\n",
       "      <td>Multi-player;Online Multi-Player;Local Multi-P...</td>\n",
       "      <td>Action</td>\n",
       "      <td>Action;FPS;Multiplayer</td>\n",
       "      <td>0</td>\n",
       "      <td>124534</td>\n",
       "      <td>3339</td>\n",
       "      <td>17612</td>\n",
       "      <td>317</td>\n",
       "      <td>10000000-20000000</td>\n",
       "      <td>7.19</td>\n",
       "    </tr>\n",
       "    <tr>\n",
       "      <th>1</th>\n",
       "      <td>20</td>\n",
       "      <td>Team Fortress Classic</td>\n",
       "      <td>1999-04-01</td>\n",
       "      <td>1</td>\n",
       "      <td>Valve</td>\n",
       "      <td>Valve</td>\n",
       "      <td>windows;mac;linux</td>\n",
       "      <td>0</td>\n",
       "      <td>Multi-player;Online Multi-Player;Local Multi-P...</td>\n",
       "      <td>Action</td>\n",
       "      <td>Action;FPS;Multiplayer</td>\n",
       "      <td>0</td>\n",
       "      <td>3318</td>\n",
       "      <td>633</td>\n",
       "      <td>277</td>\n",
       "      <td>62</td>\n",
       "      <td>5000000-10000000</td>\n",
       "      <td>3.99</td>\n",
       "    </tr>\n",
       "    <tr>\n",
       "      <th>2</th>\n",
       "      <td>30</td>\n",
       "      <td>Day of Defeat</td>\n",
       "      <td>2003-05-01</td>\n",
       "      <td>1</td>\n",
       "      <td>Valve</td>\n",
       "      <td>Valve</td>\n",
       "      <td>windows;mac;linux</td>\n",
       "      <td>0</td>\n",
       "      <td>Multi-player;Valve Anti-Cheat enabled</td>\n",
       "      <td>Action</td>\n",
       "      <td>FPS;World War II;Multiplayer</td>\n",
       "      <td>0</td>\n",
       "      <td>3416</td>\n",
       "      <td>398</td>\n",
       "      <td>187</td>\n",
       "      <td>34</td>\n",
       "      <td>5000000-10000000</td>\n",
       "      <td>3.99</td>\n",
       "    </tr>\n",
       "    <tr>\n",
       "      <th>3</th>\n",
       "      <td>40</td>\n",
       "      <td>Deathmatch Classic</td>\n",
       "      <td>2001-06-01</td>\n",
       "      <td>1</td>\n",
       "      <td>Valve</td>\n",
       "      <td>Valve</td>\n",
       "      <td>windows;mac;linux</td>\n",
       "      <td>0</td>\n",
       "      <td>Multi-player;Online Multi-Player;Local Multi-P...</td>\n",
       "      <td>Action</td>\n",
       "      <td>Action;FPS;Multiplayer</td>\n",
       "      <td>0</td>\n",
       "      <td>1273</td>\n",
       "      <td>267</td>\n",
       "      <td>258</td>\n",
       "      <td>184</td>\n",
       "      <td>5000000-10000000</td>\n",
       "      <td>3.99</td>\n",
       "    </tr>\n",
       "    <tr>\n",
       "      <th>4</th>\n",
       "      <td>50</td>\n",
       "      <td>Half-Life: Opposing Force</td>\n",
       "      <td>1999-11-01</td>\n",
       "      <td>1</td>\n",
       "      <td>Gearbox Software</td>\n",
       "      <td>Valve</td>\n",
       "      <td>windows;mac;linux</td>\n",
       "      <td>0</td>\n",
       "      <td>Single-player;Multi-player;Valve Anti-Cheat en...</td>\n",
       "      <td>Action</td>\n",
       "      <td>FPS;Action;Sci-fi</td>\n",
       "      <td>0</td>\n",
       "      <td>5250</td>\n",
       "      <td>288</td>\n",
       "      <td>624</td>\n",
       "      <td>415</td>\n",
       "      <td>5000000-10000000</td>\n",
       "      <td>3.99</td>\n",
       "    </tr>\n",
       "    <tr>\n",
       "      <th>...</th>\n",
       "      <td>...</td>\n",
       "      <td>...</td>\n",
       "      <td>...</td>\n",
       "      <td>...</td>\n",
       "      <td>...</td>\n",
       "      <td>...</td>\n",
       "      <td>...</td>\n",
       "      <td>...</td>\n",
       "      <td>...</td>\n",
       "      <td>...</td>\n",
       "      <td>...</td>\n",
       "      <td>...</td>\n",
       "      <td>...</td>\n",
       "      <td>...</td>\n",
       "      <td>...</td>\n",
       "      <td>...</td>\n",
       "      <td>...</td>\n",
       "      <td>...</td>\n",
       "    </tr>\n",
       "    <tr>\n",
       "      <th>27070</th>\n",
       "      <td>1065230</td>\n",
       "      <td>Room of Pandora</td>\n",
       "      <td>2019-04-24</td>\n",
       "      <td>1</td>\n",
       "      <td>SHEN JIAWEI</td>\n",
       "      <td>SHEN JIAWEI</td>\n",
       "      <td>windows</td>\n",
       "      <td>0</td>\n",
       "      <td>Single-player;Steam Achievements</td>\n",
       "      <td>Adventure;Casual;Indie</td>\n",
       "      <td>Adventure;Indie;Casual</td>\n",
       "      <td>7</td>\n",
       "      <td>3</td>\n",
       "      <td>0</td>\n",
       "      <td>0</td>\n",
       "      <td>0</td>\n",
       "      <td>0-20000</td>\n",
       "      <td>2.09</td>\n",
       "    </tr>\n",
       "    <tr>\n",
       "      <th>27071</th>\n",
       "      <td>1065570</td>\n",
       "      <td>Cyber Gun</td>\n",
       "      <td>2019-04-23</td>\n",
       "      <td>1</td>\n",
       "      <td>Semyon Maximov</td>\n",
       "      <td>BekkerDev Studio</td>\n",
       "      <td>windows</td>\n",
       "      <td>0</td>\n",
       "      <td>Single-player</td>\n",
       "      <td>Action;Adventure;Indie</td>\n",
       "      <td>Action;Indie;Adventure</td>\n",
       "      <td>0</td>\n",
       "      <td>8</td>\n",
       "      <td>1</td>\n",
       "      <td>0</td>\n",
       "      <td>0</td>\n",
       "      <td>0-20000</td>\n",
       "      <td>1.69</td>\n",
       "    </tr>\n",
       "    <tr>\n",
       "      <th>27072</th>\n",
       "      <td>1065650</td>\n",
       "      <td>Super Star Blast</td>\n",
       "      <td>2019-04-24</td>\n",
       "      <td>1</td>\n",
       "      <td>EntwicklerX</td>\n",
       "      <td>EntwicklerX</td>\n",
       "      <td>windows</td>\n",
       "      <td>0</td>\n",
       "      <td>Single-player;Multi-player;Co-op;Shared/Split ...</td>\n",
       "      <td>Action;Casual;Indie</td>\n",
       "      <td>Action;Indie;Casual</td>\n",
       "      <td>24</td>\n",
       "      <td>0</td>\n",
       "      <td>1</td>\n",
       "      <td>0</td>\n",
       "      <td>0</td>\n",
       "      <td>0-20000</td>\n",
       "      <td>3.99</td>\n",
       "    </tr>\n",
       "    <tr>\n",
       "      <th>27073</th>\n",
       "      <td>1066700</td>\n",
       "      <td>New Yankee 7: Deer Hunters</td>\n",
       "      <td>2019-04-17</td>\n",
       "      <td>1</td>\n",
       "      <td>Yustas Game Studio</td>\n",
       "      <td>Alawar Entertainment</td>\n",
       "      <td>windows;mac</td>\n",
       "      <td>0</td>\n",
       "      <td>Single-player;Steam Cloud</td>\n",
       "      <td>Adventure;Casual;Indie</td>\n",
       "      <td>Indie;Casual;Adventure</td>\n",
       "      <td>0</td>\n",
       "      <td>2</td>\n",
       "      <td>0</td>\n",
       "      <td>0</td>\n",
       "      <td>0</td>\n",
       "      <td>0-20000</td>\n",
       "      <td>5.19</td>\n",
       "    </tr>\n",
       "    <tr>\n",
       "      <th>27074</th>\n",
       "      <td>1069460</td>\n",
       "      <td>Rune Lord</td>\n",
       "      <td>2019-04-24</td>\n",
       "      <td>1</td>\n",
       "      <td>Adept Studios GD</td>\n",
       "      <td>Alawar Entertainment</td>\n",
       "      <td>windows;mac</td>\n",
       "      <td>0</td>\n",
       "      <td>Single-player;Steam Cloud</td>\n",
       "      <td>Adventure;Casual;Indie</td>\n",
       "      <td>Indie;Casual;Adventure</td>\n",
       "      <td>0</td>\n",
       "      <td>4</td>\n",
       "      <td>0</td>\n",
       "      <td>0</td>\n",
       "      <td>0</td>\n",
       "      <td>0-20000</td>\n",
       "      <td>5.19</td>\n",
       "    </tr>\n",
       "  </tbody>\n",
       "</table>\n",
       "<p>27075 rows × 18 columns</p>\n",
       "</div>"
      ],
      "text/plain": [
       "         appid                        name release_date  english  \\\n",
       "0           10              Counter-Strike   2000-11-01        1   \n",
       "1           20       Team Fortress Classic   1999-04-01        1   \n",
       "2           30               Day of Defeat   2003-05-01        1   \n",
       "3           40          Deathmatch Classic   2001-06-01        1   \n",
       "4           50   Half-Life: Opposing Force   1999-11-01        1   \n",
       "...        ...                         ...          ...      ...   \n",
       "27070  1065230             Room of Pandora   2019-04-24        1   \n",
       "27071  1065570                   Cyber Gun   2019-04-23        1   \n",
       "27072  1065650            Super Star Blast   2019-04-24        1   \n",
       "27073  1066700  New Yankee 7: Deer Hunters   2019-04-17        1   \n",
       "27074  1069460                   Rune Lord   2019-04-24        1   \n",
       "\n",
       "                developer             publisher          platforms  \\\n",
       "0                   Valve                 Valve  windows;mac;linux   \n",
       "1                   Valve                 Valve  windows;mac;linux   \n",
       "2                   Valve                 Valve  windows;mac;linux   \n",
       "3                   Valve                 Valve  windows;mac;linux   \n",
       "4        Gearbox Software                 Valve  windows;mac;linux   \n",
       "...                   ...                   ...                ...   \n",
       "27070         SHEN JIAWEI           SHEN JIAWEI            windows   \n",
       "27071      Semyon Maximov      BekkerDev Studio            windows   \n",
       "27072         EntwicklerX           EntwicklerX            windows   \n",
       "27073  Yustas Game Studio  Alawar Entertainment        windows;mac   \n",
       "27074    Adept Studios GD  Alawar Entertainment        windows;mac   \n",
       "\n",
       "       required_age                                         categories  \\\n",
       "0                 0  Multi-player;Online Multi-Player;Local Multi-P...   \n",
       "1                 0  Multi-player;Online Multi-Player;Local Multi-P...   \n",
       "2                 0              Multi-player;Valve Anti-Cheat enabled   \n",
       "3                 0  Multi-player;Online Multi-Player;Local Multi-P...   \n",
       "4                 0  Single-player;Multi-player;Valve Anti-Cheat en...   \n",
       "...             ...                                                ...   \n",
       "27070             0                   Single-player;Steam Achievements   \n",
       "27071             0                                      Single-player   \n",
       "27072             0  Single-player;Multi-player;Co-op;Shared/Split ...   \n",
       "27073             0                          Single-player;Steam Cloud   \n",
       "27074             0                          Single-player;Steam Cloud   \n",
       "\n",
       "                       genres                 steamspy_tags  achievements  \\\n",
       "0                      Action        Action;FPS;Multiplayer             0   \n",
       "1                      Action        Action;FPS;Multiplayer             0   \n",
       "2                      Action  FPS;World War II;Multiplayer             0   \n",
       "3                      Action        Action;FPS;Multiplayer             0   \n",
       "4                      Action             FPS;Action;Sci-fi             0   \n",
       "...                       ...                           ...           ...   \n",
       "27070  Adventure;Casual;Indie        Adventure;Indie;Casual             7   \n",
       "27071  Action;Adventure;Indie        Action;Indie;Adventure             0   \n",
       "27072     Action;Casual;Indie           Action;Indie;Casual            24   \n",
       "27073  Adventure;Casual;Indie        Indie;Casual;Adventure             0   \n",
       "27074  Adventure;Casual;Indie        Indie;Casual;Adventure             0   \n",
       "\n",
       "       positive_ratings  negative_ratings  average_playtime  median_playtime  \\\n",
       "0                124534              3339             17612              317   \n",
       "1                  3318               633               277               62   \n",
       "2                  3416               398               187               34   \n",
       "3                  1273               267               258              184   \n",
       "4                  5250               288               624              415   \n",
       "...                 ...               ...               ...              ...   \n",
       "27070                 3                 0                 0                0   \n",
       "27071                 8                 1                 0                0   \n",
       "27072                 0                 1                 0                0   \n",
       "27073                 2                 0                 0                0   \n",
       "27074                 4                 0                 0                0   \n",
       "\n",
       "                  owners  price  \n",
       "0      10000000-20000000   7.19  \n",
       "1       5000000-10000000   3.99  \n",
       "2       5000000-10000000   3.99  \n",
       "3       5000000-10000000   3.99  \n",
       "4       5000000-10000000   3.99  \n",
       "...                  ...    ...  \n",
       "27070            0-20000   2.09  \n",
       "27071            0-20000   1.69  \n",
       "27072            0-20000   3.99  \n",
       "27073            0-20000   5.19  \n",
       "27074            0-20000   5.19  \n",
       "\n",
       "[27075 rows x 18 columns]"
      ]
     },
     "execution_count": 4,
     "metadata": {},
     "output_type": "execute_result"
    }
   ],
   "source": [
    "steam_df = pd.read_csv('steam.csv')\n",
    "steam_df"
   ]
  },
  {
   "cell_type": "markdown",
   "id": "1f206ca0",
   "metadata": {},
   "source": [
    "## Checking for missing data"
   ]
  },
  {
   "cell_type": "code",
   "execution_count": 5,
   "id": "a283b125",
   "metadata": {
    "ExecuteTime": {
     "end_time": "2022-09-03T05:57:01.423576Z",
     "start_time": "2022-09-03T05:57:01.386666Z"
    }
   },
   "outputs": [
    {
     "data": {
      "text/plain": [
       "appid               0\n",
       "name                0\n",
       "release_date        0\n",
       "english             0\n",
       "developer           0\n",
       "publisher           0\n",
       "platforms           0\n",
       "required_age        0\n",
       "categories          0\n",
       "genres              0\n",
       "steamspy_tags       0\n",
       "achievements        0\n",
       "positive_ratings    0\n",
       "negative_ratings    0\n",
       "average_playtime    0\n",
       "median_playtime     0\n",
       "owners              0\n",
       "price               0\n",
       "dtype: int64"
      ]
     },
     "execution_count": 5,
     "metadata": {},
     "output_type": "execute_result"
    }
   ],
   "source": [
    "steam_df.isna().sum()"
   ]
  },
  {
   "cell_type": "code",
   "execution_count": 6,
   "id": "6cdee8c0",
   "metadata": {
    "ExecuteTime": {
     "end_time": "2022-09-03T05:57:08.064910Z",
     "start_time": "2022-09-03T05:57:08.047942Z"
    }
   },
   "outputs": [
    {
     "data": {
      "text/plain": [
       "appid                 int64\n",
       "name                 object\n",
       "release_date         object\n",
       "english               int64\n",
       "developer            object\n",
       "publisher            object\n",
       "platforms            object\n",
       "required_age          int64\n",
       "categories           object\n",
       "genres               object\n",
       "steamspy_tags        object\n",
       "achievements          int64\n",
       "positive_ratings      int64\n",
       "negative_ratings      int64\n",
       "average_playtime      int64\n",
       "median_playtime       int64\n",
       "owners               object\n",
       "price               float64\n",
       "dtype: object"
      ]
     },
     "execution_count": 6,
     "metadata": {},
     "output_type": "execute_result"
    }
   ],
   "source": [
    "steam_df.dtypes"
   ]
  },
  {
   "cell_type": "markdown",
   "id": "4be1d939",
   "metadata": {},
   "source": [
    "## Statistics"
   ]
  },
  {
   "cell_type": "code",
   "execution_count": 26,
   "id": "d82a1222",
   "metadata": {
    "ExecuteTime": {
     "end_time": "2022-09-03T06:17:47.309009Z",
     "start_time": "2022-09-03T06:17:47.299044Z"
    }
   },
   "outputs": [
    {
     "data": {
      "text/plain": [
       "0       10000000-20000000\n",
       "1        5000000-10000000\n",
       "2         2000000-5000000\n",
       "3       20000000-50000000\n",
       "4     100000000-200000000\n",
       "5      50000000-100000000\n",
       "6             20000-50000\n",
       "7          500000-1000000\n",
       "8           100000-200000\n",
       "9            50000-100000\n",
       "10        1000000-2000000\n",
       "11          200000-500000\n",
       "12                0-20000\n",
       "dtype: object"
      ]
     },
     "execution_count": 26,
     "metadata": {},
     "output_type": "execute_result"
    }
   ],
   "source": [
    "pd.Series(steam_df['owners'].unique())"
   ]
  },
  {
   "cell_type": "code",
   "execution_count": 30,
   "id": "2e72538b",
   "metadata": {
    "ExecuteTime": {
     "end_time": "2022-09-03T06:21:50.997822Z",
     "start_time": "2022-09-03T06:21:50.986860Z"
    }
   },
   "outputs": [
    {
     "data": {
      "text/plain": [
       "{'10000000-20000000': 15000000,\n",
       " '5000000-10000000': 7500000,\n",
       " '2000000-5000000': 3500000,\n",
       " '20000000-50000000': 35000000,\n",
       " '100000000-200000000': 150000000,\n",
       " '50000000-100000000': 75000000,\n",
       " '20000-50000': 35000,\n",
       " '500000-1000000': 750000,\n",
       " '100000-200000': 150000,\n",
       " '50000-100000': 75000,\n",
       " '1000000-2000000': 1500000,\n",
       " '200000-500000': 350000,\n",
       " '0-20000': 10000}"
      ]
     },
     "execution_count": 30,
     "metadata": {},
     "output_type": "execute_result"
    }
   ],
   "source": [
    "ave_owners = np.array([15_000_000, 7_500_000, 3_500_000, 35_000_000, \n",
    "                       150_000_000, 75_000_000, 35_000, 750_000, 150_000, \n",
    "                       75_000, 1_500_000, 350_000, 10_000])\n",
    "owner_dict = dict(zip(steam_df['owners'].unique(), ave_owners))\n",
    "owner_dict"
   ]
  },
  {
   "cell_type": "code",
   "execution_count": 32,
   "id": "11e08db9",
   "metadata": {
    "ExecuteTime": {
     "end_time": "2022-09-03T06:23:40.436065Z",
     "start_time": "2022-09-03T06:23:40.398546Z"
    }
   },
   "outputs": [],
   "source": [
    "main_df = steam_df.replace({'owners': owner_dict})"
   ]
  },
  {
   "cell_type": "code",
   "execution_count": 33,
   "id": "1d5bf15a",
   "metadata": {
    "ExecuteTime": {
     "end_time": "2022-09-03T06:23:45.219281Z",
     "start_time": "2022-09-03T06:23:45.165488Z"
    }
   },
   "outputs": [
    {
     "data": {
      "text/html": [
       "<div>\n",
       "<style scoped>\n",
       "    .dataframe tbody tr th:only-of-type {\n",
       "        vertical-align: middle;\n",
       "    }\n",
       "\n",
       "    .dataframe tbody tr th {\n",
       "        vertical-align: top;\n",
       "    }\n",
       "\n",
       "    .dataframe thead th {\n",
       "        text-align: right;\n",
       "    }\n",
       "</style>\n",
       "<table border=\"1\" class=\"dataframe\">\n",
       "  <thead>\n",
       "    <tr style=\"text-align: right;\">\n",
       "      <th></th>\n",
       "      <th>required_age</th>\n",
       "      <th>achievements</th>\n",
       "      <th>positive_ratings</th>\n",
       "      <th>negative_ratings</th>\n",
       "      <th>average_playtime</th>\n",
       "      <th>median_playtime</th>\n",
       "      <th>owners</th>\n",
       "      <th>price</th>\n",
       "    </tr>\n",
       "  </thead>\n",
       "  <tbody>\n",
       "    <tr>\n",
       "      <th>count</th>\n",
       "      <td>27075.000000</td>\n",
       "      <td>27075.000000</td>\n",
       "      <td>2.707500e+04</td>\n",
       "      <td>27075.000000</td>\n",
       "      <td>27075.000000</td>\n",
       "      <td>27075.00000</td>\n",
       "      <td>2.707500e+04</td>\n",
       "      <td>27075.000000</td>\n",
       "    </tr>\n",
       "    <tr>\n",
       "      <th>mean</th>\n",
       "      <td>0.354903</td>\n",
       "      <td>45.248864</td>\n",
       "      <td>1.000559e+03</td>\n",
       "      <td>211.027147</td>\n",
       "      <td>149.804949</td>\n",
       "      <td>146.05603</td>\n",
       "      <td>1.340905e+05</td>\n",
       "      <td>6.078193</td>\n",
       "    </tr>\n",
       "    <tr>\n",
       "      <th>std</th>\n",
       "      <td>2.406044</td>\n",
       "      <td>352.670281</td>\n",
       "      <td>1.898872e+04</td>\n",
       "      <td>4284.938531</td>\n",
       "      <td>1827.038141</td>\n",
       "      <td>2353.88008</td>\n",
       "      <td>1.328089e+06</td>\n",
       "      <td>7.874922</td>\n",
       "    </tr>\n",
       "    <tr>\n",
       "      <th>min</th>\n",
       "      <td>0.000000</td>\n",
       "      <td>0.000000</td>\n",
       "      <td>0.000000e+00</td>\n",
       "      <td>0.000000</td>\n",
       "      <td>0.000000</td>\n",
       "      <td>0.00000</td>\n",
       "      <td>1.000000e+04</td>\n",
       "      <td>0.000000</td>\n",
       "    </tr>\n",
       "    <tr>\n",
       "      <th>25%</th>\n",
       "      <td>0.000000</td>\n",
       "      <td>0.000000</td>\n",
       "      <td>6.000000e+00</td>\n",
       "      <td>2.000000</td>\n",
       "      <td>0.000000</td>\n",
       "      <td>0.00000</td>\n",
       "      <td>1.000000e+04</td>\n",
       "      <td>1.690000</td>\n",
       "    </tr>\n",
       "    <tr>\n",
       "      <th>50%</th>\n",
       "      <td>0.000000</td>\n",
       "      <td>7.000000</td>\n",
       "      <td>2.400000e+01</td>\n",
       "      <td>9.000000</td>\n",
       "      <td>0.000000</td>\n",
       "      <td>0.00000</td>\n",
       "      <td>1.000000e+04</td>\n",
       "      <td>3.990000</td>\n",
       "    </tr>\n",
       "    <tr>\n",
       "      <th>75%</th>\n",
       "      <td>0.000000</td>\n",
       "      <td>23.000000</td>\n",
       "      <td>1.260000e+02</td>\n",
       "      <td>42.000000</td>\n",
       "      <td>0.000000</td>\n",
       "      <td>0.00000</td>\n",
       "      <td>3.500000e+04</td>\n",
       "      <td>7.190000</td>\n",
       "    </tr>\n",
       "    <tr>\n",
       "      <th>max</th>\n",
       "      <td>18.000000</td>\n",
       "      <td>9821.000000</td>\n",
       "      <td>2.644404e+06</td>\n",
       "      <td>487076.000000</td>\n",
       "      <td>190625.000000</td>\n",
       "      <td>190625.00000</td>\n",
       "      <td>1.500000e+08</td>\n",
       "      <td>421.990000</td>\n",
       "    </tr>\n",
       "  </tbody>\n",
       "</table>\n",
       "</div>"
      ],
      "text/plain": [
       "       required_age  achievements  positive_ratings  negative_ratings  \\\n",
       "count  27075.000000  27075.000000      2.707500e+04      27075.000000   \n",
       "mean       0.354903     45.248864      1.000559e+03        211.027147   \n",
       "std        2.406044    352.670281      1.898872e+04       4284.938531   \n",
       "min        0.000000      0.000000      0.000000e+00          0.000000   \n",
       "25%        0.000000      0.000000      6.000000e+00          2.000000   \n",
       "50%        0.000000      7.000000      2.400000e+01          9.000000   \n",
       "75%        0.000000     23.000000      1.260000e+02         42.000000   \n",
       "max       18.000000   9821.000000      2.644404e+06     487076.000000   \n",
       "\n",
       "       average_playtime  median_playtime        owners         price  \n",
       "count      27075.000000      27075.00000  2.707500e+04  27075.000000  \n",
       "mean         149.804949        146.05603  1.340905e+05      6.078193  \n",
       "std         1827.038141       2353.88008  1.328089e+06      7.874922  \n",
       "min            0.000000          0.00000  1.000000e+04      0.000000  \n",
       "25%            0.000000          0.00000  1.000000e+04      1.690000  \n",
       "50%            0.000000          0.00000  1.000000e+04      3.990000  \n",
       "75%            0.000000          0.00000  3.500000e+04      7.190000  \n",
       "max       190625.000000     190625.00000  1.500000e+08    421.990000  "
      ]
     },
     "execution_count": 33,
     "metadata": {},
     "output_type": "execute_result"
    }
   ],
   "source": [
    "main_df.drop(columns=['appid', 'english']).describe()"
   ]
  },
  {
   "cell_type": "markdown",
   "id": "7bde18f7",
   "metadata": {},
   "source": [
    "# Univariate Analysis"
   ]
  },
  {
   "cell_type": "markdown",
   "id": "f8956c5e",
   "metadata": {},
   "source": [
    "## Counting values"
   ]
  },
  {
   "cell_type": "markdown",
   "id": "f1e1a6d0",
   "metadata": {},
   "source": [
    "### Number of games by developer"
   ]
  },
  {
   "cell_type": "code",
   "execution_count": 39,
   "id": "2f94a305",
   "metadata": {
    "ExecuteTime": {
     "end_time": "2022-09-03T06:30:05.538867Z",
     "start_time": "2022-09-03T06:30:05.504684Z"
    }
   },
   "outputs": [
    {
     "data": {
      "text/plain": [
       "Choice of Games               94\n",
       "KOEI TECMO GAMES CO., LTD.    72\n",
       "Ripknot Systems               62\n",
       "Laush Dmitriy Sergeevich      51\n",
       "Nikita \"Ghost_RUS\"            50\n",
       "                              ..\n",
       "CRAPPY ZOMBIE GAME STUDIO      1\n",
       "Ramon Mujica                   1\n",
       "Oomst Games                    1\n",
       "Joe Censored Games             1\n",
       "Adept Studios GD               1\n",
       "Name: developer, Length: 17113, dtype: int64"
      ]
     },
     "execution_count": 39,
     "metadata": {},
     "output_type": "execute_result"
    }
   ],
   "source": [
    "main_df['developer'].value_counts()"
   ]
  },
  {
   "cell_type": "markdown",
   "id": "b609d303",
   "metadata": {
    "ExecuteTime": {
     "end_time": "2022-09-03T06:25:30.388166Z",
     "start_time": "2022-09-03T06:25:30.351941Z"
    }
   },
   "source": [
    "### Number of games by publisher"
   ]
  },
  {
   "cell_type": "code",
   "execution_count": 40,
   "id": "5b00d54e",
   "metadata": {
    "ExecuteTime": {
     "end_time": "2022-09-03T06:31:19.818392Z",
     "start_time": "2022-09-03T06:31:19.781546Z"
    }
   },
   "outputs": [
    {
     "data": {
      "text/plain": [
       "Big Fish Games           212\n",
       "Strategy First           136\n",
       "Ubisoft                  111\n",
       "THQ Nordic                98\n",
       "Square Enix               97\n",
       "                        ... \n",
       "Tonka3D                    1\n",
       "guyhezi                    1\n",
       "Robert Gammon              1\n",
       "Phun Peeticharoenthum      1\n",
       "SHEN JIAWEI                1\n",
       "Name: publisher, Length: 14354, dtype: int64"
      ]
     },
     "execution_count": 40,
     "metadata": {},
     "output_type": "execute_result"
    }
   ],
   "source": [
    "main_df['publisher'].value_counts()"
   ]
  },
  {
   "cell_type": "markdown",
   "id": "791abd2e",
   "metadata": {},
   "source": [
    "### Number of games by age restriction"
   ]
  },
  {
   "cell_type": "code",
   "execution_count": 42,
   "id": "9f2d591e",
   "metadata": {
    "ExecuteTime": {
     "end_time": "2022-09-03T06:32:12.569020Z",
     "start_time": "2022-09-03T06:32:12.543641Z"
    }
   },
   "outputs": [
    {
     "data": {
      "text/plain": [
       "0     26479\n",
       "18      308\n",
       "16      192\n",
       "12       73\n",
       "7        12\n",
       "3        11\n",
       "Name: required_age, dtype: int64"
      ]
     },
     "execution_count": 42,
     "metadata": {},
     "output_type": "execute_result"
    }
   ],
   "source": [
    "main_df['required_age'].value_counts()"
   ]
  },
  {
   "cell_type": "markdown",
   "id": "784399f8",
   "metadata": {},
   "source": [
    "### Number of games by platform"
   ]
  },
  {
   "cell_type": "code",
   "execution_count": 44,
   "id": "c8722c54",
   "metadata": {
    "ExecuteTime": {
     "end_time": "2022-09-03T06:33:51.379394Z",
     "start_time": "2022-09-03T06:33:51.368422Z"
    }
   },
   "outputs": [
    {
     "data": {
      "text/plain": [
       "windows              18398\n",
       "windows;mac;linux     4623\n",
       "windows;mac           3439\n",
       "windows;linux          610\n",
       "mac                      3\n",
       "mac;linux                1\n",
       "linux                    1\n",
       "Name: platforms, dtype: int64"
      ]
     },
     "execution_count": 44,
     "metadata": {},
     "output_type": "execute_result"
    }
   ],
   "source": [
    "main_df['platforms'].value_counts()"
   ]
  },
  {
   "cell_type": "markdown",
   "id": "454876c9",
   "metadata": {},
   "source": [
    "### Number of games by category\n",
    "\n",
    "Note that categories are not mutually exclusive. Therefore, the total count per category does not correspond to the total number of games, that is, some games may be counted in multiple categories."
   ]
  },
  {
   "cell_type": "markdown",
   "id": "c7c3bd9f",
   "metadata": {},
   "source": [
    "#### Wrangling"
   ]
  },
  {
   "cell_type": "code",
   "execution_count": 89,
   "id": "71acceb7",
   "metadata": {
    "ExecuteTime": {
     "end_time": "2022-09-03T06:51:06.925226Z",
     "start_time": "2022-09-03T06:51:06.871130Z"
    }
   },
   "outputs": [
    {
     "data": {
      "text/plain": [
       "0                   Online Co-op\n",
       "1                  Single-player\n",
       "2        Full controller support\n",
       "3                 Steam Workshop\n",
       "4           SteamVR Collectibles\n",
       "5             Captions available\n",
       "6       Valve Anti-Cheat enabled\n",
       "7                            MMO\n",
       "8            Shared/Split Screen\n",
       "9                     VR Support\n",
       "10    Partial Controller Support\n",
       "11    Cross-Platform Multiplayer\n",
       "12            Mods (require HL2)\n",
       "13                         Co-op\n",
       "14          Commentary available\n",
       "15                   Local Co-op\n",
       "16            Steam Leaderboards\n",
       "17                  Multi-player\n",
       "18                   Steam Cloud\n",
       "19           Steam Trading Cards\n",
       "20            Steam Achievements\n",
       "21                         Stats\n",
       "22            Local Multi-Player\n",
       "23      Steam Turn Notifications\n",
       "24           Includes Source SDK\n",
       "25              In-App Purchases\n",
       "26                          Mods\n",
       "27         Includes level editor\n",
       "28           Online Multi-Player\n",
       "dtype: object"
      ]
     },
     "execution_count": 89,
     "metadata": {},
     "output_type": "execute_result"
    }
   ],
   "source": [
    "# Find all unique categories\n",
    "categories = np.array(list(set([cat for entry in main_df['categories']\n",
    "                                .str.split(';').tolist() \n",
    "                                for cat in entry])))\n",
    "pd.Series(categories)"
   ]
  },
  {
   "cell_type": "markdown",
   "id": "367cf815",
   "metadata": {},
   "source": [
    "#### Counting"
   ]
  },
  {
   "cell_type": "code",
   "execution_count": 152,
   "id": "d938d45a",
   "metadata": {
    "ExecuteTime": {
     "end_time": "2022-09-03T07:22:03.567514Z",
     "start_time": "2022-09-03T07:22:03.545571Z"
    }
   },
   "outputs": [
    {
     "data": {
      "text/plain": [
       "Single-player                                                                                                              6110\n",
       "Single-player;Steam Achievements                                                                                           2334\n",
       "Single-player;Steam Achievements;Steam Trading Cards                                                                        848\n",
       "Single-player;Partial Controller Support                                                                                    804\n",
       "Single-player;Steam Trading Cards                                                                                           792\n",
       "                                                                                                                           ... \n",
       "Single-player;Steam Achievements;Steam Trading Cards;Captions available;Partial Controller Support;Commentary available       1\n",
       "Single-player;Steam Achievements;Full controller support;Steam Trading Cards;VR Support;Steam Cloud;Steam Leaderboards        1\n",
       "Single-player;Multi-player;Co-op;Cross-Platform Multiplayer;Steam Achievements;Includes level editor                          1\n",
       "Single-player;Cross-Platform Multiplayer;Partial Controller Support                                                           1\n",
       "Multi-player;Online Multi-Player;Cross-Platform Multiplayer;Stats                                                             1\n",
       "Name: categories, Length: 3333, dtype: int64"
      ]
     },
     "execution_count": 152,
     "metadata": {},
     "output_type": "execute_result"
    }
   ],
   "source": [
    "# Number of games by unique combination of categories\n",
    "cat_per_entry = main_df['categories'].value_counts()\n",
    "cat_per_entry"
   ]
  },
  {
   "cell_type": "code",
   "execution_count": 153,
   "id": "0e6c22e6",
   "metadata": {
    "ExecuteTime": {
     "end_time": "2022-09-03T07:22:06.401694Z",
     "start_time": "2022-09-03T07:22:06.232607Z"
    }
   },
   "outputs": [
    {
     "name": "stderr",
     "output_type": "stream",
     "text": [
      "C:\\Users\\Jam\\AppData\\Local\\Temp/ipykernel_3468/2059306212.py:2: UserWarning: This pattern has match groups. To actually get the groups, use str.extract.\n",
      "  cat_counts = (pd.DataFrame((cat, cat_per_entry[cat_per_entry\n"
     ]
    },
    {
     "data": {
      "text/plain": [
       "categories\n",
       "Single-player                 25678\n",
       "Steam Achievements            14130\n",
       "Steam Trading Cards            7918\n",
       "Steam Cloud                    7219\n",
       "Full controller support        5695\n",
       "Partial Controller Support     4234\n",
       "Multi-player                   3974\n",
       "Steam Leaderboards             3439\n",
       "Co-op                          2604\n",
       "Online Multi-Player            2487\n",
       "Shared/Split Screen            2152\n",
       "Stats                          1878\n",
       "Local Multi-Player             1615\n",
       "Cross-Platform Multiplayer     1081\n",
       "Online Co-op                   1071\n",
       "Local Co-op                    1059\n",
       "Includes level editor          1036\n",
       "Steam Workshop                  897\n",
       "Captions available              721\n",
       "In-App Purchases                690\n",
       "MMO                             421\n",
       "VR Support                      231\n",
       "Commentary available            144\n",
       "Valve Anti-Cheat enabled         94\n",
       "Steam Turn Notifications         63\n",
       "SteamVR Collectibles             40\n",
       "Includes Source SDK              35\n",
       "Mods                              2\n",
       "Mods (require HL2)                0\n",
       "Name: count, dtype: int64"
      ]
     },
     "execution_count": 153,
     "metadata": {},
     "output_type": "execute_result"
    }
   ],
   "source": [
    "# Number of games by category\n",
    "cat_counts = (pd.DataFrame((cat, cat_per_entry[cat_per_entry\n",
    "                                              .index\n",
    "                                              .str.contains(cat)]\n",
    "                           .sum()) for cat in categories)\n",
    "              .rename(columns={0:'categories', 1:'count'})\n",
    "              .set_index('categories')\n",
    "              .squeeze().sort_values(ascending=False))\n",
    "cat_counts"
   ]
  },
  {
   "cell_type": "markdown",
   "id": "df070ff2",
   "metadata": {},
   "source": [
    "### Number of games by genre\n",
    "\n",
    "Note that genres are not mutually exclusive. Therefore, the total count per genre does not correspond to the total number of games, that is, some games may be counted in multiple genres."
   ]
  },
  {
   "cell_type": "markdown",
   "id": "a3455579",
   "metadata": {},
   "source": [
    "#### Wrangling"
   ]
  },
  {
   "cell_type": "code",
   "execution_count": 169,
   "id": "cf7d4a25",
   "metadata": {
    "ExecuteTime": {
     "end_time": "2022-09-03T07:35:30.689157Z",
     "start_time": "2022-09-03T07:35:30.638680Z"
    }
   },
   "outputs": [
    {
     "data": {
      "text/plain": [
       "0                 Adventure\n",
       "1     Design & Illustration\n",
       "2                    Nudity\n",
       "3                       RPG\n",
       "4                   Violent\n",
       "5                      Gore\n",
       "6                  Strategy\n",
       "7          Audio Production\n",
       "8                Accounting\n",
       "9               Documentary\n",
       "10                   Action\n",
       "11                    Indie\n",
       "12        Software Training\n",
       "13               Simulation\n",
       "14           Sexual Content\n",
       "15                 Tutorial\n",
       "16                Utilities\n",
       "17            Photo Editing\n",
       "18     Animation & Modeling\n",
       "19                   Sports\n",
       "20    Massively Multiplayer\n",
       "21                Education\n",
       "22                   Racing\n",
       "23                   Casual\n",
       "24           Web Publishing\n",
       "25             Early Access\n",
       "26         Game Development\n",
       "27         Video Production\n",
       "28             Free to Play\n",
       "dtype: object"
      ]
     },
     "execution_count": 169,
     "metadata": {},
     "output_type": "execute_result"
    }
   ],
   "source": [
    "genres = np.array(list(set([gen for entry in main_df['genres']\n",
    "                                .str.split(';').tolist() \n",
    "                                for gen in entry])))\n",
    "pd.Series(genres)"
   ]
  },
  {
   "cell_type": "markdown",
   "id": "a9fac8a7",
   "metadata": {},
   "source": [
    "#### Counting"
   ]
  },
  {
   "cell_type": "code",
   "execution_count": 170,
   "id": "f5597c86",
   "metadata": {
    "ExecuteTime": {
     "end_time": "2022-09-03T07:35:32.560515Z",
     "start_time": "2022-09-03T07:35:32.547478Z"
    }
   },
   "outputs": [
    {
     "data": {
      "text/plain": [
       "Action;Indie                                                             1852\n",
       "Casual;Indie                                                             1482\n",
       "Action;Adventure;Indie                                                   1229\n",
       "Adventure;Indie                                                          1170\n",
       "Action;Casual;Indie                                                      1004\n",
       "                                                                         ... \n",
       "Sexual Content;Violent;Gore;Action;Casual;Free to Play;Indie;Strategy       1\n",
       "Nudity;Violent;Gore;Adventure;Indie;RPG;Early Access                        1\n",
       "Violent;Action;Adventure;Casual;Indie;RPG;Early Access                      1\n",
       "Indie;Simulation;Web Publishing                                             1\n",
       "Casual;Free to Play;Massively Multiplayer;RPG;Early Access                  1\n",
       "Name: genres, Length: 1552, dtype: int64"
      ]
     },
     "execution_count": 170,
     "metadata": {},
     "output_type": "execute_result"
    }
   ],
   "source": [
    "# Number of games by unique combination of genres\n",
    "gen_per_entry = main_df['genres'].value_counts()\n",
    "gen_per_entry"
   ]
  },
  {
   "cell_type": "code",
   "execution_count": 171,
   "id": "f05ed234",
   "metadata": {
    "ExecuteTime": {
     "end_time": "2022-09-03T07:35:35.116512Z",
     "start_time": "2022-09-03T07:35:35.056351Z"
    }
   },
   "outputs": [
    {
     "data": {
      "text/plain": [
       "genres\n",
       "Indie                    19421\n",
       "Action                   11903\n",
       "Casual                   10210\n",
       "Adventure                10032\n",
       "Strategy                  5247\n",
       "Simulation                5194\n",
       "RPG                       4311\n",
       "Early Access              2954\n",
       "Free to Play              1704\n",
       "Sports                    1322\n",
       "Racing                    1024\n",
       "Violent                    843\n",
       "Massively Multiplayer      723\n",
       "Gore                       537\n",
       "Nudity                     266\n",
       "Sexual Content             245\n",
       "Utilities                  146\n",
       "Design & Illustration       87\n",
       "Animation & Modeling        79\n",
       "Education                   51\n",
       "Video Production            38\n",
       "Software Training           31\n",
       "Audio Production            29\n",
       "Web Publishing              28\n",
       "Game Development            17\n",
       "Photo Editing               12\n",
       "Accounting                   6\n",
       "Tutorial                     1\n",
       "Documentary                  1\n",
       "Name: count, dtype: int64"
      ]
     },
     "execution_count": 171,
     "metadata": {},
     "output_type": "execute_result"
    }
   ],
   "source": [
    "# Number of games by genres\n",
    "gen_counts = (pd.DataFrame((gen, gen_per_entry[gen_per_entry\n",
    "                                              .index\n",
    "                                              .str.contains(gen)]\n",
    "                           .sum()) for gen in genres)\n",
    "              .rename(columns={0:'genres', 1:'count'})\n",
    "              .set_index('genres')\n",
    "              .squeeze().sort_values(ascending=False))\n",
    "gen_counts"
   ]
  },
  {
   "cell_type": "markdown",
   "id": "954d001d",
   "metadata": {},
   "source": [
    "### Number of games by SteamSpy tags\n",
    "\n",
    "Note that SteamSpy tags are not mutually exclusive. Therefore, the total count per SteamSpy tag does not correspond to the total number of games, that is, some games may be counted in multiple SteamSpy tags."
   ]
  },
  {
   "cell_type": "markdown",
   "id": "2be087ef",
   "metadata": {},
   "source": [
    "#### Wrangling"
   ]
  },
  {
   "cell_type": "code",
   "execution_count": 172,
   "id": "ba6aaa94",
   "metadata": {
    "ExecuteTime": {
     "end_time": "2022-09-03T07:36:09.382951Z",
     "start_time": "2022-09-03T07:36:09.319869Z"
    }
   },
   "outputs": [
    {
     "data": {
      "text/plain": [
       "0                         Demons\n",
       "1                          Short\n",
       "2      Choose Your Own Adventure\n",
       "3                       RPGMaker\n",
       "4                          Blood\n",
       "                 ...            \n",
       "334                        Faith\n",
       "335                      Economy\n",
       "336                      Shooter\n",
       "337          Interactive Fiction\n",
       "338                  Bullet Hell\n",
       "Length: 339, dtype: object"
      ]
     },
     "execution_count": 172,
     "metadata": {},
     "output_type": "execute_result"
    }
   ],
   "source": [
    "tags = np.array(list(set([tag for entry in main_df['steamspy_tags']\n",
    "                                .str.split(';').tolist() \n",
    "                                for tag in entry])))\n",
    "pd.Series(tags)"
   ]
  },
  {
   "cell_type": "markdown",
   "id": "6fa27aa0",
   "metadata": {},
   "source": [
    "#### Counting"
   ]
  },
  {
   "cell_type": "code",
   "execution_count": 173,
   "id": "33fb2a20",
   "metadata": {
    "ExecuteTime": {
     "end_time": "2022-09-03T07:38:11.775293Z",
     "start_time": "2022-09-03T07:38:11.754034Z"
    }
   },
   "outputs": [
    {
     "data": {
      "text/plain": [
       "Action;Indie;Casual                      845\n",
       "Action;Adventure;Indie                   714\n",
       "Early Access;Action;Indie                507\n",
       "Adventure;Indie;Casual                   442\n",
       "Indie;Casual                             378\n",
       "                                        ... \n",
       "Action;Adventure;Warhammer 40K             1\n",
       "Anime;RPG;Cute                             1\n",
       "Action;Casual;Tower Defense                1\n",
       "RPG;Turn-Based;Co-op                       1\n",
       "Early Access;Adventure;Sexual Content      1\n",
       "Name: steamspy_tags, Length: 6423, dtype: int64"
      ]
     },
     "execution_count": 173,
     "metadata": {},
     "output_type": "execute_result"
    }
   ],
   "source": [
    "# Number of games by unique combination of tags\n",
    "tag_per_entry = main_df['steamspy_tags'].value_counts()\n",
    "tag_per_entry"
   ]
  },
  {
   "cell_type": "code",
   "execution_count": 177,
   "id": "0b07874f",
   "metadata": {
    "ExecuteTime": {
     "end_time": "2022-09-03T07:40:07.868995Z",
     "start_time": "2022-09-03T07:40:06.170823Z"
    }
   },
   "outputs": [
    {
     "data": {
      "text/plain": [
       "tags\n",
       "Indie                                16232\n",
       "Action                               10344\n",
       "Casual                                8205\n",
       "Adventure                             7796\n",
       "Strategy                              4180\n",
       "                                     ...  \n",
       "Sailing                                  1\n",
       "Stylized                                 1\n",
       "2.5D                                     1\n",
       "Music-Based Procedural Generation        1\n",
       "Spectacle fighter                        1\n",
       "Name: count, Length: 339, dtype: int64"
      ]
     },
     "execution_count": 177,
     "metadata": {},
     "output_type": "execute_result"
    }
   ],
   "source": [
    "# Number of games by tags\n",
    "tag_counts = (pd.DataFrame((tag, tag_per_entry[tag_per_entry\n",
    "                                              .index\n",
    "                                              .str.contains(tag)]\n",
    "                           .sum()) for tag in tags)\n",
    "              .rename(columns={0:'tags', 1:'count'})\n",
    "              .set_index('tags')\n",
    "              .squeeze().sort_values(ascending=False))\n",
    "tag_counts"
   ]
  },
  {
   "cell_type": "markdown",
   "id": "bbfc5b83",
   "metadata": {
    "ExecuteTime": {
     "end_time": "2022-09-03T07:40:37.016840Z",
     "start_time": "2022-09-03T07:40:36.997889Z"
    }
   },
   "source": [
    "### Checking for overlapping values in categories, genres, and tags."
   ]
  },
  {
   "cell_type": "code",
   "execution_count": 185,
   "id": "1f952779",
   "metadata": {
    "ExecuteTime": {
     "end_time": "2022-09-03T07:47:28.488983Z",
     "start_time": "2022-09-03T07:47:28.480038Z"
    }
   },
   "outputs": [
    {
     "data": {
      "text/plain": [
       "(array([], dtype='<U26'),\n",
       " array(['Action', 'Adventure', 'Animation & Modeling', 'Audio Production',\n",
       "        'Casual', 'Design & Illustration', 'Documentary', 'Early Access',\n",
       "        'Education', 'Free to Play', 'Game Development', 'Gore', 'Indie',\n",
       "        'Massively Multiplayer', 'Nudity', 'Photo Editing', 'RPG',\n",
       "        'Racing', 'Sexual Content', 'Simulation', 'Software Training',\n",
       "        'Sports', 'Strategy', 'Utilities', 'Video Production', 'Violent',\n",
       "        'Web Publishing'], dtype='<U33'),\n",
       " array(['Co-op'], dtype='<U33'))"
      ]
     },
     "execution_count": 185,
     "metadata": {},
     "output_type": "execute_result"
    }
   ],
   "source": [
    "(np.intersect1d(categories, genres), \n",
    " np.intersect1d(genres, tags), \n",
    " np.intersect1d(tags, categories))"
   ]
  },
  {
   "cell_type": "markdown",
   "id": "3e8f28e8",
   "metadata": {},
   "source": [
    "**Proposition.**\n",
    "\n",
    "We can neglect the tags that overlap with genres and categories so that we can define tags to be more specific classifications (determined by the community) for the game apart from its designated genres and categories."
   ]
  },
  {
   "cell_type": "markdown",
   "id": "4a273473",
   "metadata": {},
   "source": [
    "### Number of games by price"
   ]
  },
  {
   "cell_type": "code",
   "execution_count": 227,
   "id": "b8f86d56",
   "metadata": {
    "ExecuteTime": {
     "end_time": "2022-09-03T08:10:30.139416Z",
     "start_time": "2022-09-03T08:10:30.125414Z"
    }
   },
   "outputs": [
    {
     "data": {
      "text/plain": [
       "3.99     3211\n",
       "0.79     2892\n",
       "0.00     2560\n",
       "6.99     2050\n",
       "7.19     1304\n",
       "         ... \n",
       "20.51       1\n",
       "11.95       1\n",
       "3.92        1\n",
       "6.59        1\n",
       "6.10        1\n",
       "Name: price, Length: 282, dtype: int64"
      ]
     },
     "execution_count": 227,
     "metadata": {},
     "output_type": "execute_result"
    }
   ],
   "source": [
    "# There are 282 unique prices\n",
    "main_df['price'].value_counts()"
   ]
  },
  {
   "cell_type": "markdown",
   "id": "d62e5720",
   "metadata": {},
   "source": [
    "### Feature engineering: Price range"
   ]
  },
  {
   "cell_type": "code",
   "execution_count": null,
   "id": "39bc3c34",
   "metadata": {},
   "outputs": [],
   "source": [
    "# 1 GBP to PHP conversion for potential analysis\n",
    "GBP_to_PHP = 65.37"
   ]
  },
  {
   "cell_type": "code",
   "execution_count": 230,
   "id": "5db54940",
   "metadata": {
    "ExecuteTime": {
     "end_time": "2022-09-03T08:13:27.932265Z",
     "start_time": "2022-09-03T08:13:27.902369Z"
    }
   },
   "outputs": [
    {
     "data": {
      "text/plain": [
       "(0.31, 40.0]      24400\n",
       "(-0.1, 0.31]       2560\n",
       "(40.0, 50.0]         77\n",
       "(50.0, 100.0]        27\n",
       "(100.0, 500.0]       11\n",
       "Name: binned_price, dtype: int64"
      ]
     },
     "execution_count": 230,
     "metadata": {},
     "output_type": "execute_result"
    }
   ],
   "source": [
    "# Custom binning to categorize price range\n",
    "price_binning = np.linspace(0, 422, 20)\n",
    "price_binning = np.array([-0.1, 0.31, 40, 50, 100, 500])\n",
    "\n",
    "main_df['binned_price'] = pd.cut(main_df['price'], price_binning)\n",
    "main_df['binned_price'].value_counts()"
   ]
  }
 ],
 "metadata": {
  "kernelspec": {
   "display_name": "Python 3 (ipykernel)",
   "language": "python",
   "name": "python3"
  },
  "language_info": {
   "codemirror_mode": {
    "name": "ipython",
    "version": 3
   },
   "file_extension": ".py",
   "mimetype": "text/x-python",
   "name": "python",
   "nbconvert_exporter": "python",
   "pygments_lexer": "ipython3",
   "version": "3.9.7"
  },
  "toc": {
   "base_numbering": 1,
   "nav_menu": {},
   "number_sections": true,
   "sideBar": true,
   "skip_h1_title": false,
   "title_cell": "Table of Contents",
   "title_sidebar": "Contents",
   "toc_cell": false,
   "toc_position": {},
   "toc_section_display": true,
   "toc_window_display": true
  }
 },
 "nbformat": 4,
 "nbformat_minor": 5
}
